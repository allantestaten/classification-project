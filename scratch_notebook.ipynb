{
 "cells": [
  {
   "cell_type": "code",
   "execution_count": 1,
   "id": "fbba4c90",
   "metadata": {},
   "outputs": [],
   "source": [
    "#all imports for project \n",
    "from pathlib import Path \n",
    "import matplotlib.pyplot as plt\n",
    "import numpy as np\n",
    "import pandas as pd\n",
    "import seaborn as sns\n",
    "from env import get_db_url\n",
    "from scipy import stats\n",
    "from sklearn.ensemble import RandomForestClassifier\n",
    "from sklearn.neighbors import KNeighborsClassifier\n",
    "from sklearn.tree import DecisionTreeClassifier, plot_tree, export_text\n",
    "from sklearn.metrics import classification_report, confusion_matrix, plot_confusion_matrix\n",
    "import sklearn.linear_model\n",
    "from sklearn.linear_model import LogisticRegression\n",
    "\n",
    "# our own acquire script:\n",
    "import acquire \n",
    "\n",
    "import prep\n",
    "\n",
    "#alpha will equal .05 for all statistical tests\n",
    "a = .05\n",
    "\n",
    "np.random.seed(100)"
   ]
  },
  {
   "cell_type": "code",
   "execution_count": 2,
   "id": "0f33f2bf",
   "metadata": {},
   "outputs": [
    {
     "data": {
      "text/plain": [
       "(7043, 24)"
      ]
     },
     "execution_count": 2,
     "metadata": {},
     "output_type": "execute_result"
    }
   ],
   "source": [
    "# acquire data \n",
    "df = acquire.new_telco_data()\n",
    "# rows and columns of data \n",
    "df.shape\n"
   ]
  },
  {
   "cell_type": "code",
   "execution_count": 3,
   "id": "0809ea5b",
   "metadata": {},
   "outputs": [
    {
     "name": "stderr",
     "output_type": "stream",
     "text": [
      "/Users/allantestaten/codeup-data-science/classification-exercises/classification_project/prep.py:39: SettingWithCopyWarning: \n",
      "A value is trying to be set on a copy of a slice from a DataFrame.\n",
      "Try using .loc[row_indexer,col_indexer] = value instead\n",
      "\n",
      "See the caveats in the documentation: https://pandas.pydata.org/pandas-docs/stable/user_guide/indexing.html#returning-a-view-versus-a-copy\n",
      "  df['total_charges'] = df.total_charges.astype(float)\n",
      "/Users/allantestaten/codeup-data-science/classification-exercises/classification_project/prep.py:42: SettingWithCopyWarning: \n",
      "A value is trying to be set on a copy of a slice from a DataFrame.\n",
      "Try using .loc[row_indexer,col_indexer] = value instead\n",
      "\n",
      "See the caveats in the documentation: https://pandas.pydata.org/pandas-docs/stable/user_guide/indexing.html#returning-a-view-versus-a-copy\n",
      "  df['is_female'] = df.gender.map({'Female': 1, 'Male': 0})\n",
      "/Users/allantestaten/codeup-data-science/classification-exercises/classification_project/prep.py:43: SettingWithCopyWarning: \n",
      "A value is trying to be set on a copy of a slice from a DataFrame.\n",
      "Try using .loc[row_indexer,col_indexer] = value instead\n",
      "\n",
      "See the caveats in the documentation: https://pandas.pydata.org/pandas-docs/stable/user_guide/indexing.html#returning-a-view-versus-a-copy\n",
      "  df['has_partner'] = df.partner.map({'Yes': 1, 'No': 0})\n",
      "/Users/allantestaten/codeup-data-science/classification-exercises/classification_project/prep.py:44: SettingWithCopyWarning: \n",
      "A value is trying to be set on a copy of a slice from a DataFrame.\n",
      "Try using .loc[row_indexer,col_indexer] = value instead\n",
      "\n",
      "See the caveats in the documentation: https://pandas.pydata.org/pandas-docs/stable/user_guide/indexing.html#returning-a-view-versus-a-copy\n",
      "  df['has_dependents'] = df.dependents.map({'Yes': 1, 'No': 0})\n",
      "/Users/allantestaten/codeup-data-science/classification-exercises/classification_project/prep.py:45: SettingWithCopyWarning: \n",
      "A value is trying to be set on a copy of a slice from a DataFrame.\n",
      "Try using .loc[row_indexer,col_indexer] = value instead\n",
      "\n",
      "See the caveats in the documentation: https://pandas.pydata.org/pandas-docs/stable/user_guide/indexing.html#returning-a-view-versus-a-copy\n",
      "  df['has_phone_service'] = df.phone_service.map({'Yes': 1, 'No': 0})\n",
      "/Users/allantestaten/codeup-data-science/classification-exercises/classification_project/prep.py:46: SettingWithCopyWarning: \n",
      "A value is trying to be set on a copy of a slice from a DataFrame.\n",
      "Try using .loc[row_indexer,col_indexer] = value instead\n",
      "\n",
      "See the caveats in the documentation: https://pandas.pydata.org/pandas-docs/stable/user_guide/indexing.html#returning-a-view-versus-a-copy\n",
      "  df['has_paperless_billing'] = df.paperless_billing.map({'Yes': 1, 'No': 0})\n",
      "/Users/allantestaten/codeup-data-science/classification-exercises/classification_project/prep.py:47: SettingWithCopyWarning: \n",
      "A value is trying to be set on a copy of a slice from a DataFrame.\n",
      "Try using .loc[row_indexer,col_indexer] = value instead\n",
      "\n",
      "See the caveats in the documentation: https://pandas.pydata.org/pandas-docs/stable/user_guide/indexing.html#returning-a-view-versus-a-copy\n",
      "  df['has_churned'] = df.churn.map({'Yes': 1, 'No': 0})\n"
     ]
    }
   ],
   "source": [
    "# split data \n",
    "train, validate, test = prep.prep_telco_data(df)"
   ]
  },
  {
   "cell_type": "markdown",
   "id": "9af2bdec",
   "metadata": {},
   "source": [
    "# Data at a glance "
   ]
  },
  {
   "cell_type": "code",
   "execution_count": 4,
   "id": "1c3d9b81",
   "metadata": {},
   "outputs": [
    {
     "data": {
      "text/plain": [
       "5783            DSL\n",
       "6596            DSL\n",
       "5340    Fiber optic\n",
       "5311    Fiber optic\n",
       "3328    Fiber optic\n",
       "           ...     \n",
       "1246    Fiber optic\n",
       "6495            DSL\n",
       "5616            DSL\n",
       "6830    Fiber optic\n",
       "4463           None\n",
       "Name: internet_service_type, Length: 5273, dtype: object"
      ]
     },
     "execution_count": 4,
     "metadata": {},
     "output_type": "execute_result"
    }
   ],
   "source": [
    "# brief look at df \n",
    "train.internet_service_type"
   ]
  },
  {
   "cell_type": "code",
   "execution_count": 5,
   "id": "1f6e47a8",
   "metadata": {},
   "outputs": [
    {
     "data": {
      "text/html": [
       "<div>\n",
       "<style scoped>\n",
       "    .dataframe tbody tr th:only-of-type {\n",
       "        vertical-align: middle;\n",
       "    }\n",
       "\n",
       "    .dataframe tbody tr th {\n",
       "        vertical-align: top;\n",
       "    }\n",
       "\n",
       "    .dataframe thead th {\n",
       "        text-align: right;\n",
       "    }\n",
       "</style>\n",
       "<table border=\"1\" class=\"dataframe\">\n",
       "  <thead>\n",
       "    <tr style=\"text-align: right;\">\n",
       "      <th></th>\n",
       "      <th>payment_type_id</th>\n",
       "      <th>internet_service_type_id</th>\n",
       "      <th>contract_type_id</th>\n",
       "      <th>customer_id</th>\n",
       "      <th>gender</th>\n",
       "      <th>senior_citizen</th>\n",
       "      <th>partner</th>\n",
       "      <th>dependents</th>\n",
       "      <th>tenure</th>\n",
       "      <th>phone_service</th>\n",
       "      <th>...</th>\n",
       "      <th>streaming_tv_Yes</th>\n",
       "      <th>streaming_movies_No internet service</th>\n",
       "      <th>streaming_movies_Yes</th>\n",
       "      <th>contract_type_One year</th>\n",
       "      <th>contract_type_Two year</th>\n",
       "      <th>internet_service_type_Fiber optic</th>\n",
       "      <th>internet_service_type_None</th>\n",
       "      <th>payment_type_Credit card (automatic)</th>\n",
       "      <th>payment_type_Electronic check</th>\n",
       "      <th>payment_type_Mailed check</th>\n",
       "    </tr>\n",
       "  </thead>\n",
       "  <tbody>\n",
       "    <tr>\n",
       "      <th>5783</th>\n",
       "      <td>1</td>\n",
       "      <td>1</td>\n",
       "      <td>3</td>\n",
       "      <td>8144-DGHXP</td>\n",
       "      <td>Female</td>\n",
       "      <td>0</td>\n",
       "      <td>No</td>\n",
       "      <td>No</td>\n",
       "      <td>54</td>\n",
       "      <td>Yes</td>\n",
       "      <td>...</td>\n",
       "      <td>1</td>\n",
       "      <td>0</td>\n",
       "      <td>1</td>\n",
       "      <td>0</td>\n",
       "      <td>1</td>\n",
       "      <td>0</td>\n",
       "      <td>0</td>\n",
       "      <td>0</td>\n",
       "      <td>1</td>\n",
       "      <td>0</td>\n",
       "    </tr>\n",
       "    <tr>\n",
       "      <th>6596</th>\n",
       "      <td>1</td>\n",
       "      <td>1</td>\n",
       "      <td>1</td>\n",
       "      <td>9373-WSLOY</td>\n",
       "      <td>Male</td>\n",
       "      <td>1</td>\n",
       "      <td>Yes</td>\n",
       "      <td>No</td>\n",
       "      <td>33</td>\n",
       "      <td>No</td>\n",
       "      <td>...</td>\n",
       "      <td>1</td>\n",
       "      <td>0</td>\n",
       "      <td>0</td>\n",
       "      <td>0</td>\n",
       "      <td>0</td>\n",
       "      <td>0</td>\n",
       "      <td>0</td>\n",
       "      <td>0</td>\n",
       "      <td>1</td>\n",
       "      <td>0</td>\n",
       "    </tr>\n",
       "    <tr>\n",
       "      <th>5340</th>\n",
       "      <td>3</td>\n",
       "      <td>2</td>\n",
       "      <td>2</td>\n",
       "      <td>7544-ZVIKX</td>\n",
       "      <td>Male</td>\n",
       "      <td>0</td>\n",
       "      <td>Yes</td>\n",
       "      <td>Yes</td>\n",
       "      <td>58</td>\n",
       "      <td>Yes</td>\n",
       "      <td>...</td>\n",
       "      <td>1</td>\n",
       "      <td>0</td>\n",
       "      <td>1</td>\n",
       "      <td>1</td>\n",
       "      <td>0</td>\n",
       "      <td>1</td>\n",
       "      <td>0</td>\n",
       "      <td>0</td>\n",
       "      <td>0</td>\n",
       "      <td>0</td>\n",
       "    </tr>\n",
       "    <tr>\n",
       "      <th>5311</th>\n",
       "      <td>4</td>\n",
       "      <td>2</td>\n",
       "      <td>1</td>\n",
       "      <td>7503-QQRVF</td>\n",
       "      <td>Male</td>\n",
       "      <td>1</td>\n",
       "      <td>Yes</td>\n",
       "      <td>No</td>\n",
       "      <td>16</td>\n",
       "      <td>Yes</td>\n",
       "      <td>...</td>\n",
       "      <td>0</td>\n",
       "      <td>0</td>\n",
       "      <td>0</td>\n",
       "      <td>0</td>\n",
       "      <td>0</td>\n",
       "      <td>1</td>\n",
       "      <td>0</td>\n",
       "      <td>1</td>\n",
       "      <td>0</td>\n",
       "      <td>0</td>\n",
       "    </tr>\n",
       "    <tr>\n",
       "      <th>3328</th>\n",
       "      <td>1</td>\n",
       "      <td>2</td>\n",
       "      <td>1</td>\n",
       "      <td>4741-WWJQZ</td>\n",
       "      <td>Female</td>\n",
       "      <td>0</td>\n",
       "      <td>Yes</td>\n",
       "      <td>No</td>\n",
       "      <td>2</td>\n",
       "      <td>Yes</td>\n",
       "      <td>...</td>\n",
       "      <td>0</td>\n",
       "      <td>0</td>\n",
       "      <td>0</td>\n",
       "      <td>0</td>\n",
       "      <td>0</td>\n",
       "      <td>1</td>\n",
       "      <td>0</td>\n",
       "      <td>0</td>\n",
       "      <td>1</td>\n",
       "      <td>0</td>\n",
       "    </tr>\n",
       "  </tbody>\n",
       "</table>\n",
       "<p>5 rows × 51 columns</p>\n",
       "</div>"
      ],
      "text/plain": [
       "      payment_type_id  internet_service_type_id  contract_type_id customer_id  \\\n",
       "5783                1                         1                 3  8144-DGHXP   \n",
       "6596                1                         1                 1  9373-WSLOY   \n",
       "5340                3                         2                 2  7544-ZVIKX   \n",
       "5311                4                         2                 1  7503-QQRVF   \n",
       "3328                1                         2                 1  4741-WWJQZ   \n",
       "\n",
       "      gender  senior_citizen partner dependents  tenure phone_service  ...  \\\n",
       "5783  Female               0      No         No      54           Yes  ...   \n",
       "6596    Male               1     Yes         No      33            No  ...   \n",
       "5340    Male               0     Yes        Yes      58           Yes  ...   \n",
       "5311    Male               1     Yes         No      16           Yes  ...   \n",
       "3328  Female               0     Yes         No       2           Yes  ...   \n",
       "\n",
       "     streaming_tv_Yes streaming_movies_No internet service  \\\n",
       "5783                1                                    0   \n",
       "6596                1                                    0   \n",
       "5340                1                                    0   \n",
       "5311                0                                    0   \n",
       "3328                0                                    0   \n",
       "\n",
       "     streaming_movies_Yes contract_type_One year contract_type_Two year  \\\n",
       "5783                    1                      0                      1   \n",
       "6596                    0                      0                      0   \n",
       "5340                    1                      1                      0   \n",
       "5311                    0                      0                      0   \n",
       "3328                    0                      0                      0   \n",
       "\n",
       "     internet_service_type_Fiber optic internet_service_type_None  \\\n",
       "5783                                 0                          0   \n",
       "6596                                 0                          0   \n",
       "5340                                 1                          0   \n",
       "5311                                 1                          0   \n",
       "3328                                 1                          0   \n",
       "\n",
       "     payment_type_Credit card (automatic)  payment_type_Electronic check  \\\n",
       "5783                                    0                              1   \n",
       "6596                                    0                              1   \n",
       "5340                                    0                              0   \n",
       "5311                                    1                              0   \n",
       "3328                                    0                              1   \n",
       "\n",
       "      payment_type_Mailed check  \n",
       "5783                          0  \n",
       "6596                          0  \n",
       "5340                          0  \n",
       "5311                          0  \n",
       "3328                          0  \n",
       "\n",
       "[5 rows x 51 columns]"
      ]
     },
     "execution_count": 5,
     "metadata": {},
     "output_type": "execute_result"
    }
   ],
   "source": [
    "# brief look at data \n",
    "train.head()"
   ]
  },
  {
   "cell_type": "markdown",
   "id": "116b2a24",
   "metadata": {},
   "source": [
    "# Description of the data "
   ]
  },
  {
   "cell_type": "code",
   "execution_count": 6,
   "id": "4aa332c3",
   "metadata": {},
   "outputs": [
    {
     "data": {
      "text/html": [
       "<div>\n",
       "<style scoped>\n",
       "    .dataframe tbody tr th:only-of-type {\n",
       "        vertical-align: middle;\n",
       "    }\n",
       "\n",
       "    .dataframe tbody tr th {\n",
       "        vertical-align: top;\n",
       "    }\n",
       "\n",
       "    .dataframe thead th {\n",
       "        text-align: right;\n",
       "    }\n",
       "</style>\n",
       "<table border=\"1\" class=\"dataframe\">\n",
       "  <thead>\n",
       "    <tr style=\"text-align: right;\">\n",
       "      <th></th>\n",
       "      <th>payment_type_id</th>\n",
       "      <th>internet_service_type_id</th>\n",
       "      <th>contract_type_id</th>\n",
       "      <th>senior_citizen</th>\n",
       "      <th>tenure</th>\n",
       "      <th>monthly_charges</th>\n",
       "      <th>total_charges</th>\n",
       "      <th>is_female</th>\n",
       "      <th>has_partner</th>\n",
       "      <th>has_dependents</th>\n",
       "      <th>...</th>\n",
       "      <th>streaming_tv_Yes</th>\n",
       "      <th>streaming_movies_No internet service</th>\n",
       "      <th>streaming_movies_Yes</th>\n",
       "      <th>contract_type_One year</th>\n",
       "      <th>contract_type_Two year</th>\n",
       "      <th>internet_service_type_Fiber optic</th>\n",
       "      <th>internet_service_type_None</th>\n",
       "      <th>payment_type_Credit card (automatic)</th>\n",
       "      <th>payment_type_Electronic check</th>\n",
       "      <th>payment_type_Mailed check</th>\n",
       "    </tr>\n",
       "  </thead>\n",
       "  <tbody>\n",
       "    <tr>\n",
       "      <th>count</th>\n",
       "      <td>5273.000000</td>\n",
       "      <td>5273.000000</td>\n",
       "      <td>5273.000000</td>\n",
       "      <td>5273.000000</td>\n",
       "      <td>5273.000000</td>\n",
       "      <td>5273.000000</td>\n",
       "      <td>5273.000000</td>\n",
       "      <td>5273.000000</td>\n",
       "      <td>5273.000000</td>\n",
       "      <td>5273.000000</td>\n",
       "      <td>...</td>\n",
       "      <td>5273.000000</td>\n",
       "      <td>5273.000000</td>\n",
       "      <td>5273.000000</td>\n",
       "      <td>5273.000000</td>\n",
       "      <td>5273.000000</td>\n",
       "      <td>5273.000000</td>\n",
       "      <td>5273.000000</td>\n",
       "      <td>5273.000000</td>\n",
       "      <td>5273.000000</td>\n",
       "      <td>5273.000000</td>\n",
       "    </tr>\n",
       "    <tr>\n",
       "      <th>mean</th>\n",
       "      <td>2.324863</td>\n",
       "      <td>1.869903</td>\n",
       "      <td>1.690499</td>\n",
       "      <td>0.160250</td>\n",
       "      <td>32.558695</td>\n",
       "      <td>64.877954</td>\n",
       "      <td>2302.404295</td>\n",
       "      <td>0.491940</td>\n",
       "      <td>0.485682</td>\n",
       "      <td>0.296795</td>\n",
       "      <td>...</td>\n",
       "      <td>0.389342</td>\n",
       "      <td>0.215816</td>\n",
       "      <td>0.395600</td>\n",
       "      <td>0.213351</td>\n",
       "      <td>0.238574</td>\n",
       "      <td>0.438270</td>\n",
       "      <td>0.215816</td>\n",
       "      <td>0.220178</td>\n",
       "      <td>0.332069</td>\n",
       "      <td>0.231178</td>\n",
       "    </tr>\n",
       "    <tr>\n",
       "      <th>std</th>\n",
       "      <td>1.150684</td>\n",
       "      <td>0.738179</td>\n",
       "      <td>0.831257</td>\n",
       "      <td>0.366873</td>\n",
       "      <td>24.562214</td>\n",
       "      <td>30.123931</td>\n",
       "      <td>2274.643836</td>\n",
       "      <td>0.499982</td>\n",
       "      <td>0.499842</td>\n",
       "      <td>0.456889</td>\n",
       "      <td>...</td>\n",
       "      <td>0.487647</td>\n",
       "      <td>0.411427</td>\n",
       "      <td>0.489026</td>\n",
       "      <td>0.409712</td>\n",
       "      <td>0.426252</td>\n",
       "      <td>0.496222</td>\n",
       "      <td>0.411427</td>\n",
       "      <td>0.414406</td>\n",
       "      <td>0.471000</td>\n",
       "      <td>0.421626</td>\n",
       "    </tr>\n",
       "    <tr>\n",
       "      <th>min</th>\n",
       "      <td>1.000000</td>\n",
       "      <td>1.000000</td>\n",
       "      <td>1.000000</td>\n",
       "      <td>0.000000</td>\n",
       "      <td>1.000000</td>\n",
       "      <td>18.250000</td>\n",
       "      <td>18.800000</td>\n",
       "      <td>0.000000</td>\n",
       "      <td>0.000000</td>\n",
       "      <td>0.000000</td>\n",
       "      <td>...</td>\n",
       "      <td>0.000000</td>\n",
       "      <td>0.000000</td>\n",
       "      <td>0.000000</td>\n",
       "      <td>0.000000</td>\n",
       "      <td>0.000000</td>\n",
       "      <td>0.000000</td>\n",
       "      <td>0.000000</td>\n",
       "      <td>0.000000</td>\n",
       "      <td>0.000000</td>\n",
       "      <td>0.000000</td>\n",
       "    </tr>\n",
       "    <tr>\n",
       "      <th>25%</th>\n",
       "      <td>1.000000</td>\n",
       "      <td>1.000000</td>\n",
       "      <td>1.000000</td>\n",
       "      <td>0.000000</td>\n",
       "      <td>9.000000</td>\n",
       "      <td>35.550000</td>\n",
       "      <td>401.500000</td>\n",
       "      <td>0.000000</td>\n",
       "      <td>0.000000</td>\n",
       "      <td>0.000000</td>\n",
       "      <td>...</td>\n",
       "      <td>0.000000</td>\n",
       "      <td>0.000000</td>\n",
       "      <td>0.000000</td>\n",
       "      <td>0.000000</td>\n",
       "      <td>0.000000</td>\n",
       "      <td>0.000000</td>\n",
       "      <td>0.000000</td>\n",
       "      <td>0.000000</td>\n",
       "      <td>0.000000</td>\n",
       "      <td>0.000000</td>\n",
       "    </tr>\n",
       "    <tr>\n",
       "      <th>50%</th>\n",
       "      <td>2.000000</td>\n",
       "      <td>2.000000</td>\n",
       "      <td>1.000000</td>\n",
       "      <td>0.000000</td>\n",
       "      <td>29.000000</td>\n",
       "      <td>70.350000</td>\n",
       "      <td>1406.000000</td>\n",
       "      <td>0.000000</td>\n",
       "      <td>0.000000</td>\n",
       "      <td>0.000000</td>\n",
       "      <td>...</td>\n",
       "      <td>0.000000</td>\n",
       "      <td>0.000000</td>\n",
       "      <td>0.000000</td>\n",
       "      <td>0.000000</td>\n",
       "      <td>0.000000</td>\n",
       "      <td>0.000000</td>\n",
       "      <td>0.000000</td>\n",
       "      <td>0.000000</td>\n",
       "      <td>0.000000</td>\n",
       "      <td>0.000000</td>\n",
       "    </tr>\n",
       "    <tr>\n",
       "      <th>75%</th>\n",
       "      <td>3.000000</td>\n",
       "      <td>2.000000</td>\n",
       "      <td>2.000000</td>\n",
       "      <td>0.000000</td>\n",
       "      <td>56.000000</td>\n",
       "      <td>89.900000</td>\n",
       "      <td>3862.550000</td>\n",
       "      <td>1.000000</td>\n",
       "      <td>1.000000</td>\n",
       "      <td>1.000000</td>\n",
       "      <td>...</td>\n",
       "      <td>1.000000</td>\n",
       "      <td>0.000000</td>\n",
       "      <td>1.000000</td>\n",
       "      <td>0.000000</td>\n",
       "      <td>0.000000</td>\n",
       "      <td>1.000000</td>\n",
       "      <td>0.000000</td>\n",
       "      <td>0.000000</td>\n",
       "      <td>1.000000</td>\n",
       "      <td>0.000000</td>\n",
       "    </tr>\n",
       "    <tr>\n",
       "      <th>max</th>\n",
       "      <td>4.000000</td>\n",
       "      <td>3.000000</td>\n",
       "      <td>3.000000</td>\n",
       "      <td>1.000000</td>\n",
       "      <td>72.000000</td>\n",
       "      <td>118.750000</td>\n",
       "      <td>8672.450000</td>\n",
       "      <td>1.000000</td>\n",
       "      <td>1.000000</td>\n",
       "      <td>1.000000</td>\n",
       "      <td>...</td>\n",
       "      <td>1.000000</td>\n",
       "      <td>1.000000</td>\n",
       "      <td>1.000000</td>\n",
       "      <td>1.000000</td>\n",
       "      <td>1.000000</td>\n",
       "      <td>1.000000</td>\n",
       "      <td>1.000000</td>\n",
       "      <td>1.000000</td>\n",
       "      <td>1.000000</td>\n",
       "      <td>1.000000</td>\n",
       "    </tr>\n",
       "  </tbody>\n",
       "</table>\n",
       "<p>8 rows × 34 columns</p>\n",
       "</div>"
      ],
      "text/plain": [
       "       payment_type_id  internet_service_type_id  contract_type_id  \\\n",
       "count      5273.000000               5273.000000       5273.000000   \n",
       "mean          2.324863                  1.869903          1.690499   \n",
       "std           1.150684                  0.738179          0.831257   \n",
       "min           1.000000                  1.000000          1.000000   \n",
       "25%           1.000000                  1.000000          1.000000   \n",
       "50%           2.000000                  2.000000          1.000000   \n",
       "75%           3.000000                  2.000000          2.000000   \n",
       "max           4.000000                  3.000000          3.000000   \n",
       "\n",
       "       senior_citizen       tenure  monthly_charges  total_charges  \\\n",
       "count     5273.000000  5273.000000      5273.000000    5273.000000   \n",
       "mean         0.160250    32.558695        64.877954    2302.404295   \n",
       "std          0.366873    24.562214        30.123931    2274.643836   \n",
       "min          0.000000     1.000000        18.250000      18.800000   \n",
       "25%          0.000000     9.000000        35.550000     401.500000   \n",
       "50%          0.000000    29.000000        70.350000    1406.000000   \n",
       "75%          0.000000    56.000000        89.900000    3862.550000   \n",
       "max          1.000000    72.000000       118.750000    8672.450000   \n",
       "\n",
       "         is_female  has_partner  has_dependents  ...  streaming_tv_Yes  \\\n",
       "count  5273.000000  5273.000000     5273.000000  ...       5273.000000   \n",
       "mean      0.491940     0.485682        0.296795  ...          0.389342   \n",
       "std       0.499982     0.499842        0.456889  ...          0.487647   \n",
       "min       0.000000     0.000000        0.000000  ...          0.000000   \n",
       "25%       0.000000     0.000000        0.000000  ...          0.000000   \n",
       "50%       0.000000     0.000000        0.000000  ...          0.000000   \n",
       "75%       1.000000     1.000000        1.000000  ...          1.000000   \n",
       "max       1.000000     1.000000        1.000000  ...          1.000000   \n",
       "\n",
       "       streaming_movies_No internet service  streaming_movies_Yes  \\\n",
       "count                           5273.000000           5273.000000   \n",
       "mean                               0.215816              0.395600   \n",
       "std                                0.411427              0.489026   \n",
       "min                                0.000000              0.000000   \n",
       "25%                                0.000000              0.000000   \n",
       "50%                                0.000000              0.000000   \n",
       "75%                                0.000000              1.000000   \n",
       "max                                1.000000              1.000000   \n",
       "\n",
       "       contract_type_One year  contract_type_Two year  \\\n",
       "count             5273.000000             5273.000000   \n",
       "mean                 0.213351                0.238574   \n",
       "std                  0.409712                0.426252   \n",
       "min                  0.000000                0.000000   \n",
       "25%                  0.000000                0.000000   \n",
       "50%                  0.000000                0.000000   \n",
       "75%                  0.000000                0.000000   \n",
       "max                  1.000000                1.000000   \n",
       "\n",
       "       internet_service_type_Fiber optic  internet_service_type_None  \\\n",
       "count                        5273.000000                 5273.000000   \n",
       "mean                            0.438270                    0.215816   \n",
       "std                             0.496222                    0.411427   \n",
       "min                             0.000000                    0.000000   \n",
       "25%                             0.000000                    0.000000   \n",
       "50%                             0.000000                    0.000000   \n",
       "75%                             1.000000                    0.000000   \n",
       "max                             1.000000                    1.000000   \n",
       "\n",
       "       payment_type_Credit card (automatic)  payment_type_Electronic check  \\\n",
       "count                           5273.000000                    5273.000000   \n",
       "mean                               0.220178                       0.332069   \n",
       "std                                0.414406                       0.471000   \n",
       "min                                0.000000                       0.000000   \n",
       "25%                                0.000000                       0.000000   \n",
       "50%                                0.000000                       0.000000   \n",
       "75%                                0.000000                       1.000000   \n",
       "max                                1.000000                       1.000000   \n",
       "\n",
       "       payment_type_Mailed check  \n",
       "count                5273.000000  \n",
       "mean                    0.231178  \n",
       "std                     0.421626  \n",
       "min                     0.000000  \n",
       "25%                     0.000000  \n",
       "50%                     0.000000  \n",
       "75%                     0.000000  \n",
       "max                     1.000000  \n",
       "\n",
       "[8 rows x 34 columns]"
      ]
     },
     "execution_count": 6,
     "metadata": {},
     "output_type": "execute_result"
    }
   ],
   "source": [
    "# descriptive look at dataframe \n",
    "train.describe()"
   ]
  },
  {
   "cell_type": "markdown",
   "id": "767b967a",
   "metadata": {},
   "source": [
    "# Exploration of Data"
   ]
  },
  {
   "cell_type": "markdown",
   "id": "0d107419",
   "metadata": {},
   "source": [
    "### How often do customers churn?"
   ]
  },
  {
   "cell_type": "code",
   "execution_count": 7,
   "id": "7b01b509",
   "metadata": {
    "scrolled": false
   },
   "outputs": [
    {
     "data": {
      "text/plain": [
       "<AxesSubplot:xlabel='churn', ylabel='count'>"
      ]
     },
     "execution_count": 7,
     "metadata": {},
     "output_type": "execute_result"
    },
    {
     "data": {
      "image/png": "[encoded data removed]",
      "text/plain": [
       "<Figure size 432x288 with 1 Axes>"
      ]
     },
     "metadata": {
      "needs_background": "light"
     },
     "output_type": "display_data"
    }
   ],
   "source": [
    "# generating count plot \n",
    "df = train\n",
    "sns.countplot(x=df[\"churn\"])"
   ]
  },
  {
   "cell_type": "code",
   "execution_count": 8,
   "id": "49eb7a8f",
   "metadata": {},
   "outputs": [
    {
     "data": {
      "text/plain": [
       "No     3871\n",
       "Yes    1402\n",
       "Name: churn, dtype: int64"
      ]
     },
     "execution_count": 8,
     "metadata": {},
     "output_type": "execute_result"
    }
   ],
   "source": [
    "# churn count \n",
    "train.churn.value_counts()"
   ]
  },
  {
   "cell_type": "code",
   "execution_count": 9,
   "id": "f593a3b3",
   "metadata": {},
   "outputs": [
    {
     "data": {
      "text/plain": [
       "No     0.734117\n",
       "Yes    0.265883\n",
       "Name: churn, dtype: float64"
      ]
     },
     "execution_count": 9,
     "metadata": {},
     "output_type": "execute_result"
    }
   ],
   "source": [
    "# percent of churn \n",
    "train.churn.value_counts(normalize=True)"
   ]
  },
  {
   "cell_type": "markdown",
   "id": "86616a35",
   "metadata": {},
   "source": [
    "* The above graph shows that customers churn 26% of the time. So it is more likely for a customer to stay with the company than not to. "
   ]
  },
  {
   "cell_type": "markdown",
   "id": "02c5065b",
   "metadata": {},
   "source": [
    "# Is there an association between churn and Internet Service Type? "
   ]
  },
  {
   "cell_type": "code",
   "execution_count": 10,
   "id": "c68f11ed",
   "metadata": {},
   "outputs": [
    {
     "data": {
      "text/plain": [
       "<AxesSubplot:xlabel='internet_service_type', ylabel='count'>"
      ]
     },
     "execution_count": 10,
     "metadata": {},
     "output_type": "execute_result"
    },
    {
     "data": {
      "image/png": "[encoded data removed]",
      "text/plain": [
       "<Figure size 432x288 with 1 Axes>"
      ]
     },
     "metadata": {
      "needs_background": "light"
     },
     "output_type": "display_data"
    }
   ],
   "source": [
    "# count plot \n",
    "sns.countplot(data=train, x=\"internet_service_type\", hue=\"churn\")"
   ]
  },
  {
   "cell_type": "code",
   "execution_count": 11,
   "id": "cfb33913",
   "metadata": {
    "scrolled": true
   },
   "outputs": [
    {
     "data": {
      "text/plain": [
       "['payment_type_id',\n",
       " 'internet_service_type_id',\n",
       " 'contract_type_id',\n",
       " 'customer_id',\n",
       " 'gender',\n",
       " 'senior_citizen',\n",
       " 'partner',\n",
       " 'dependents',\n",
       " 'tenure',\n",
       " 'phone_service',\n",
       " 'multiple_lines',\n",
       " 'online_security',\n",
       " 'online_backup',\n",
       " 'device_protection',\n",
       " 'tech_support',\n",
       " 'streaming_tv',\n",
       " 'streaming_movies',\n",
       " 'paperless_billing',\n",
       " 'monthly_charges',\n",
       " 'total_charges',\n",
       " 'churn',\n",
       " 'contract_type',\n",
       " 'internet_service_type',\n",
       " 'payment_type',\n",
       " 'is_female',\n",
       " 'has_partner',\n",
       " 'has_dependents',\n",
       " 'has_phone_service',\n",
       " 'has_paperless_billing',\n",
       " 'has_churned',\n",
       " 'multiple_lines_No phone service',\n",
       " 'multiple_lines_Yes',\n",
       " 'online_security_No internet service',\n",
       " 'online_security_Yes',\n",
       " 'online_backup_No internet service',\n",
       " 'online_backup_Yes',\n",
       " 'device_protection_No internet service',\n",
       " 'device_protection_Yes',\n",
       " 'tech_support_No internet service',\n",
       " 'tech_support_Yes',\n",
       " 'streaming_tv_No internet service',\n",
       " 'streaming_tv_Yes',\n",
       " 'streaming_movies_No internet service',\n",
       " 'streaming_movies_Yes',\n",
       " 'contract_type_One year',\n",
       " 'contract_type_Two year',\n",
       " 'internet_service_type_Fiber optic',\n",
       " 'internet_service_type_None',\n",
       " 'payment_type_Credit card (automatic)',\n",
       " 'payment_type_Electronic check',\n",
       " 'payment_type_Mailed check']"
      ]
     },
     "execution_count": 11,
     "metadata": {},
     "output_type": "execute_result"
    }
   ],
   "source": [
    "# checking columns in df \n",
    "list(train.columns)"
   ]
  },
  {
   "cell_type": "raw",
   "id": "0a868b3b",
   "metadata": {},
   "source": [
    "These are two categorical variables so I will use a chi^2 test to determine if there is an association between the two variables. "
   ]
  },
  {
   "cell_type": "code",
   "execution_count": 12,
   "id": "fcd2c25c",
   "metadata": {},
   "outputs": [
    {
     "data": {
      "text/html": [
       "<div>\n",
       "<style scoped>\n",
       "    .dataframe tbody tr th:only-of-type {\n",
       "        vertical-align: middle;\n",
       "    }\n",
       "\n",
       "    .dataframe tbody tr th {\n",
       "        vertical-align: top;\n",
       "    }\n",
       "\n",
       "    .dataframe thead th {\n",
       "        text-align: right;\n",
       "    }\n",
       "</style>\n",
       "<table border=\"1\" class=\"dataframe\">\n",
       "  <thead>\n",
       "    <tr style=\"text-align: right;\">\n",
       "      <th>internet_service_type_id</th>\n",
       "      <th>1</th>\n",
       "      <th>2</th>\n",
       "      <th>3</th>\n",
       "    </tr>\n",
       "    <tr>\n",
       "      <th>churn</th>\n",
       "      <th></th>\n",
       "      <th></th>\n",
       "      <th></th>\n",
       "    </tr>\n",
       "  </thead>\n",
       "  <tbody>\n",
       "    <tr>\n",
       "      <th>No</th>\n",
       "      <td>1487</td>\n",
       "      <td>1327</td>\n",
       "      <td>1057</td>\n",
       "    </tr>\n",
       "    <tr>\n",
       "      <th>Yes</th>\n",
       "      <td>337</td>\n",
       "      <td>984</td>\n",
       "      <td>81</td>\n",
       "    </tr>\n",
       "  </tbody>\n",
       "</table>\n",
       "</div>"
      ],
      "text/plain": [
       "internet_service_type_id     1     2     3\n",
       "churn                                     \n",
       "No                        1487  1327  1057\n",
       "Yes                        337   984    81"
      ]
     },
     "execution_count": 12,
     "metadata": {},
     "output_type": "execute_result"
    }
   ],
   "source": [
    "# cross tab created in preparation to run chi^2 test\n",
    "#service type ID 1 = DSL internet, 2 = Fiber Optic, 3 = No internet\n",
    "observed = pd.crosstab(train.churn, train.internet_service_type_id)\n",
    "observed"
   ]
  },
  {
   "cell_type": "code",
   "execution_count": 13,
   "id": "5c8b049a",
   "metadata": {},
   "outputs": [
    {
     "data": {
      "text/plain": [
       "8.130192076012108e-128"
      ]
     },
     "execution_count": 13,
     "metadata": {},
     "output_type": "execute_result"
    }
   ],
   "source": [
    "#code to generate results of chi^2 test \n",
    "chi2, p, degf, expected = stats.chi2_contingency(observed)\n",
    "\n",
    "p"
   ]
  },
  {
   "cell_type": "code",
   "execution_count": 14,
   "id": "2c9ae700",
   "metadata": {},
   "outputs": [
    {
     "name": "stdout",
     "output_type": "stream",
     "text": [
      "Observed\n",
      "[[1487 1327 1057]\n",
      " [ 337  984   81]]\n",
      "\n",
      "Expected\n",
      "[[1339 1696  835]\n",
      " [ 484  614  302]]\n",
      "\n",
      "----\n",
      "chi^2 = 585.2706\n",
      "p     = 8.130192076012108e-128\n"
     ]
    }
   ],
   "source": [
    "#output of values observed and expected values from test\n",
    "print('Observed')\n",
    "print(observed.values)\n",
    "print('\\nExpected')\n",
    "print(expected.astype(int))\n",
    "print('\\n----')\n",
    "print(f'chi^2 = {chi2:.4f}')\n",
    "print(f'p     = {p}')"
   ]
  },
  {
   "cell_type": "markdown",
   "id": "2c839b24",
   "metadata": {},
   "source": [
    "\n",
    "* The results of the chi^2 test support the idea that there is an association between churn and the internet service type"
   ]
  },
  {
   "cell_type": "markdown",
   "id": "4d6b3421",
   "metadata": {},
   "source": [
    "# Is there an association between churn and having phone service? "
   ]
  },
  {
   "cell_type": "code",
   "execution_count": 15,
   "id": "50cc236b",
   "metadata": {},
   "outputs": [
    {
     "data": {
      "text/plain": [
       "<AxesSubplot:xlabel='phone_service', ylabel='count'>"
      ]
     },
     "execution_count": 15,
     "metadata": {},
     "output_type": "execute_result"
    },
    {
     "data": {
      "image/png": "[encoded data removed]",
      "text/plain": [
       "<Figure size 432x288 with 1 Axes>"
      ]
     },
     "metadata": {
      "needs_background": "light"
     },
     "output_type": "display_data"
    }
   ],
   "source": [
    "# count plot \n",
    "sns.countplot(data=train, x=\"phone_service\", hue=\"churn\")"
   ]
  },
  {
   "cell_type": "raw",
   "id": "a668dbb1",
   "metadata": {},
   "source": [
    "These are two categorical variables so I will use a chi^2 test to determine if there is an association between the two variables. "
   ]
  },
  {
   "cell_type": "code",
   "execution_count": 16,
   "id": "e67530c6",
   "metadata": {},
   "outputs": [
    {
     "data": {
      "text/html": [
       "<div>\n",
       "<style scoped>\n",
       "    .dataframe tbody tr th:only-of-type {\n",
       "        vertical-align: middle;\n",
       "    }\n",
       "\n",
       "    .dataframe tbody tr th {\n",
       "        vertical-align: top;\n",
       "    }\n",
       "\n",
       "    .dataframe thead th {\n",
       "        text-align: right;\n",
       "    }\n",
       "</style>\n",
       "<table border=\"1\" class=\"dataframe\">\n",
       "  <thead>\n",
       "    <tr style=\"text-align: right;\">\n",
       "      <th>phone_service</th>\n",
       "      <th>No</th>\n",
       "      <th>Yes</th>\n",
       "    </tr>\n",
       "    <tr>\n",
       "      <th>churn</th>\n",
       "      <th></th>\n",
       "      <th></th>\n",
       "    </tr>\n",
       "  </thead>\n",
       "  <tbody>\n",
       "    <tr>\n",
       "      <th>No</th>\n",
       "      <td>395</td>\n",
       "      <td>3476</td>\n",
       "    </tr>\n",
       "    <tr>\n",
       "      <th>Yes</th>\n",
       "      <td>124</td>\n",
       "      <td>1278</td>\n",
       "    </tr>\n",
       "  </tbody>\n",
       "</table>\n",
       "</div>"
      ],
      "text/plain": [
       "phone_service   No   Yes\n",
       "churn                   \n",
       "No             395  3476\n",
       "Yes            124  1278"
      ]
     },
     "execution_count": 16,
     "metadata": {},
     "output_type": "execute_result"
    }
   ],
   "source": [
    "# cross tab created in preparation to run chi^2 test\n",
    "observed = pd.crosstab(train.churn, train.phone_service)\n",
    "observed"
   ]
  },
  {
   "cell_type": "code",
   "execution_count": 17,
   "id": "ef111a7d",
   "metadata": {},
   "outputs": [
    {
     "data": {
      "text/plain": [
       "0.1579813801645912"
      ]
     },
     "execution_count": 17,
     "metadata": {},
     "output_type": "execute_result"
    }
   ],
   "source": [
    "#code to generate results of chi^2 test \n",
    "chi2, p, degf, expected = stats.chi2_contingency(observed)\n",
    "\n",
    "p"
   ]
  },
  {
   "cell_type": "code",
   "execution_count": 18,
   "id": "efec2cb5",
   "metadata": {},
   "outputs": [
    {
     "name": "stdout",
     "output_type": "stream",
     "text": [
      "Observed\n",
      "[[ 395 3476]\n",
      " [ 124 1278]]\n",
      "\n",
      "Expected\n",
      "[[ 381 3489]\n",
      " [ 137 1264]]\n",
      "\n",
      "----\n",
      "chi^2 = 1.9934\n",
      "p     = 0.1579813801645912\n"
     ]
    }
   ],
   "source": [
    "#output of values observed and expected values from test\n",
    "print('Observed')\n",
    "print(observed.values)\n",
    "print('\\nExpected')\n",
    "print(expected.astype(int))\n",
    "print('\\n----')\n",
    "print(f'chi^2 = {chi2:.4f}')\n",
    "print(f'p     = {p}')"
   ]
  },
  {
   "cell_type": "markdown",
   "id": "68b7a53d",
   "metadata": {},
   "source": [
    "* The results of the chi^2 test support the idea that there is not an association between churn and the phone service"
   ]
  },
  {
   "cell_type": "markdown",
   "id": "f79d802a",
   "metadata": {},
   "source": [
    "# Is there an association between churn and having techinical support?"
   ]
  },
  {
   "cell_type": "code",
   "execution_count": 19,
   "id": "d1e8066e",
   "metadata": {},
   "outputs": [
    {
     "data": {
      "text/plain": [
       "['payment_type_id',\n",
       " 'internet_service_type_id',\n",
       " 'contract_type_id',\n",
       " 'customer_id',\n",
       " 'gender',\n",
       " 'senior_citizen',\n",
       " 'partner',\n",
       " 'dependents',\n",
       " 'tenure',\n",
       " 'phone_service',\n",
       " 'multiple_lines',\n",
       " 'online_security',\n",
       " 'online_backup',\n",
       " 'device_protection',\n",
       " 'tech_support',\n",
       " 'streaming_tv',\n",
       " 'streaming_movies',\n",
       " 'paperless_billing',\n",
       " 'monthly_charges',\n",
       " 'total_charges',\n",
       " 'churn',\n",
       " 'contract_type',\n",
       " 'internet_service_type',\n",
       " 'payment_type',\n",
       " 'is_female',\n",
       " 'has_partner',\n",
       " 'has_dependents',\n",
       " 'has_phone_service',\n",
       " 'has_paperless_billing',\n",
       " 'has_churned',\n",
       " 'multiple_lines_No phone service',\n",
       " 'multiple_lines_Yes',\n",
       " 'online_security_No internet service',\n",
       " 'online_security_Yes',\n",
       " 'online_backup_No internet service',\n",
       " 'online_backup_Yes',\n",
       " 'device_protection_No internet service',\n",
       " 'device_protection_Yes',\n",
       " 'tech_support_No internet service',\n",
       " 'tech_support_Yes',\n",
       " 'streaming_tv_No internet service',\n",
       " 'streaming_tv_Yes',\n",
       " 'streaming_movies_No internet service',\n",
       " 'streaming_movies_Yes',\n",
       " 'contract_type_One year',\n",
       " 'contract_type_Two year',\n",
       " 'internet_service_type_Fiber optic',\n",
       " 'internet_service_type_None',\n",
       " 'payment_type_Credit card (automatic)',\n",
       " 'payment_type_Electronic check',\n",
       " 'payment_type_Mailed check']"
      ]
     },
     "execution_count": 19,
     "metadata": {},
     "output_type": "execute_result"
    }
   ],
   "source": [
    "# checking columns in df \n",
    "list(train.columns)"
   ]
  },
  {
   "cell_type": "code",
   "execution_count": 20,
   "id": "2a46260f",
   "metadata": {},
   "outputs": [
    {
     "data": {
      "text/plain": [
       "<AxesSubplot:xlabel='tech_support', ylabel='count'>"
      ]
     },
     "execution_count": 20,
     "metadata": {},
     "output_type": "execute_result"
    },
    {
     "data": {
      "image/png": "[encoded data removed]",
      "text/plain": [
       "<Figure size 432x288 with 1 Axes>"
      ]
     },
     "metadata": {
      "needs_background": "light"
     },
     "output_type": "display_data"
    }
   ],
   "source": [
    "# count plot\n",
    "sns.countplot(data=train, x=\"tech_support\", hue=\"churn\")"
   ]
  },
  {
   "cell_type": "markdown",
   "id": "f866d464",
   "metadata": {},
   "source": [
    "These are two categorical variables so I will use a chi^2 test to determine if there is an association between the two variables. "
   ]
  },
  {
   "cell_type": "code",
   "execution_count": 21,
   "id": "961265ed",
   "metadata": {},
   "outputs": [
    {
     "data": {
      "text/html": [
       "<div>\n",
       "<style scoped>\n",
       "    .dataframe tbody tr th:only-of-type {\n",
       "        vertical-align: middle;\n",
       "    }\n",
       "\n",
       "    .dataframe tbody tr th {\n",
       "        vertical-align: top;\n",
       "    }\n",
       "\n",
       "    .dataframe thead th {\n",
       "        text-align: right;\n",
       "    }\n",
       "</style>\n",
       "<table border=\"1\" class=\"dataframe\">\n",
       "  <thead>\n",
       "    <tr style=\"text-align: right;\">\n",
       "      <th>tech_support</th>\n",
       "      <th>No</th>\n",
       "      <th>No internet service</th>\n",
       "      <th>Yes</th>\n",
       "    </tr>\n",
       "    <tr>\n",
       "      <th>churn</th>\n",
       "      <th></th>\n",
       "      <th></th>\n",
       "      <th></th>\n",
       "    </tr>\n",
       "  </thead>\n",
       "  <tbody>\n",
       "    <tr>\n",
       "      <th>No</th>\n",
       "      <td>1504</td>\n",
       "      <td>1057</td>\n",
       "      <td>1310</td>\n",
       "    </tr>\n",
       "    <tr>\n",
       "      <th>Yes</th>\n",
       "      <td>1092</td>\n",
       "      <td>81</td>\n",
       "      <td>229</td>\n",
       "    </tr>\n",
       "  </tbody>\n",
       "</table>\n",
       "</div>"
      ],
      "text/plain": [
       "tech_support    No  No internet service   Yes\n",
       "churn                                        \n",
       "No            1504                 1057  1310\n",
       "Yes           1092                   81   229"
      ]
     },
     "execution_count": 21,
     "metadata": {},
     "output_type": "execute_result"
    }
   ],
   "source": [
    "# cross tab created in preparation to run chi^2 test\n",
    "observed = pd.crosstab(train.churn, train.tech_support)\n",
    "observed"
   ]
  },
  {
   "cell_type": "code",
   "execution_count": 22,
   "id": "8d0e8dae",
   "metadata": {},
   "outputs": [
    {
     "data": {
      "text/plain": [
       "2.2865581269117635e-141"
      ]
     },
     "execution_count": 22,
     "metadata": {},
     "output_type": "execute_result"
    }
   ],
   "source": [
    "#code to generate results of chi^2 test \n",
    "chi2, p, degf, expected = stats.chi2_contingency(observed)\n",
    "\n",
    "p"
   ]
  },
  {
   "cell_type": "code",
   "execution_count": 23,
   "id": "4fc29512",
   "metadata": {},
   "outputs": [
    {
     "name": "stdout",
     "output_type": "stream",
     "text": [
      "Observed\n",
      "[[1504 1057 1310]\n",
      " [1092   81  229]]\n",
      "\n",
      "Expected\n",
      "[[1905  835 1129]\n",
      " [ 690  302  409]]\n",
      "\n",
      "----\n",
      "chi^2 = 647.6749\n",
      "p     = 2.2865581269117635e-141\n"
     ]
    }
   ],
   "source": [
    "#output of values observed and expected values from test\n",
    "print('Observed')\n",
    "print(observed.values)\n",
    "print('\\nExpected')\n",
    "print(expected.astype(int))\n",
    "print('\\n----')\n",
    "print(f'chi^2 = {chi2:.4f}')\n",
    "print(f'p     = {p}')"
   ]
  },
  {
   "cell_type": "markdown",
   "id": "d273d9cd",
   "metadata": {},
   "source": [
    "*  The results of the chi^2 test support the hypothesis that there is an association between churn and a customer having technical support"
   ]
  },
  {
   "cell_type": "markdown",
   "id": "fe0f8895",
   "metadata": {},
   "source": [
    "# Is there an association between churn and having fiber optic internet?"
   ]
  },
  {
   "cell_type": "code",
   "execution_count": 24,
   "id": "dc4b88db",
   "metadata": {},
   "outputs": [
    {
     "data": {
      "text/plain": [
       "<AxesSubplot:xlabel='internet_service_type', ylabel='count'>"
      ]
     },
     "execution_count": 24,
     "metadata": {},
     "output_type": "execute_result"
    },
    {
     "data": {
      "image/png": "[encoded data removed]",
      "text/plain": [
       "<Figure size 432x288 with 1 Axes>"
      ]
     },
     "metadata": {
      "needs_background": "light"
     },
     "output_type": "display_data"
    }
   ],
   "source": [
    "# count plot \n",
    "sns.countplot(data=train, x=\"internet_service_type\", hue=\"churn\")"
   ]
  },
  {
   "cell_type": "markdown",
   "id": "d8dcbe4c",
   "metadata": {},
   "source": [
    "These are two categorical variables so I will use a chi^2 test to determine if there is an association between the two variables. "
   ]
  },
  {
   "cell_type": "code",
   "execution_count": 25,
   "id": "106a76bf",
   "metadata": {},
   "outputs": [
    {
     "data": {
      "text/html": [
       "<div>\n",
       "<style scoped>\n",
       "    .dataframe tbody tr th:only-of-type {\n",
       "        vertical-align: middle;\n",
       "    }\n",
       "\n",
       "    .dataframe tbody tr th {\n",
       "        vertical-align: top;\n",
       "    }\n",
       "\n",
       "    .dataframe thead th {\n",
       "        text-align: right;\n",
       "    }\n",
       "</style>\n",
       "<table border=\"1\" class=\"dataframe\">\n",
       "  <thead>\n",
       "    <tr style=\"text-align: right;\">\n",
       "      <th>internet_service_type_Fiber optic</th>\n",
       "      <th>0</th>\n",
       "      <th>1</th>\n",
       "    </tr>\n",
       "    <tr>\n",
       "      <th>churn</th>\n",
       "      <th></th>\n",
       "      <th></th>\n",
       "    </tr>\n",
       "  </thead>\n",
       "  <tbody>\n",
       "    <tr>\n",
       "      <th>No</th>\n",
       "      <td>2544</td>\n",
       "      <td>1327</td>\n",
       "    </tr>\n",
       "    <tr>\n",
       "      <th>Yes</th>\n",
       "      <td>418</td>\n",
       "      <td>984</td>\n",
       "    </tr>\n",
       "  </tbody>\n",
       "</table>\n",
       "</div>"
      ],
      "text/plain": [
       "internet_service_type_Fiber optic     0     1\n",
       "churn                                        \n",
       "No                                 2544  1327\n",
       "Yes                                 418   984"
      ]
     },
     "execution_count": 25,
     "metadata": {},
     "output_type": "execute_result"
    }
   ],
   "source": [
    "# cross tab created in preparation to run chi^2 test\n",
    "observed = pd.crosstab(train['churn'], train['internet_service_type_Fiber optic'])\n",
    "observed"
   ]
  },
  {
   "cell_type": "code",
   "execution_count": 26,
   "id": "a2863887",
   "metadata": {},
   "outputs": [
    {
     "data": {
      "text/plain": [
       "6.608799714670794e-119"
      ]
     },
     "execution_count": 26,
     "metadata": {},
     "output_type": "execute_result"
    }
   ],
   "source": [
    "#code to generate results of chi^2 test \n",
    "chi2, p, degf, expected = stats.chi2_contingency(observed)\n",
    "\n",
    "p"
   ]
  },
  {
   "cell_type": "code",
   "execution_count": 27,
   "id": "00e37b72",
   "metadata": {},
   "outputs": [
    {
     "name": "stdout",
     "output_type": "stream",
     "text": [
      "Observed\n",
      "[[2544 1327]\n",
      " [ 418  984]]\n",
      "\n",
      "Expected\n",
      "[[2174 1696]\n",
      " [ 787  614]]\n",
      "\n",
      "----\n",
      "chi^2 = 537.4962\n",
      "p     = 6.608799714670794e-119\n"
     ]
    }
   ],
   "source": [
    "#output of values observed and expected values from test\n",
    "print('Observed')\n",
    "print(observed.values)\n",
    "print('\\nExpected')\n",
    "print(expected.astype(int))\n",
    "print('\\n----')\n",
    "print(f'chi^2 = {chi2:.4f}')\n",
    "print(f'p     = {p}')"
   ]
  },
  {
   "cell_type": "markdown",
   "id": "475b2163",
   "metadata": {},
   "source": [
    "*  The results of the chi^2 test support the idea that there is an association between churn and a customer having fiber optic internet service."
   ]
  },
  {
   "cell_type": "markdown",
   "id": "fa35cc88",
   "metadata": {},
   "source": [
    "# Is there an association between churn and contract type?\n",
    "\n"
   ]
  },
  {
   "cell_type": "code",
   "execution_count": 28,
   "id": "26976e22",
   "metadata": {},
   "outputs": [
    {
     "data": {
      "text/plain": [
       "<AxesSubplot:xlabel='contract_type', ylabel='count'>"
      ]
     },
     "execution_count": 28,
     "metadata": {},
     "output_type": "execute_result"
    },
    {
     "data": {
      "image/png": "[encoded data removed]",
      "text/plain": [
       "<Figure size 432x288 with 1 Axes>"
      ]
     },
     "metadata": {
      "needs_background": "light"
     },
     "output_type": "display_data"
    }
   ],
   "source": [
    "# count plot\n",
    "sns.countplot(data=train, x=\"contract_type\", hue=\"churn\")"
   ]
  },
  {
   "cell_type": "raw",
   "id": "a6cbceab",
   "metadata": {},
   "source": [
    "These are two categorical variables so I will use a chi^2 test to determine if there is an association between the two variables. "
   ]
  },
  {
   "cell_type": "code",
   "execution_count": 29,
   "id": "b6ef8e78",
   "metadata": {},
   "outputs": [
    {
     "data": {
      "text/html": [
       "<div>\n",
       "<style scoped>\n",
       "    .dataframe tbody tr th:only-of-type {\n",
       "        vertical-align: middle;\n",
       "    }\n",
       "\n",
       "    .dataframe tbody tr th {\n",
       "        vertical-align: top;\n",
       "    }\n",
       "\n",
       "    .dataframe thead th {\n",
       "        text-align: right;\n",
       "    }\n",
       "</style>\n",
       "<table border=\"1\" class=\"dataframe\">\n",
       "  <thead>\n",
       "    <tr style=\"text-align: right;\">\n",
       "      <th>contract_type_id</th>\n",
       "      <th>1</th>\n",
       "      <th>2</th>\n",
       "      <th>3</th>\n",
       "    </tr>\n",
       "    <tr>\n",
       "      <th>churn</th>\n",
       "      <th></th>\n",
       "      <th></th>\n",
       "      <th></th>\n",
       "    </tr>\n",
       "  </thead>\n",
       "  <tbody>\n",
       "    <tr>\n",
       "      <th>No</th>\n",
       "      <td>1652</td>\n",
       "      <td>998</td>\n",
       "      <td>1221</td>\n",
       "    </tr>\n",
       "    <tr>\n",
       "      <th>Yes</th>\n",
       "      <td>1238</td>\n",
       "      <td>127</td>\n",
       "      <td>37</td>\n",
       "    </tr>\n",
       "  </tbody>\n",
       "</table>\n",
       "</div>"
      ],
      "text/plain": [
       "contract_type_id     1    2     3\n",
       "churn                            \n",
       "No                1652  998  1221\n",
       "Yes               1238  127    37"
      ]
     },
     "execution_count": 29,
     "metadata": {},
     "output_type": "execute_result"
    }
   ],
   "source": [
    "# cross tab created in preparation to run chi^2 test\n",
    "observed = pd.crosstab(train.churn, train.contract_type_id)\n",
    "observed"
   ]
  },
  {
   "cell_type": "code",
   "execution_count": 30,
   "id": "4a9a7188",
   "metadata": {},
   "outputs": [
    {
     "data": {
      "text/plain": [
       "3.595868861996222e-193"
      ]
     },
     "execution_count": 30,
     "metadata": {},
     "output_type": "execute_result"
    }
   ],
   "source": [
    "#code to generate results of chi^2 test \n",
    "chi2, p, degf, expected = stats.chi2_contingency(observed)\n",
    "\n",
    "p"
   ]
  },
  {
   "cell_type": "code",
   "execution_count": 31,
   "id": "f7ecdf57",
   "metadata": {},
   "outputs": [
    {
     "name": "stdout",
     "output_type": "stream",
     "text": [
      "Observed\n",
      "[[1652  998 1221]\n",
      " [1238  127   37]]\n",
      "\n",
      "Expected\n",
      "[[2121  825  923]\n",
      " [ 768  299  334]]\n",
      "\n",
      "----\n",
      "chi^2 = 886.2383\n",
      "p     = 3.595868861996222e-193\n"
     ]
    }
   ],
   "source": [
    "#output of values observed and expected values from test\n",
    "print('Observed')\n",
    "print(observed.values)\n",
    "print('\\nExpected')\n",
    "print(expected.astype(int))\n",
    "print('\\n----')\n",
    "print(f'chi^2 = {chi2:.4f}')\n",
    "print(f'p     = {p}')"
   ]
  },
  {
   "cell_type": "markdown",
   "id": "13ef8b61",
   "metadata": {},
   "source": [
    "* The results of the chi^2 test support the idea that there is an association between churn and contract type."
   ]
  },
  {
   "cell_type": "code",
   "execution_count": 32,
   "id": "f9e01579",
   "metadata": {},
   "outputs": [
    {
     "name": "stdout",
     "output_type": "stream",
     "text": [
      "<class 'pandas.core.frame.DataFrame'>\n",
      "Int64Index: 5273 entries, 5783 to 4463\n",
      "Data columns (total 51 columns):\n",
      " #   Column                                 Non-Null Count  Dtype  \n",
      "---  ------                                 --------------  -----  \n",
      " 0   payment_type_id                        5273 non-null   int64  \n",
      " 1   internet_service_type_id               5273 non-null   int64  \n",
      " 2   contract_type_id                       5273 non-null   int64  \n",
      " 3   customer_id                            5273 non-null   object \n",
      " 4   gender                                 5273 non-null   object \n",
      " 5   senior_citizen                         5273 non-null   int64  \n",
      " 6   partner                                5273 non-null   object \n",
      " 7   dependents                             5273 non-null   object \n",
      " 8   tenure                                 5273 non-null   int64  \n",
      " 9   phone_service                          5273 non-null   object \n",
      " 10  multiple_lines                         5273 non-null   object \n",
      " 11  online_security                        5273 non-null   object \n",
      " 12  online_backup                          5273 non-null   object \n",
      " 13  device_protection                      5273 non-null   object \n",
      " 14  tech_support                           5273 non-null   object \n",
      " 15  streaming_tv                           5273 non-null   object \n",
      " 16  streaming_movies                       5273 non-null   object \n",
      " 17  paperless_billing                      5273 non-null   object \n",
      " 18  monthly_charges                        5273 non-null   float64\n",
      " 19  total_charges                          5273 non-null   float64\n",
      " 20  churn                                  5273 non-null   object \n",
      " 21  contract_type                          5273 non-null   object \n",
      " 22  internet_service_type                  5273 non-null   object \n",
      " 23  payment_type                           5273 non-null   object \n",
      " 24  is_female                              5273 non-null   int64  \n",
      " 25  has_partner                            5273 non-null   int64  \n",
      " 26  has_dependents                         5273 non-null   int64  \n",
      " 27  has_phone_service                      5273 non-null   int64  \n",
      " 28  has_paperless_billing                  5273 non-null   int64  \n",
      " 29  has_churned                            5273 non-null   int64  \n",
      " 30  multiple_lines_No phone service        5273 non-null   uint8  \n",
      " 31  multiple_lines_Yes                     5273 non-null   uint8  \n",
      " 32  online_security_No internet service    5273 non-null   uint8  \n",
      " 33  online_security_Yes                    5273 non-null   uint8  \n",
      " 34  online_backup_No internet service      5273 non-null   uint8  \n",
      " 35  online_backup_Yes                      5273 non-null   uint8  \n",
      " 36  device_protection_No internet service  5273 non-null   uint8  \n",
      " 37  device_protection_Yes                  5273 non-null   uint8  \n",
      " 38  tech_support_No internet service       5273 non-null   uint8  \n",
      " 39  tech_support_Yes                       5273 non-null   uint8  \n",
      " 40  streaming_tv_No internet service       5273 non-null   uint8  \n",
      " 41  streaming_tv_Yes                       5273 non-null   uint8  \n",
      " 42  streaming_movies_No internet service   5273 non-null   uint8  \n",
      " 43  streaming_movies_Yes                   5273 non-null   uint8  \n",
      " 44  contract_type_One year                 5273 non-null   uint8  \n",
      " 45  contract_type_Two year                 5273 non-null   uint8  \n",
      " 46  internet_service_type_Fiber optic      5273 non-null   uint8  \n",
      " 47  internet_service_type_None             5273 non-null   uint8  \n",
      " 48  payment_type_Credit card (automatic)   5273 non-null   uint8  \n",
      " 49  payment_type_Electronic check          5273 non-null   uint8  \n",
      " 50  payment_type_Mailed check              5273 non-null   uint8  \n",
      "dtypes: float64(2), int64(11), object(17), uint8(21)\n",
      "memory usage: 1.4+ MB\n"
     ]
    }
   ],
   "source": [
    "# checking for nulls\n",
    "df.info()"
   ]
  },
  {
   "cell_type": "markdown",
   "id": "64bbc7d5",
   "metadata": {},
   "source": [
    "# Start building Models "
   ]
  },
  {
   "cell_type": "code",
   "execution_count": 33,
   "id": "f6d1d30a",
   "metadata": {},
   "outputs": [
    {
     "name": "stdout",
     "output_type": "stream",
     "text": [
      "Train: (5273, 51)\n",
      "Validate: (1055, 51)\n",
      "Test: (704, 51)\n"
     ]
    }
   ],
   "source": [
    "# Size of samples that will be evaluated \n",
    "print(f'Train: {train.shape}')\n",
    "print(f'Validate: {validate.shape}')\n",
    "print(f'Test: {test.shape}')"
   ]
  },
  {
   "cell_type": "markdown",
   "id": "4efbbcad",
   "metadata": {},
   "source": [
    "## Model 1 Decision Tree "
   ]
  },
  {
   "cell_type": "code",
   "execution_count": 34,
   "id": "74d8434f",
   "metadata": {},
   "outputs": [
    {
     "data": {
      "text/html": [
       "<div>\n",
       "<style scoped>\n",
       "    .dataframe tbody tr th:only-of-type {\n",
       "        vertical-align: middle;\n",
       "    }\n",
       "\n",
       "    .dataframe tbody tr th {\n",
       "        vertical-align: top;\n",
       "    }\n",
       "\n",
       "    .dataframe thead th {\n",
       "        text-align: right;\n",
       "    }\n",
       "</style>\n",
       "<table border=\"1\" class=\"dataframe\">\n",
       "  <thead>\n",
       "    <tr style=\"text-align: right;\">\n",
       "      <th></th>\n",
       "      <th>payment_type_id</th>\n",
       "      <th>internet_service_type_id</th>\n",
       "      <th>contract_type_id</th>\n",
       "      <th>customer_id</th>\n",
       "      <th>gender</th>\n",
       "      <th>senior_citizen</th>\n",
       "      <th>partner</th>\n",
       "      <th>dependents</th>\n",
       "      <th>tenure</th>\n",
       "      <th>phone_service</th>\n",
       "      <th>...</th>\n",
       "      <th>streaming_tv_Yes</th>\n",
       "      <th>streaming_movies_No internet service</th>\n",
       "      <th>streaming_movies_Yes</th>\n",
       "      <th>contract_type_One year</th>\n",
       "      <th>contract_type_Two year</th>\n",
       "      <th>internet_service_type_Fiber optic</th>\n",
       "      <th>internet_service_type_None</th>\n",
       "      <th>payment_type_Credit card (automatic)</th>\n",
       "      <th>payment_type_Electronic check</th>\n",
       "      <th>payment_type_Mailed check</th>\n",
       "    </tr>\n",
       "  </thead>\n",
       "  <tbody>\n",
       "    <tr>\n",
       "      <th>5783</th>\n",
       "      <td>1</td>\n",
       "      <td>1</td>\n",
       "      <td>3</td>\n",
       "      <td>8144-DGHXP</td>\n",
       "      <td>Female</td>\n",
       "      <td>0</td>\n",
       "      <td>No</td>\n",
       "      <td>No</td>\n",
       "      <td>54</td>\n",
       "      <td>Yes</td>\n",
       "      <td>...</td>\n",
       "      <td>1</td>\n",
       "      <td>0</td>\n",
       "      <td>1</td>\n",
       "      <td>0</td>\n",
       "      <td>1</td>\n",
       "      <td>0</td>\n",
       "      <td>0</td>\n",
       "      <td>0</td>\n",
       "      <td>1</td>\n",
       "      <td>0</td>\n",
       "    </tr>\n",
       "    <tr>\n",
       "      <th>6596</th>\n",
       "      <td>1</td>\n",
       "      <td>1</td>\n",
       "      <td>1</td>\n",
       "      <td>9373-WSLOY</td>\n",
       "      <td>Male</td>\n",
       "      <td>1</td>\n",
       "      <td>Yes</td>\n",
       "      <td>No</td>\n",
       "      <td>33</td>\n",
       "      <td>No</td>\n",
       "      <td>...</td>\n",
       "      <td>1</td>\n",
       "      <td>0</td>\n",
       "      <td>0</td>\n",
       "      <td>0</td>\n",
       "      <td>0</td>\n",
       "      <td>0</td>\n",
       "      <td>0</td>\n",
       "      <td>0</td>\n",
       "      <td>1</td>\n",
       "      <td>0</td>\n",
       "    </tr>\n",
       "    <tr>\n",
       "      <th>5340</th>\n",
       "      <td>3</td>\n",
       "      <td>2</td>\n",
       "      <td>2</td>\n",
       "      <td>7544-ZVIKX</td>\n",
       "      <td>Male</td>\n",
       "      <td>0</td>\n",
       "      <td>Yes</td>\n",
       "      <td>Yes</td>\n",
       "      <td>58</td>\n",
       "      <td>Yes</td>\n",
       "      <td>...</td>\n",
       "      <td>1</td>\n",
       "      <td>0</td>\n",
       "      <td>1</td>\n",
       "      <td>1</td>\n",
       "      <td>0</td>\n",
       "      <td>1</td>\n",
       "      <td>0</td>\n",
       "      <td>0</td>\n",
       "      <td>0</td>\n",
       "      <td>0</td>\n",
       "    </tr>\n",
       "    <tr>\n",
       "      <th>5311</th>\n",
       "      <td>4</td>\n",
       "      <td>2</td>\n",
       "      <td>1</td>\n",
       "      <td>7503-QQRVF</td>\n",
       "      <td>Male</td>\n",
       "      <td>1</td>\n",
       "      <td>Yes</td>\n",
       "      <td>No</td>\n",
       "      <td>16</td>\n",
       "      <td>Yes</td>\n",
       "      <td>...</td>\n",
       "      <td>0</td>\n",
       "      <td>0</td>\n",
       "      <td>0</td>\n",
       "      <td>0</td>\n",
       "      <td>0</td>\n",
       "      <td>1</td>\n",
       "      <td>0</td>\n",
       "      <td>1</td>\n",
       "      <td>0</td>\n",
       "      <td>0</td>\n",
       "    </tr>\n",
       "    <tr>\n",
       "      <th>3328</th>\n",
       "      <td>1</td>\n",
       "      <td>2</td>\n",
       "      <td>1</td>\n",
       "      <td>4741-WWJQZ</td>\n",
       "      <td>Female</td>\n",
       "      <td>0</td>\n",
       "      <td>Yes</td>\n",
       "      <td>No</td>\n",
       "      <td>2</td>\n",
       "      <td>Yes</td>\n",
       "      <td>...</td>\n",
       "      <td>0</td>\n",
       "      <td>0</td>\n",
       "      <td>0</td>\n",
       "      <td>0</td>\n",
       "      <td>0</td>\n",
       "      <td>1</td>\n",
       "      <td>0</td>\n",
       "      <td>0</td>\n",
       "      <td>1</td>\n",
       "      <td>0</td>\n",
       "    </tr>\n",
       "    <tr>\n",
       "      <th>...</th>\n",
       "      <td>...</td>\n",
       "      <td>...</td>\n",
       "      <td>...</td>\n",
       "      <td>...</td>\n",
       "      <td>...</td>\n",
       "      <td>...</td>\n",
       "      <td>...</td>\n",
       "      <td>...</td>\n",
       "      <td>...</td>\n",
       "      <td>...</td>\n",
       "      <td>...</td>\n",
       "      <td>...</td>\n",
       "      <td>...</td>\n",
       "      <td>...</td>\n",
       "      <td>...</td>\n",
       "      <td>...</td>\n",
       "      <td>...</td>\n",
       "      <td>...</td>\n",
       "      <td>...</td>\n",
       "      <td>...</td>\n",
       "      <td>...</td>\n",
       "    </tr>\n",
       "    <tr>\n",
       "      <th>1246</th>\n",
       "      <td>3</td>\n",
       "      <td>2</td>\n",
       "      <td>1</td>\n",
       "      <td>1845-CSBRZ</td>\n",
       "      <td>Female</td>\n",
       "      <td>1</td>\n",
       "      <td>Yes</td>\n",
       "      <td>Yes</td>\n",
       "      <td>22</td>\n",
       "      <td>Yes</td>\n",
       "      <td>...</td>\n",
       "      <td>1</td>\n",
       "      <td>0</td>\n",
       "      <td>0</td>\n",
       "      <td>0</td>\n",
       "      <td>0</td>\n",
       "      <td>1</td>\n",
       "      <td>0</td>\n",
       "      <td>0</td>\n",
       "      <td>0</td>\n",
       "      <td>0</td>\n",
       "    </tr>\n",
       "    <tr>\n",
       "      <th>6495</th>\n",
       "      <td>1</td>\n",
       "      <td>1</td>\n",
       "      <td>2</td>\n",
       "      <td>9209-NWPGU</td>\n",
       "      <td>Male</td>\n",
       "      <td>0</td>\n",
       "      <td>No</td>\n",
       "      <td>No</td>\n",
       "      <td>44</td>\n",
       "      <td>Yes</td>\n",
       "      <td>...</td>\n",
       "      <td>1</td>\n",
       "      <td>0</td>\n",
       "      <td>0</td>\n",
       "      <td>1</td>\n",
       "      <td>0</td>\n",
       "      <td>0</td>\n",
       "      <td>0</td>\n",
       "      <td>0</td>\n",
       "      <td>1</td>\n",
       "      <td>0</td>\n",
       "    </tr>\n",
       "    <tr>\n",
       "      <th>5616</th>\n",
       "      <td>2</td>\n",
       "      <td>1</td>\n",
       "      <td>1</td>\n",
       "      <td>7909-FIOIY</td>\n",
       "      <td>Female</td>\n",
       "      <td>0</td>\n",
       "      <td>Yes</td>\n",
       "      <td>Yes</td>\n",
       "      <td>19</td>\n",
       "      <td>No</td>\n",
       "      <td>...</td>\n",
       "      <td>0</td>\n",
       "      <td>0</td>\n",
       "      <td>0</td>\n",
       "      <td>0</td>\n",
       "      <td>0</td>\n",
       "      <td>0</td>\n",
       "      <td>0</td>\n",
       "      <td>0</td>\n",
       "      <td>0</td>\n",
       "      <td>1</td>\n",
       "    </tr>\n",
       "    <tr>\n",
       "      <th>6830</th>\n",
       "      <td>2</td>\n",
       "      <td>2</td>\n",
       "      <td>1</td>\n",
       "      <td>9701-CDXHR</td>\n",
       "      <td>Female</td>\n",
       "      <td>0</td>\n",
       "      <td>Yes</td>\n",
       "      <td>No</td>\n",
       "      <td>51</td>\n",
       "      <td>Yes</td>\n",
       "      <td>...</td>\n",
       "      <td>0</td>\n",
       "      <td>0</td>\n",
       "      <td>0</td>\n",
       "      <td>0</td>\n",
       "      <td>0</td>\n",
       "      <td>1</td>\n",
       "      <td>0</td>\n",
       "      <td>0</td>\n",
       "      <td>0</td>\n",
       "      <td>1</td>\n",
       "    </tr>\n",
       "    <tr>\n",
       "      <th>4463</th>\n",
       "      <td>3</td>\n",
       "      <td>3</td>\n",
       "      <td>3</td>\n",
       "      <td>6292-TOSSS</td>\n",
       "      <td>Male</td>\n",
       "      <td>0</td>\n",
       "      <td>No</td>\n",
       "      <td>No</td>\n",
       "      <td>50</td>\n",
       "      <td>Yes</td>\n",
       "      <td>...</td>\n",
       "      <td>0</td>\n",
       "      <td>1</td>\n",
       "      <td>0</td>\n",
       "      <td>0</td>\n",
       "      <td>1</td>\n",
       "      <td>0</td>\n",
       "      <td>1</td>\n",
       "      <td>0</td>\n",
       "      <td>0</td>\n",
       "      <td>0</td>\n",
       "    </tr>\n",
       "  </tbody>\n",
       "</table>\n",
       "<p>5273 rows × 51 columns</p>\n",
       "</div>"
      ],
      "text/plain": [
       "      payment_type_id  internet_service_type_id  contract_type_id customer_id  \\\n",
       "5783                1                         1                 3  8144-DGHXP   \n",
       "6596                1                         1                 1  9373-WSLOY   \n",
       "5340                3                         2                 2  7544-ZVIKX   \n",
       "5311                4                         2                 1  7503-QQRVF   \n",
       "3328                1                         2                 1  4741-WWJQZ   \n",
       "...               ...                       ...               ...         ...   \n",
       "1246                3                         2                 1  1845-CSBRZ   \n",
       "6495                1                         1                 2  9209-NWPGU   \n",
       "5616                2                         1                 1  7909-FIOIY   \n",
       "6830                2                         2                 1  9701-CDXHR   \n",
       "4463                3                         3                 3  6292-TOSSS   \n",
       "\n",
       "      gender  senior_citizen partner dependents  tenure phone_service  ...  \\\n",
       "5783  Female               0      No         No      54           Yes  ...   \n",
       "6596    Male               1     Yes         No      33            No  ...   \n",
       "5340    Male               0     Yes        Yes      58           Yes  ...   \n",
       "5311    Male               1     Yes         No      16           Yes  ...   \n",
       "3328  Female               0     Yes         No       2           Yes  ...   \n",
       "...      ...             ...     ...        ...     ...           ...  ...   \n",
       "1246  Female               1     Yes        Yes      22           Yes  ...   \n",
       "6495    Male               0      No         No      44           Yes  ...   \n",
       "5616  Female               0     Yes        Yes      19            No  ...   \n",
       "6830  Female               0     Yes         No      51           Yes  ...   \n",
       "4463    Male               0      No         No      50           Yes  ...   \n",
       "\n",
       "     streaming_tv_Yes streaming_movies_No internet service  \\\n",
       "5783                1                                    0   \n",
       "6596                1                                    0   \n",
       "5340                1                                    0   \n",
       "5311                0                                    0   \n",
       "3328                0                                    0   \n",
       "...               ...                                  ...   \n",
       "1246                1                                    0   \n",
       "6495                1                                    0   \n",
       "5616                0                                    0   \n",
       "6830                0                                    0   \n",
       "4463                0                                    1   \n",
       "\n",
       "     streaming_movies_Yes contract_type_One year contract_type_Two year  \\\n",
       "5783                    1                      0                      1   \n",
       "6596                    0                      0                      0   \n",
       "5340                    1                      1                      0   \n",
       "5311                    0                      0                      0   \n",
       "3328                    0                      0                      0   \n",
       "...                   ...                    ...                    ...   \n",
       "1246                    0                      0                      0   \n",
       "6495                    0                      1                      0   \n",
       "5616                    0                      0                      0   \n",
       "6830                    0                      0                      0   \n",
       "4463                    0                      0                      1   \n",
       "\n",
       "     internet_service_type_Fiber optic internet_service_type_None  \\\n",
       "5783                                 0                          0   \n",
       "6596                                 0                          0   \n",
       "5340                                 1                          0   \n",
       "5311                                 1                          0   \n",
       "3328                                 1                          0   \n",
       "...                                ...                        ...   \n",
       "1246                                 1                          0   \n",
       "6495                                 0                          0   \n",
       "5616                                 0                          0   \n",
       "6830                                 1                          0   \n",
       "4463                                 0                          1   \n",
       "\n",
       "     payment_type_Credit card (automatic)  payment_type_Electronic check  \\\n",
       "5783                                    0                              1   \n",
       "6596                                    0                              1   \n",
       "5340                                    0                              0   \n",
       "5311                                    1                              0   \n",
       "3328                                    0                              1   \n",
       "...                                   ...                            ...   \n",
       "1246                                    0                              0   \n",
       "6495                                    0                              1   \n",
       "5616                                    0                              0   \n",
       "6830                                    0                              0   \n",
       "4463                                    0                              0   \n",
       "\n",
       "      payment_type_Mailed check  \n",
       "5783                          0  \n",
       "6596                          0  \n",
       "5340                          0  \n",
       "5311                          0  \n",
       "3328                          0  \n",
       "...                         ...  \n",
       "1246                          0  \n",
       "6495                          0  \n",
       "5616                          1  \n",
       "6830                          1  \n",
       "4463                          0  \n",
       "\n",
       "[5273 rows x 51 columns]"
      ]
     },
     "execution_count": 34,
     "metadata": {},
     "output_type": "execute_result"
    }
   ],
   "source": [
    "# breif look at data \n",
    "train"
   ]
  },
  {
   "cell_type": "code",
   "execution_count": 35,
   "id": "7a1b88c0",
   "metadata": {},
   "outputs": [
    {
     "data": {
      "text/html": [
       "<div>\n",
       "<style scoped>\n",
       "    .dataframe tbody tr th:only-of-type {\n",
       "        vertical-align: middle;\n",
       "    }\n",
       "\n",
       "    .dataframe tbody tr th {\n",
       "        vertical-align: top;\n",
       "    }\n",
       "\n",
       "    .dataframe thead th {\n",
       "        text-align: right;\n",
       "    }\n",
       "</style>\n",
       "<table border=\"1\" class=\"dataframe\">\n",
       "  <thead>\n",
       "    <tr style=\"text-align: right;\">\n",
       "      <th></th>\n",
       "      <th>tech_support_Yes</th>\n",
       "      <th>contract_type_One year</th>\n",
       "      <th>contract_type_Two year</th>\n",
       "      <th>internet_service_type_Fiber optic</th>\n",
       "    </tr>\n",
       "  </thead>\n",
       "  <tbody>\n",
       "    <tr>\n",
       "      <th>5783</th>\n",
       "      <td>1</td>\n",
       "      <td>0</td>\n",
       "      <td>1</td>\n",
       "      <td>0</td>\n",
       "    </tr>\n",
       "    <tr>\n",
       "      <th>6596</th>\n",
       "      <td>1</td>\n",
       "      <td>0</td>\n",
       "      <td>0</td>\n",
       "      <td>0</td>\n",
       "    </tr>\n",
       "    <tr>\n",
       "      <th>5340</th>\n",
       "      <td>1</td>\n",
       "      <td>1</td>\n",
       "      <td>0</td>\n",
       "      <td>1</td>\n",
       "    </tr>\n",
       "    <tr>\n",
       "      <th>5311</th>\n",
       "      <td>0</td>\n",
       "      <td>0</td>\n",
       "      <td>0</td>\n",
       "      <td>1</td>\n",
       "    </tr>\n",
       "    <tr>\n",
       "      <th>3328</th>\n",
       "      <td>1</td>\n",
       "      <td>0</td>\n",
       "      <td>0</td>\n",
       "      <td>1</td>\n",
       "    </tr>\n",
       "    <tr>\n",
       "      <th>...</th>\n",
       "      <td>...</td>\n",
       "      <td>...</td>\n",
       "      <td>...</td>\n",
       "      <td>...</td>\n",
       "    </tr>\n",
       "    <tr>\n",
       "      <th>1246</th>\n",
       "      <td>0</td>\n",
       "      <td>0</td>\n",
       "      <td>0</td>\n",
       "      <td>1</td>\n",
       "    </tr>\n",
       "    <tr>\n",
       "      <th>6495</th>\n",
       "      <td>1</td>\n",
       "      <td>1</td>\n",
       "      <td>0</td>\n",
       "      <td>0</td>\n",
       "    </tr>\n",
       "    <tr>\n",
       "      <th>5616</th>\n",
       "      <td>0</td>\n",
       "      <td>0</td>\n",
       "      <td>0</td>\n",
       "      <td>0</td>\n",
       "    </tr>\n",
       "    <tr>\n",
       "      <th>6830</th>\n",
       "      <td>0</td>\n",
       "      <td>0</td>\n",
       "      <td>0</td>\n",
       "      <td>1</td>\n",
       "    </tr>\n",
       "    <tr>\n",
       "      <th>4463</th>\n",
       "      <td>0</td>\n",
       "      <td>0</td>\n",
       "      <td>1</td>\n",
       "      <td>0</td>\n",
       "    </tr>\n",
       "  </tbody>\n",
       "</table>\n",
       "<p>5273 rows × 4 columns</p>\n",
       "</div>"
      ],
      "text/plain": [
       "      tech_support_Yes  contract_type_One year  contract_type_Two year  \\\n",
       "5783                 1                       0                       1   \n",
       "6596                 1                       0                       0   \n",
       "5340                 1                       1                       0   \n",
       "5311                 0                       0                       0   \n",
       "3328                 1                       0                       0   \n",
       "...                ...                     ...                     ...   \n",
       "1246                 0                       0                       0   \n",
       "6495                 1                       1                       0   \n",
       "5616                 0                       0                       0   \n",
       "6830                 0                       0                       0   \n",
       "4463                 0                       0                       1   \n",
       "\n",
       "      internet_service_type_Fiber optic  \n",
       "5783                                  0  \n",
       "6596                                  0  \n",
       "5340                                  1  \n",
       "5311                                  1  \n",
       "3328                                  1  \n",
       "...                                 ...  \n",
       "1246                                  1  \n",
       "6495                                  0  \n",
       "5616                                  0  \n",
       "6830                                  1  \n",
       "4463                                  0  \n",
       "\n",
       "[5273 rows x 4 columns]"
      ]
     },
     "execution_count": 35,
     "metadata": {},
     "output_type": "execute_result"
    }
   ],
   "source": [
    "#Selected the columns I will use for model \n",
    "features = ['tech_support_Yes','contract_type_One year', 'contract_type_Two year','internet_service_type_Fiber optic',]\n",
    "X_train = train[features]\n",
    "X_train"
   ]
  },
  {
   "cell_type": "code",
   "execution_count": 36,
   "id": "caaa5da8",
   "metadata": {
    "scrolled": true
   },
   "outputs": [
    {
     "data": {
      "text/plain": [
       "['payment_type_id',\n",
       " 'internet_service_type_id',\n",
       " 'contract_type_id',\n",
       " 'customer_id',\n",
       " 'gender',\n",
       " 'senior_citizen',\n",
       " 'partner',\n",
       " 'dependents',\n",
       " 'tenure',\n",
       " 'phone_service',\n",
       " 'multiple_lines',\n",
       " 'online_security',\n",
       " 'online_backup',\n",
       " 'device_protection',\n",
       " 'tech_support',\n",
       " 'streaming_tv',\n",
       " 'streaming_movies',\n",
       " 'paperless_billing',\n",
       " 'monthly_charges',\n",
       " 'total_charges',\n",
       " 'churn',\n",
       " 'contract_type',\n",
       " 'internet_service_type',\n",
       " 'payment_type',\n",
       " 'is_female',\n",
       " 'has_partner',\n",
       " 'has_dependents',\n",
       " 'has_phone_service',\n",
       " 'has_paperless_billing',\n",
       " 'has_churned',\n",
       " 'multiple_lines_No phone service',\n",
       " 'multiple_lines_Yes',\n",
       " 'online_security_No internet service',\n",
       " 'online_security_Yes',\n",
       " 'online_backup_No internet service',\n",
       " 'online_backup_Yes',\n",
       " 'device_protection_No internet service',\n",
       " 'device_protection_Yes',\n",
       " 'tech_support_No internet service',\n",
       " 'tech_support_Yes',\n",
       " 'streaming_tv_No internet service',\n",
       " 'streaming_tv_Yes',\n",
       " 'streaming_movies_No internet service',\n",
       " 'streaming_movies_Yes',\n",
       " 'contract_type_One year',\n",
       " 'contract_type_Two year',\n",
       " 'internet_service_type_Fiber optic',\n",
       " 'internet_service_type_None',\n",
       " 'payment_type_Credit card (automatic)',\n",
       " 'payment_type_Electronic check',\n",
       " 'payment_type_Mailed check']"
      ]
     },
     "execution_count": 36,
     "metadata": {},
     "output_type": "execute_result"
    }
   ],
   "source": [
    "#look at all columns \n",
    "list(train.columns)"
   ]
  },
  {
   "cell_type": "code",
   "execution_count": 99,
   "id": "16b7a5eb",
   "metadata": {},
   "outputs": [
    {
     "data": {
      "text/html": [
       "<div>\n",
       "<style scoped>\n",
       "    .dataframe tbody tr th:only-of-type {\n",
       "        vertical-align: middle;\n",
       "    }\n",
       "\n",
       "    .dataframe tbody tr th {\n",
       "        vertical-align: top;\n",
       "    }\n",
       "\n",
       "    .dataframe thead th {\n",
       "        text-align: right;\n",
       "    }\n",
       "</style>\n",
       "<table border=\"1\" class=\"dataframe\">\n",
       "  <thead>\n",
       "    <tr style=\"text-align: right;\">\n",
       "      <th></th>\n",
       "      <th>tech_support_Yes</th>\n",
       "      <th>contract_type_One year</th>\n",
       "      <th>contract_type_Two year</th>\n",
       "      <th>internet_service_type_Fiber optic</th>\n",
       "    </tr>\n",
       "  </thead>\n",
       "  <tbody>\n",
       "    <tr>\n",
       "      <th>5783</th>\n",
       "      <td>1</td>\n",
       "      <td>0</td>\n",
       "      <td>1</td>\n",
       "      <td>0</td>\n",
       "    </tr>\n",
       "    <tr>\n",
       "      <th>6596</th>\n",
       "      <td>1</td>\n",
       "      <td>0</td>\n",
       "      <td>0</td>\n",
       "      <td>0</td>\n",
       "    </tr>\n",
       "    <tr>\n",
       "      <th>5340</th>\n",
       "      <td>1</td>\n",
       "      <td>1</td>\n",
       "      <td>0</td>\n",
       "      <td>1</td>\n",
       "    </tr>\n",
       "    <tr>\n",
       "      <th>5311</th>\n",
       "      <td>0</td>\n",
       "      <td>0</td>\n",
       "      <td>0</td>\n",
       "      <td>1</td>\n",
       "    </tr>\n",
       "    <tr>\n",
       "      <th>3328</th>\n",
       "      <td>1</td>\n",
       "      <td>0</td>\n",
       "      <td>0</td>\n",
       "      <td>1</td>\n",
       "    </tr>\n",
       "    <tr>\n",
       "      <th>...</th>\n",
       "      <td>...</td>\n",
       "      <td>...</td>\n",
       "      <td>...</td>\n",
       "      <td>...</td>\n",
       "    </tr>\n",
       "    <tr>\n",
       "      <th>1246</th>\n",
       "      <td>0</td>\n",
       "      <td>0</td>\n",
       "      <td>0</td>\n",
       "      <td>1</td>\n",
       "    </tr>\n",
       "    <tr>\n",
       "      <th>6495</th>\n",
       "      <td>1</td>\n",
       "      <td>1</td>\n",
       "      <td>0</td>\n",
       "      <td>0</td>\n",
       "    </tr>\n",
       "    <tr>\n",
       "      <th>5616</th>\n",
       "      <td>0</td>\n",
       "      <td>0</td>\n",
       "      <td>0</td>\n",
       "      <td>0</td>\n",
       "    </tr>\n",
       "    <tr>\n",
       "      <th>6830</th>\n",
       "      <td>0</td>\n",
       "      <td>0</td>\n",
       "      <td>0</td>\n",
       "      <td>1</td>\n",
       "    </tr>\n",
       "    <tr>\n",
       "      <th>4463</th>\n",
       "      <td>0</td>\n",
       "      <td>0</td>\n",
       "      <td>1</td>\n",
       "      <td>0</td>\n",
       "    </tr>\n",
       "  </tbody>\n",
       "</table>\n",
       "<p>5273 rows × 4 columns</p>\n",
       "</div>"
      ],
      "text/plain": [
       "      tech_support_Yes  contract_type_One year  contract_type_Two year  \\\n",
       "5783                 1                       0                       1   \n",
       "6596                 1                       0                       0   \n",
       "5340                 1                       1                       0   \n",
       "5311                 0                       0                       0   \n",
       "3328                 1                       0                       0   \n",
       "...                ...                     ...                     ...   \n",
       "1246                 0                       0                       0   \n",
       "6495                 1                       1                       0   \n",
       "5616                 0                       0                       0   \n",
       "6830                 0                       0                       0   \n",
       "4463                 0                       0                       1   \n",
       "\n",
       "      internet_service_type_Fiber optic  \n",
       "5783                                  0  \n",
       "6596                                  0  \n",
       "5340                                  1  \n",
       "5311                                  1  \n",
       "3328                                  1  \n",
       "...                                 ...  \n",
       "1246                                  1  \n",
       "6495                                  0  \n",
       "5616                                  0  \n",
       "6830                                  1  \n",
       "4463                                  0  \n",
       "\n",
       "[5273 rows x 4 columns]"
      ]
     },
     "execution_count": 99,
     "metadata": {},
     "output_type": "execute_result"
    }
   ],
   "source": [
    "# preparing data with selected features\n",
    "features = ['tech_support_Yes','contract_type_One year', 'contract_type_Two year','internet_service_type_Fiber optic',]\n",
    "X_train = train[features]\n",
    "y_train = train['has_churned']\n",
    "\n",
    "X_train\n"
   ]
  },
  {
   "cell_type": "markdown",
   "id": "b00c03fd",
   "metadata": {},
   "source": [
    "1. What is your baseline prediction? What is your baseline accuracy? remember: your baseline prediction for a classification problem is predicting the most prevelant class in the training dataset (the mode). When you make those predictions, what is your accuracy? This is your baseline accuracy."
   ]
  },
  {
   "cell_type": "code",
   "execution_count": 38,
   "id": "85066d09",
   "metadata": {},
   "outputs": [
    {
     "data": {
      "text/plain": [
       "0    3871\n",
       "1    1402\n",
       "Name: has_churned, dtype: int64"
      ]
     },
     "execution_count": 38,
     "metadata": {},
     "output_type": "execute_result"
    }
   ],
   "source": [
    "# counting number of yes and no\n",
    "y_train.value_counts()"
   ]
  },
  {
   "cell_type": "code",
   "execution_count": 39,
   "id": "c075de03",
   "metadata": {},
   "outputs": [
    {
     "name": "stdout",
     "output_type": "stream",
     "text": [
      "Baseline accuracy: 0.73\n"
     ]
    }
   ],
   "source": [
    "# The mode is a great baseline\n",
    "baseline = y_train.mode()\n",
    "\n",
    "# Produce a boolean array with True representing a match between the baseline prediction and reality\n",
    "matches_baseline_prediction = (y_train == 0)\n",
    "\n",
    "baseline_accuracy = matches_baseline_prediction.mean()\n",
    "print(f\"Baseline accuracy: {round(baseline_accuracy, 2)}\")"
   ]
  },
  {
   "cell_type": "markdown",
   "id": "b926e2fe",
   "metadata": {},
   "source": [
    "Below is where I am fitting my decision tree classifier to my training sample "
   ]
  },
  {
   "cell_type": "code",
   "execution_count": 40,
   "id": "27aa9a1d",
   "metadata": {},
   "outputs": [],
   "source": [
    "# Make the model\n",
    "tree1 = DecisionTreeClassifier(max_depth=3, random_state=100)\n",
    "\n",
    "# Fit the model (on train and only train)\n",
    "tree1 = tree1.fit(X_train, y_train)\n",
    "\n",
    "# Evaluating model on training sample\n",
    "y_predictions = tree1.predict(X_train)"
   ]
  },
  {
   "cell_type": "code",
   "execution_count": 41,
   "id": "69c50988",
   "metadata": {
    "scrolled": true
   },
   "outputs": [
    {
     "data": {
      "image/png": "[encoded data removed]",
      "text/plain": [
       "<Figure size 864x504 with 1 Axes>"
      ]
     },
     "metadata": {
      "needs_background": "light"
     },
     "output_type": "display_data"
    }
   ],
   "source": [
    "# displaying decision tree\n",
    "plt.figure(figsize=(12, 7))\n",
    "plot_tree(tree1, feature_names=X_train.columns, class_names=['0','1'])\n",
    "plt.show()"
   ]
  },
  {
   "cell_type": "markdown",
   "id": "2e22bd92",
   "metadata": {},
   "source": [
    "Evaluating in-sample results using the model score, confusion matrix, and classification report."
   ]
  },
  {
   "cell_type": "code",
   "execution_count": 42,
   "id": "bc2d7711",
   "metadata": {},
   "outputs": [
    {
     "name": "stdout",
     "output_type": "stream",
     "text": [
      "Accuracy of Decision Tree classifier on training set: 0.77\n"
     ]
    }
   ],
   "source": [
    "#printing accuracy\n",
    "print('Accuracy of Decision Tree classifier on training set: {:.2f}'\n",
    "      .format(tree1.score(X_train, y_train)))"
   ]
  },
  {
   "cell_type": "code",
   "execution_count": 43,
   "id": "0821f166",
   "metadata": {},
   "outputs": [
    {
     "name": "stderr",
     "output_type": "stream",
     "text": [
      "/opt/homebrew/anaconda3/lib/python3.9/site-packages/sklearn/utils/deprecation.py:87: FutureWarning: Function plot_confusion_matrix is deprecated; Function `plot_confusion_matrix` is deprecated in 1.0 and will be removed in 1.2. Use one of the class methods: ConfusionMatrixDisplay.from_predictions or ConfusionMatrixDisplay.from_estimator.\n",
      "  warnings.warn(msg, category=FutureWarning)\n"
     ]
    },
    {
     "data": {
      "text/plain": [
       "<sklearn.metrics._plot.confusion_matrix.ConfusionMatrixDisplay at 0x12be1d1f0>"
      ]
     },
     "execution_count": 43,
     "metadata": {},
     "output_type": "execute_result"
    },
    {
     "data": {
      "image/png": "[encoded data removed]",
      "text/plain": [
       "<Figure size 432x288 with 2 Axes>"
      ]
     },
     "metadata": {
      "needs_background": "light"
     },
     "output_type": "display_data"
    }
   ],
   "source": [
    "#printing confusion matrix\n",
    "plot_confusion_matrix(tree1, X_train, y_train)\n"
   ]
  },
  {
   "cell_type": "code",
   "execution_count": 44,
   "id": "a62c8ded",
   "metadata": {},
   "outputs": [
    {
     "name": "stdout",
     "output_type": "stream",
     "text": [
      "              precision    recall  f1-score   support\n",
      "\n",
      "           0       0.86      0.82      0.84      3871\n",
      "           1       0.55      0.62      0.59      1402\n",
      "\n",
      "    accuracy                           0.77      5273\n",
      "   macro avg       0.71      0.72      0.71      5273\n",
      "weighted avg       0.78      0.77      0.77      5273\n",
      "\n"
     ]
    }
   ],
   "source": [
    "#printing classification report\n",
    "print(classification_report(y_train, y_predictions))\n"
   ]
  },
  {
   "cell_type": "code",
   "execution_count": 45,
   "id": "43f2d8d1",
   "metadata": {},
   "outputs": [
    {
     "name": "stdout",
     "output_type": "stream",
     "text": [
      "Tree of 1 depth\n"
     ]
    },
    {
     "data": {
      "text/html": [
       "<div>\n",
       "<style scoped>\n",
       "    .dataframe tbody tr th:only-of-type {\n",
       "        vertical-align: middle;\n",
       "    }\n",
       "\n",
       "    .dataframe tbody tr th {\n",
       "        vertical-align: top;\n",
       "    }\n",
       "\n",
       "    .dataframe thead th {\n",
       "        text-align: right;\n",
       "    }\n",
       "</style>\n",
       "<table border=\"1\" class=\"dataframe\">\n",
       "  <thead>\n",
       "    <tr style=\"text-align: right;\">\n",
       "      <th></th>\n",
       "      <th>0</th>\n",
       "      <th>1</th>\n",
       "      <th>accuracy</th>\n",
       "      <th>macro avg</th>\n",
       "      <th>weighted avg</th>\n",
       "    </tr>\n",
       "  </thead>\n",
       "  <tbody>\n",
       "    <tr>\n",
       "      <th>precision</th>\n",
       "      <td>0.857375</td>\n",
       "      <td>0.554499</td>\n",
       "      <td>0.766736</td>\n",
       "      <td>0.705937</td>\n",
       "      <td>0.776845</td>\n",
       "    </tr>\n",
       "    <tr>\n",
       "      <th>recall</th>\n",
       "      <td>0.818393</td>\n",
       "      <td>0.624108</td>\n",
       "      <td>0.766736</td>\n",
       "      <td>0.721251</td>\n",
       "      <td>0.766736</td>\n",
       "    </tr>\n",
       "    <tr>\n",
       "      <th>f1-score</th>\n",
       "      <td>0.837431</td>\n",
       "      <td>0.587248</td>\n",
       "      <td>0.766736</td>\n",
       "      <td>0.712339</td>\n",
       "      <td>0.770911</td>\n",
       "    </tr>\n",
       "    <tr>\n",
       "      <th>support</th>\n",
       "      <td>3871.000000</td>\n",
       "      <td>1402.000000</td>\n",
       "      <td>0.766736</td>\n",
       "      <td>5273.000000</td>\n",
       "      <td>5273.000000</td>\n",
       "    </tr>\n",
       "  </tbody>\n",
       "</table>\n",
       "</div>"
      ],
      "text/plain": [
       "                     0            1  accuracy    macro avg  weighted avg\n",
       "precision     0.857375     0.554499  0.766736     0.705937      0.776845\n",
       "recall        0.818393     0.624108  0.766736     0.721251      0.766736\n",
       "f1-score      0.837431     0.587248  0.766736     0.712339      0.770911\n",
       "support    3871.000000  1402.000000  0.766736  5273.000000   5273.000000"
      ]
     },
     "execution_count": 45,
     "metadata": {},
     "output_type": "execute_result"
    }
   ],
   "source": [
    "# Classification report on actual y values and  model's predicted y values\n",
    "report = classification_report(y_train, y_predictions, output_dict=True)\n",
    "print(\"Tree of 1 depth\")\n",
    "pd.DataFrame(report)"
   ]
  },
  {
   "cell_type": "code",
   "execution_count": 46,
   "id": "3ba3d58c",
   "metadata": {},
   "outputs": [
    {
     "data": {
      "text/plain": [
       "(3168, 703, 527, 875)"
      ]
     },
     "execution_count": 46,
     "metadata": {},
     "output_type": "execute_result"
    }
   ],
   "source": [
    "#Priting values of True Negative, False Positive, False Negative and True Positive \n",
    "# True Negative is predict don't churn and they don't churn \n",
    "# False Positive is predict they don't churn and they do \n",
    "# False Negative is predict they don't churn and they churn\n",
    "# True positive is predict they churn and they churn\n",
    "\n",
    "TN, FP, FN, TP = confusion_matrix(y_train, y_predictions).ravel()\n",
    "\n",
    "TN, FP, FN, TP"
   ]
  },
  {
   "cell_type": "code",
   "execution_count": 47,
   "id": "6f55b1a2",
   "metadata": {},
   "outputs": [
    {
     "name": "stdout",
     "output_type": "stream",
     "text": [
      "Negative Cases: 3871\n",
      "Positive Cases: 1402\n",
      "0    3871\n",
      "1    1402\n",
      "Name: has_churned, dtype: int64\n"
     ]
    }
   ],
   "source": [
    "# printing negative and positive case data\n",
    "negative_cases = TN + FP\n",
    "positive_cases = FN + TP\n",
    "print(f\"Negative Cases: {negative_cases}\")\n",
    "print(f\"Positive Cases: {positive_cases}\")\n",
    "print(y_train.value_counts())"
   ]
  },
  {
   "cell_type": "markdown",
   "id": "a0701334",
   "metadata": {},
   "source": [
    "Have designated churn as positive case"
   ]
  },
  {
   "cell_type": "code",
   "execution_count": 48,
   "id": "e77a968c",
   "metadata": {},
   "outputs": [
    {
     "name": "stdout",
     "output_type": "stream",
     "text": [
      "Accuracy: 0.7667362032998293 \n",
      "\n",
      "True Positive Rate/Sensitivity/Recall/Power: 0.6241084165477889 \n",
      "\n",
      "False Positive Rate/False Alarm Ratio/Fall-out: 0.18160681994316713 \n",
      "\n",
      "True Negative Rate/Specificity/Selectivity: 0.8183931800568328 \n",
      "\n",
      "False Negative Rate/Miss Rate: 0.37589158345221113 \n",
      "\n",
      "Precision/PPV: 0.5544993662864385 \n",
      "\n",
      "F1 Score: 0.587248322147651 \n",
      "\n",
      "Support (0): 3871 \n",
      "\n",
      "Support (1): 1402\n"
     ]
    }
   ],
   "source": [
    "#Transforming classification metrics into more readable format\n",
    "\n",
    "ALL = TP + FP + FN + TN\n",
    "\n",
    "accuracy = (TP + TN)/ALL\n",
    "true_positive_rate = sensitivity = recall = power = TP/(TP+FN)\n",
    "false_positive_rate = false_alarm_ratio = fallout = FP/(FP+TN)\n",
    "true_negative_rate = specificity = selectivity = TN/(TN+FP)\n",
    "false_negative_rate = miss_rate = FN/(FN+TP)\n",
    "precision = PPV = TP/(TP+FP)\n",
    "f1_score = 2*(precision*recall)/(precision+recall)\n",
    "support_pos = TP + FN\n",
    "support_neg = FP + TN\n",
    "\n",
    "print(f\"Accuracy: {accuracy}\", '\\n')\n",
    "print(f\"True Positive Rate/Sensitivity/Recall/Power: {true_positive_rate}\", '\\n')\n",
    "print(f\"False Positive Rate/False Alarm Ratio/Fall-out: {false_positive_rate}\", '\\n')\n",
    "print(f\"True Negative Rate/Specificity/Selectivity: {true_negative_rate}\", '\\n')\n",
    "print(f\"False Negative Rate/Miss Rate: {false_negative_rate}\", '\\n')\n",
    "print(f\"Precision/PPV: {precision}\", '\\n')\n",
    "print(f\"F1 Score: {f1_score}\", '\\n')\n",
    "print(f\"Support (0): {support_neg}\", '\\n')\n",
    "print(f\"Support (1): {support_pos}\")"
   ]
  },
  {
   "cell_type": "markdown",
   "id": "a92615fa",
   "metadata": {},
   "source": [
    "# Model 2 Random Forrest \n"
   ]
  },
  {
   "cell_type": "code",
   "execution_count": 49,
   "id": "bee8ece8",
   "metadata": {},
   "outputs": [],
   "source": [
    "# creating Random Forrest classifier, algorithm\n",
    "\n",
    "rf = RandomForestClassifier(\n",
    "    min_samples_leaf=1, \n",
    "    max_depth=10, \n",
    "    random_state=100\n",
    ")"
   ]
  },
  {
   "cell_type": "code",
   "execution_count": 50,
   "id": "9d9f8636",
   "metadata": {},
   "outputs": [
    {
     "data": {
      "text/plain": [
       "RandomForestClassifier(max_depth=10, random_state=100)"
      ]
     },
     "execution_count": 50,
     "metadata": {},
     "output_type": "execute_result"
    }
   ],
   "source": [
    "# Fit model to sample data\n",
    "\n",
    "rf.fit(X_train, y_train)\n"
   ]
  },
  {
   "cell_type": "code",
   "execution_count": 51,
   "id": "5ee1ca0d",
   "metadata": {},
   "outputs": [],
   "source": [
    "#creating predictions from training sample \n",
    "y_preds = rf.predict(X_train)"
   ]
  },
  {
   "cell_type": "markdown",
   "id": "f7781f62",
   "metadata": {},
   "source": [
    "Evaluating in-sample results using the model score, confusion matrix, and classification report."
   ]
  },
  {
   "cell_type": "code",
   "execution_count": 52,
   "id": "88642c29",
   "metadata": {},
   "outputs": [
    {
     "data": {
      "text/plain": [
       "0.7752702446425185"
      ]
     },
     "execution_count": 52,
     "metadata": {},
     "output_type": "execute_result"
    }
   ],
   "source": [
    "# evaluating model\n",
    "rf.score(X_train, y_train)"
   ]
  },
  {
   "cell_type": "code",
   "execution_count": 53,
   "id": "3eb91a9a",
   "metadata": {},
   "outputs": [
    {
     "data": {
      "text/plain": [
       "array([[3315,  556],\n",
       "       [ 629,  773]])"
      ]
     },
     "execution_count": 53,
     "metadata": {},
     "output_type": "execute_result"
    }
   ],
   "source": [
    "#confusion array \n",
    "confusion_matrix(y_train, y_preds)"
   ]
  },
  {
   "cell_type": "code",
   "execution_count": 54,
   "id": "baba5d76",
   "metadata": {},
   "outputs": [
    {
     "name": "stdout",
     "output_type": "stream",
     "text": [
      "              precision    recall  f1-score   support\n",
      "\n",
      "           0       0.84      0.86      0.85      3871\n",
      "           1       0.58      0.55      0.57      1402\n",
      "\n",
      "    accuracy                           0.78      5273\n",
      "   macro avg       0.71      0.70      0.71      5273\n",
      "weighted avg       0.77      0.78      0.77      5273\n",
      "\n"
     ]
    }
   ],
   "source": [
    "# printing classification report\n",
    "print(classification_report(y_train, y_preds))"
   ]
  },
  {
   "cell_type": "markdown",
   "id": "ebae8bcd",
   "metadata": {},
   "source": [
    "####  Transforming Accuracy, true positive rate, false positive rate, true negative rate, false negative rate, precision, recall, f1-score, and support into more reader friendly format\n"
   ]
  },
  {
   "cell_type": "code",
   "execution_count": 55,
   "id": "c3622861",
   "metadata": {},
   "outputs": [
    {
     "name": "stdout",
     "output_type": "stream",
     "text": [
      "Accuracy: 0.7752702446425185\n",
      "True Positive Rate: 0.551355206847361\n",
      "False Positive Rate: 0.14363213639886335\n",
      "True Negative Rate: 0.8563678636011367\n",
      "False Negative Rate: 0.4486447931526391\n",
      "Precision: 0.581640331075997\n",
      "Recall: 0.551355206847361\n",
      "F1 Score: 0.5660930062248261\n",
      "Support (0): 1402\n",
      "Support (1): 3871\n"
     ]
    }
   ],
   "source": [
    "TN, FP, FN, TP = confusion_matrix(y_train,y_preds).ravel()\n",
    "ALL = TP + TN + FP + FN\n",
    "\n",
    "TP, TN, FP, FN, ALL\n",
    "\n",
    "accuracy = (TP + TN)/ALL\n",
    "print(f\"Accuracy: {accuracy}\")\n",
    "\n",
    "true_positive_rate = TP/(TP+FN)\n",
    "print(f\"True Positive Rate: {true_positive_rate}\")\n",
    "\n",
    "false_positive_rate = FP/(FP+TN)\n",
    "print(f\"False Positive Rate: {false_positive_rate}\")\n",
    "\n",
    "true_negative_rate = TN/(TN+FP)\n",
    "print(f\"True Negative Rate: {true_negative_rate}\")\n",
    "\n",
    "false_negative_rate = FN/(FN+TP)\n",
    "print(f\"False Negative Rate: {false_negative_rate}\")\n",
    "\n",
    "precision = TP/(TP+FP)\n",
    "print(f\"Precision: {precision}\")\n",
    "\n",
    "recall = TP/(TP+FN)\n",
    "print(f\"Recall: {recall}\")\n",
    "\n",
    "f1_score = 2*(precision*recall)/(precision+recall)\n",
    "print(f\"F1 Score: {f1_score}\")\n",
    "\n",
    "support_pos = TP + FN\n",
    "print(f\"Support (0): {support_pos}\")\n",
    "\n",
    "support_neg = FP + TN\n",
    "print(f\"Support (1): {support_neg}\")"
   ]
  },
  {
   "cell_type": "code",
   "execution_count": 56,
   "id": "19e48a3f",
   "metadata": {},
   "outputs": [],
   "source": [
    "# Attempt to optimize model \n",
    "rf = RandomForestClassifier(\n",
    "    min_samples_leaf=5, \n",
    "    max_depth=10, \n",
    "    random_state=100\n",
    ")"
   ]
  },
  {
   "cell_type": "code",
   "execution_count": 57,
   "id": "4295eda0",
   "metadata": {},
   "outputs": [
    {
     "data": {
      "text/plain": [
       "RandomForestClassifier(max_depth=10, min_samples_leaf=5, random_state=100)"
      ]
     },
     "execution_count": 57,
     "metadata": {},
     "output_type": "execute_result"
    }
   ],
   "source": [
    "# Fit model to sample data\n",
    "\n",
    "rf.fit(X_train, y_train)"
   ]
  },
  {
   "cell_type": "code",
   "execution_count": 97,
   "id": "6f387134",
   "metadata": {
    "scrolled": true
   },
   "outputs": [
    {
     "data": {
      "text/plain": [
       "0.7630331753554502"
      ]
     },
     "execution_count": 97,
     "metadata": {},
     "output_type": "execute_result"
    }
   ],
   "source": [
    "## Evaluating model on sample data \n",
    "rf.score(X_train, y_train)\n",
    "rf.score(X_validate, y_validate)"
   ]
  },
  {
   "cell_type": "markdown",
   "id": "a481a7d2",
   "metadata": {},
   "source": [
    "# Model 3 KNN "
   ]
  },
  {
   "cell_type": "markdown",
   "id": "8a92fffd",
   "metadata": {},
   "source": [
    "Fitting K-Nearest Neighbors classifier to training sample and making predictions"
   ]
  },
  {
   "cell_type": "code",
   "execution_count": 59,
   "id": "bbc4da38",
   "metadata": {},
   "outputs": [
    {
     "data": {
      "text/plain": [
       "KNeighborsClassifier()"
      ]
     },
     "execution_count": 59,
     "metadata": {},
     "output_type": "execute_result"
    }
   ],
   "source": [
    "# creating model\n",
    "knn = KNeighborsClassifier(n_neighbors=5)\n",
    "knn"
   ]
  },
  {
   "cell_type": "code",
   "execution_count": 60,
   "id": "84e0ee72",
   "metadata": {},
   "outputs": [
    {
     "data": {
      "text/plain": [
       "KNeighborsClassifier()"
      ]
     },
     "execution_count": 60,
     "metadata": {},
     "output_type": "execute_result"
    }
   ],
   "source": [
    "# fitting data to train data \n",
    "knn.fit(X_train, y_train)"
   ]
  },
  {
   "cell_type": "code",
   "execution_count": 61,
   "id": "f3a66507",
   "metadata": {},
   "outputs": [
    {
     "data": {
      "text/plain": [
       "array([0, 0, 0, ..., 0, 0, 0])"
      ]
     },
     "execution_count": 61,
     "metadata": {},
     "output_type": "execute_result"
    }
   ],
   "source": [
    "# generating predictions for train data \n",
    "y_preds = knn.predict(X_train)\n",
    "y_preds"
   ]
  },
  {
   "cell_type": "code",
   "execution_count": 62,
   "id": "630eeba9",
   "metadata": {},
   "outputs": [
    {
     "name": "stdout",
     "output_type": "stream",
     "text": [
      "Accuracy of KNN classifier on training set: 0.73\n"
     ]
    }
   ],
   "source": [
    "# Evaluating results of model, confusion matrix, and classification report.\n",
    "\n",
    "print('Accuracy of KNN classifier on training set: {:.2f}'\n",
    "     .format(knn.score(X_train, y_train)))"
   ]
  },
  {
   "cell_type": "markdown",
   "id": "c2893b07",
   "metadata": {},
   "source": [
    "# Model 4 KNN (changed features)"
   ]
  },
  {
   "cell_type": "code",
   "execution_count": 63,
   "id": "a6ea0f27",
   "metadata": {},
   "outputs": [],
   "source": [
    "# identifying columns that will be used in training for model \n",
    "features = ['internet_service_type_Fiber optic']\n",
    "y_train = train['has_churned']"
   ]
  },
  {
   "cell_type": "code",
   "execution_count": 64,
   "id": "a19a50b1",
   "metadata": {},
   "outputs": [
    {
     "data": {
      "text/plain": [
       "KNeighborsClassifier()"
      ]
     },
     "execution_count": 64,
     "metadata": {},
     "output_type": "execute_result"
    }
   ],
   "source": [
    "# call knn algorithm\n",
    "knn = KNeighborsClassifier(n_neighbors=5)\n",
    "knn"
   ]
  },
  {
   "cell_type": "code",
   "execution_count": 65,
   "id": "86f6ae19",
   "metadata": {},
   "outputs": [
    {
     "data": {
      "text/plain": [
       "KNeighborsClassifier()"
      ]
     },
     "execution_count": 65,
     "metadata": {},
     "output_type": "execute_result"
    }
   ],
   "source": [
    "# Fit training sample to model \n",
    "knn.fit(X_train, y_train)"
   ]
  },
  {
   "cell_type": "code",
   "execution_count": 66,
   "id": "6dacf0d9",
   "metadata": {},
   "outputs": [
    {
     "data": {
      "text/plain": [
       "array([0, 0, 0, ..., 0, 0, 0])"
      ]
     },
     "execution_count": 66,
     "metadata": {},
     "output_type": "execute_result"
    }
   ],
   "source": [
    "#generate predictions form train sample \n",
    "y_preds = knn.predict(X_train)\n",
    "y_preds"
   ]
  },
  {
   "cell_type": "code",
   "execution_count": 67,
   "id": "c5e837fc",
   "metadata": {},
   "outputs": [
    {
     "name": "stdout",
     "output_type": "stream",
     "text": [
      "Accuracy of KNN classifier on training set: 0.73\n"
     ]
    }
   ],
   "source": [
    "# Evaluating results of model, confusion matrix, and classification report.\n",
    "\n",
    "print('Accuracy of KNN classifier on training set: {:.2f}'\n",
    "     .format(knn.score(X_train, y_train)))"
   ]
  },
  {
   "cell_type": "code",
   "execution_count": 68,
   "id": "c8ce75bf",
   "metadata": {},
   "outputs": [
    {
     "data": {
      "text/plain": [
       "array([[3724,  147],\n",
       "       [1300,  102]])"
      ]
     },
     "execution_count": 68,
     "metadata": {},
     "output_type": "execute_result"
    }
   ],
   "source": [
    "confusion_matrix(y_train, y_preds)\n"
   ]
  },
  {
   "cell_type": "code",
   "execution_count": 69,
   "id": "198c25dc",
   "metadata": {
    "scrolled": true
   },
   "outputs": [
    {
     "name": "stdout",
     "output_type": "stream",
     "text": [
      "              precision    recall  f1-score   support\n",
      "\n",
      "           0       0.74      0.96      0.84      3871\n",
      "           1       0.41      0.07      0.12      1402\n",
      "\n",
      "    accuracy                           0.73      5273\n",
      "   macro avg       0.58      0.52      0.48      5273\n",
      "weighted avg       0.65      0.73      0.65      5273\n",
      "\n"
     ]
    }
   ],
   "source": [
    "print(classification_report(y_train, y_preds))\n"
   ]
  },
  {
   "cell_type": "markdown",
   "id": "587bee5f",
   "metadata": {},
   "source": [
    "# Model 5 Logistic Regression"
   ]
  },
  {
   "cell_type": "code",
   "execution_count": 95,
   "id": "1d5c7542",
   "metadata": {},
   "outputs": [],
   "source": [
    "# preparing data to evaluate on model\n",
    "\n",
    "features = ['tech_support_Yes','contract_type_One year', 'contract_type_Two year','internet_service_type_Fiber optic']\n",
    "X_train = train[features]\n",
    "y_train = train['has_churned']"
   ]
  },
  {
   "cell_type": "code",
   "execution_count": 71,
   "id": "f16e57f4",
   "metadata": {},
   "outputs": [
    {
     "name": "stdout",
     "output_type": "stream",
     "text": [
      "Baseline is 0.73\n",
      "Logistic Regression using age, pclass, and fare features\n",
      "Accuracy of Logistic Regression classifier on training set: 0.78\n"
     ]
    }
   ],
   "source": [
    "# Define the logistic regression model\n",
    "\n",
    "logit = LogisticRegression(random_state=100)\n",
    "\n",
    "# Fit a model using only these specified features\n",
    "# logit.fit(X_train[[\"age\", \"pclass\", \"fare\"]], y_train)\n",
    "logit.fit(X_train[features], y_train)\n",
    "\n",
    "# Since we .fit on a subset, we .predict on that same subset of features\n",
    "y_pred = logit.predict(X_train[features])\n",
    "\n",
    "print(\"Baseline is\", round(baseline_accuracy, 2))\n",
    "print('Accuracy of Logistic Regression classifier on training set: {:.2f}'\n",
    "     .format(logit.score(X_train[features], y_train)))"
   ]
  },
  {
   "cell_type": "markdown",
   "id": "0c88e42a",
   "metadata": {},
   "source": [
    "# Evaluate Best Models on Validate Set "
   ]
  },
  {
   "cell_type": "code",
   "execution_count": 72,
   "id": "7a5fd836",
   "metadata": {},
   "outputs": [],
   "source": [
    "# Decision Tree Model one performance on validate \n",
    "\n",
    "#Features for Model\n",
    "features = ['tech_support_Yes','contract_type_One year', 'contract_type_Two year','internet_service_type_Fiber optic']\n",
    "X_validate = validate[features]\n",
    "y_validate = validate['has_churned']\n",
    "\n",
    "# Make the model\n",
    "tree1 = DecisionTreeClassifier(max_depth=3, random_state=100)\n",
    "\n",
    "# Fit the model (on train and only train)\n",
    "tree1 = tree1.fit(X_train, y_train)\n",
    "\n",
    "# Evaluating model on Evaluate sample\n",
    "y_predictions = tree1.predict(X_validate)"
   ]
  },
  {
   "cell_type": "code",
   "execution_count": 73,
   "id": "f0a837f1",
   "metadata": {},
   "outputs": [
    {
     "data": {
      "image/png": "[encoded data removed]",
      "text/plain": [
       "<Figure size 864x504 with 1 Axes>"
      ]
     },
     "metadata": {
      "needs_background": "light"
     },
     "output_type": "display_data"
    }
   ],
   "source": [
    "# Visual of decision tree\n",
    "plt.figure(figsize=(12, 7))\n",
    "plot_tree(tree1, feature_names=X_validate.columns, class_names=['0','1'])\n",
    "plt.show()"
   ]
  },
  {
   "cell_type": "code",
   "execution_count": 74,
   "id": "cda41319",
   "metadata": {},
   "outputs": [
    {
     "name": "stdout",
     "output_type": "stream",
     "text": [
      "Accuracy of Decision Tree classifier on training set: 0.74\n"
     ]
    }
   ],
   "source": [
    "# Evaluating model score against validate model\n",
    "\n",
    "print('Accuracy of Decision Tree classifier on training set: {:.2f}'\n",
    "      .format(tree1.score(X_validate, y_validate)))"
   ]
  },
  {
   "cell_type": "code",
   "execution_count": 75,
   "id": "3de28e74",
   "metadata": {
    "scrolled": false
   },
   "outputs": [
    {
     "name": "stderr",
     "output_type": "stream",
     "text": [
      "/opt/homebrew/anaconda3/lib/python3.9/site-packages/sklearn/utils/deprecation.py:87: FutureWarning: Function plot_confusion_matrix is deprecated; Function `plot_confusion_matrix` is deprecated in 1.0 and will be removed in 1.2. Use one of the class methods: ConfusionMatrixDisplay.from_predictions or ConfusionMatrixDisplay.from_estimator.\n",
      "  warnings.warn(msg, category=FutureWarning)\n"
     ]
    },
    {
     "data": {
      "text/plain": [
       "<sklearn.metrics._plot.confusion_matrix.ConfusionMatrixDisplay at 0x12bf81520>"
      ]
     },
     "execution_count": 75,
     "metadata": {},
     "output_type": "execute_result"
    },
    {
     "data": {
      "image/png": "[encoded data removed]",
      "text/plain": [
       "<Figure size 432x288 with 2 Axes>"
      ]
     },
     "metadata": {
      "needs_background": "light"
     },
     "output_type": "display_data"
    }
   ],
   "source": [
    "plot_confusion_matrix(tree1, X_validate, y_validate)\n"
   ]
  },
  {
   "cell_type": "code",
   "execution_count": 76,
   "id": "149423ab",
   "metadata": {},
   "outputs": [
    {
     "name": "stdout",
     "output_type": "stream",
     "text": [
      "              precision    recall  f1-score   support\n",
      "\n",
      "           0       0.85      0.79      0.82       775\n",
      "           1       0.51      0.61      0.56       280\n",
      "\n",
      "    accuracy                           0.74      1055\n",
      "   macro avg       0.68      0.70      0.69      1055\n",
      "weighted avg       0.76      0.74      0.75      1055\n",
      "\n"
     ]
    }
   ],
   "source": [
    "print(classification_report(y_validate, y_predictions))\n"
   ]
  },
  {
   "cell_type": "code",
   "execution_count": 77,
   "id": "bcb1a7c4",
   "metadata": {},
   "outputs": [
    {
     "name": "stdout",
     "output_type": "stream",
     "text": [
      "Tree of 1 depth\n"
     ]
    },
    {
     "data": {
      "text/html": [
       "<div>\n",
       "<style scoped>\n",
       "    .dataframe tbody tr th:only-of-type {\n",
       "        vertical-align: middle;\n",
       "    }\n",
       "\n",
       "    .dataframe tbody tr th {\n",
       "        vertical-align: top;\n",
       "    }\n",
       "\n",
       "    .dataframe thead th {\n",
       "        text-align: right;\n",
       "    }\n",
       "</style>\n",
       "<table border=\"1\" class=\"dataframe\">\n",
       "  <thead>\n",
       "    <tr style=\"text-align: right;\">\n",
       "      <th></th>\n",
       "      <th>0</th>\n",
       "      <th>1</th>\n",
       "      <th>accuracy</th>\n",
       "      <th>macro avg</th>\n",
       "      <th>weighted avg</th>\n",
       "    </tr>\n",
       "  </thead>\n",
       "  <tbody>\n",
       "    <tr>\n",
       "      <th>precision</th>\n",
       "      <td>0.849791</td>\n",
       "      <td>0.511905</td>\n",
       "      <td>0.74218</td>\n",
       "      <td>0.680848</td>\n",
       "      <td>0.760115</td>\n",
       "    </tr>\n",
       "    <tr>\n",
       "      <th>recall</th>\n",
       "      <td>0.788387</td>\n",
       "      <td>0.614286</td>\n",
       "      <td>0.74218</td>\n",
       "      <td>0.701336</td>\n",
       "      <td>0.742180</td>\n",
       "    </tr>\n",
       "    <tr>\n",
       "      <th>f1-score</th>\n",
       "      <td>0.817938</td>\n",
       "      <td>0.558442</td>\n",
       "      <td>0.74218</td>\n",
       "      <td>0.688190</td>\n",
       "      <td>0.749067</td>\n",
       "    </tr>\n",
       "    <tr>\n",
       "      <th>support</th>\n",
       "      <td>775.000000</td>\n",
       "      <td>280.000000</td>\n",
       "      <td>0.74218</td>\n",
       "      <td>1055.000000</td>\n",
       "      <td>1055.000000</td>\n",
       "    </tr>\n",
       "  </tbody>\n",
       "</table>\n",
       "</div>"
      ],
      "text/plain": [
       "                    0           1  accuracy    macro avg  weighted avg\n",
       "precision    0.849791    0.511905   0.74218     0.680848      0.760115\n",
       "recall       0.788387    0.614286   0.74218     0.701336      0.742180\n",
       "f1-score     0.817938    0.558442   0.74218     0.688190      0.749067\n",
       "support    775.000000  280.000000   0.74218  1055.000000   1055.000000"
      ]
     },
     "execution_count": 77,
     "metadata": {},
     "output_type": "execute_result"
    }
   ],
   "source": [
    "# Produce the classification report on the actual y values and this model's predicted y values\n",
    "report = classification_report(y_validate, y_predictions, output_dict=True)\n",
    "print(\"Tree of 1 depth\")\n",
    "pd.DataFrame(report)"
   ]
  },
  {
   "cell_type": "code",
   "execution_count": 78,
   "id": "ff4195b5",
   "metadata": {
    "scrolled": true
   },
   "outputs": [
    {
     "name": "stdout",
     "output_type": "stream",
     "text": [
      "Negative Cases: 775\n",
      "Positive Cases: 280\n",
      "0    775\n",
      "1    280\n",
      "Name: has_churned, dtype: int64\n",
      "Accuracy: 0.7421800947867299 \n",
      "\n",
      "True Positive Rate/Sensitivity/Recall/Power: 0.6142857142857143 \n",
      "\n",
      "False Positive Rate/False Alarm Ratio/Fall-out: 0.21161290322580645 \n",
      "\n",
      "True Negative Rate/Specificity/Selectivity: 0.7883870967741935 \n",
      "\n",
      "False Negative Rate/Miss Rate: 0.38571428571428573 \n",
      "\n",
      "Precision/PPV: 0.5119047619047619 \n",
      "\n",
      "F1 Score: 0.5584415584415584 \n",
      "\n",
      "Support (0): 775 \n",
      "\n",
      "Support (1): 280\n"
     ]
    }
   ],
   "source": [
    "# creating readable output for audience\n",
    "TN, FP, FN, TP = confusion_matrix(y_validate, y_predictions).ravel()\n",
    "\n",
    "TN, FP, FN, TP\n",
    "\n",
    "negative_cases = TN + FP\n",
    "positive_cases = FN + TP\n",
    "print(f\"Negative Cases: {negative_cases}\")\n",
    "print(f\"Positive Cases: {positive_cases}\")\n",
    "print(y_validate.value_counts())\n",
    "\n",
    "ALL = TP + FP + FN + TN\n",
    "\n",
    "accuracy = (TP + TN)/ALL\n",
    "true_positive_rate = sensitivity = recall = power = TP/(TP+FN)\n",
    "false_positive_rate = false_alarm_ratio = fallout = FP/(FP+TN)\n",
    "true_negative_rate = specificity = selectivity = TN/(TN+FP)\n",
    "false_negative_rate = miss_rate = FN/(FN+TP)\n",
    "precision = PPV = TP/(TP+FP)\n",
    "f1_score = 2*(precision*recall)/(precision+recall)\n",
    "support_pos = TP + FN\n",
    "support_neg = FP + TN\n",
    "\n",
    "print(f\"Accuracy: {accuracy}\", '\\n')\n",
    "print(f\"True Positive Rate/Sensitivity/Recall/Power: {true_positive_rate}\", '\\n')\n",
    "print(f\"False Positive Rate/False Alarm Ratio/Fall-out: {false_positive_rate}\", '\\n')\n",
    "print(f\"True Negative Rate/Specificity/Selectivity: {true_negative_rate}\", '\\n')\n",
    "print(f\"False Negative Rate/Miss Rate: {false_negative_rate}\", '\\n')\n",
    "print(f\"Precision/PPV: {precision}\", '\\n')\n",
    "print(f\"F1 Score: {f1_score}\", '\\n')\n",
    "print(f\"Support (0): {support_neg}\", '\\n')\n",
    "print(f\"Support (1): {support_pos}\")"
   ]
  },
  {
   "cell_type": "markdown",
   "id": "1fd0799d",
   "metadata": {},
   "source": [
    "Sklearn is calling churned customer (1) our positive case\n"
   ]
  },
  {
   "cell_type": "markdown",
   "id": "95f218b4",
   "metadata": {},
   "source": [
    "# Model 2 Logistic Regression Performance on validate dataset"
   ]
  },
  {
   "cell_type": "code",
   "execution_count": 93,
   "id": "8723cd91",
   "metadata": {},
   "outputs": [],
   "source": [
    "# preparing data to evaluate on model\n",
    "\n",
    "features = ['tech_support_Yes','contract_type_One year', 'contract_type_Two year','internet_service_type_Fiber optic']\n",
    "X_validate = validate[features]\n",
    "y_validate = validate['has_churned']"
   ]
  },
  {
   "cell_type": "code",
   "execution_count": 94,
   "id": "57ccf7b2",
   "metadata": {},
   "outputs": [
    {
     "name": "stdout",
     "output_type": "stream",
     "text": [
      "Baseline is 0.73\n",
      "Logistic Regression using age, pclass, and fare features\n",
      "Accuracy of Logistic Regression classifier on validate set: 0.76\n"
     ]
    }
   ],
   "source": [
    "# Define the logistic regression model\n",
    "\n",
    "logit = LogisticRegression(random_state=100)\n",
    "\n",
    "# Fit a model using only these specified features\n",
    "# logit.fit(X_train[[\"age\", \"pclass\", \"fare\"]], y_train)\n",
    "logit.fit(X_validate[features], y_validate)\n",
    "\n",
    "# Since we .fit on a subset, we .predict on that same subset of features\n",
    "y_pred = logit.predict(X_validate[features])\n",
    "\n",
    "print(\"Baseline is\", round(baseline_accuracy, 2))\n",
    "print(\"Logistic Regression using age, pclass, and fare features\")\n",
    "print('Accuracy of Logistic Regression classifier on validate set: {:.2f}'\n",
    "     .format(logit.score(X_validate[features], y_validate)))"
   ]
  },
  {
   "cell_type": "markdown",
   "id": "75229bf4",
   "metadata": {},
   "source": [
    "# Findings \n",
    "\n",
    "Based on the performance of the two best models on the validate set the best model is the logistic Regression model "
   ]
  },
  {
   "cell_type": "markdown",
   "id": "72651fd1",
   "metadata": {},
   "source": [
    "# Evaluate Best Model on Test Dataset"
   ]
  },
  {
   "cell_type": "code",
   "execution_count": 81,
   "id": "de8ffed3",
   "metadata": {},
   "outputs": [],
   "source": [
    "# preparing data to test on best model\n",
    "features = ['tech_support_Yes','contract_type_One year', 'contract_type_Two year','internet_service_type_Fiber optic',]\n",
    "X_test = test[features]\n",
    "y_test = test['has_churned']"
   ]
  },
  {
   "cell_type": "code",
   "execution_count": 82,
   "id": "d3bcfcdd",
   "metadata": {},
   "outputs": [
    {
     "name": "stdout",
     "output_type": "stream",
     "text": [
      "Baseline is 0.73\n",
      "Logistic Regression using age, pclass, and fare features\n",
      "Accuracy of Logistic Regression classifier on test set: 0.77\n",
      "Accuracy: 0.77\n",
      "[[434  83]\n",
      " [ 81 106]]\n",
      "              precision    recall  f1-score   support\n",
      "\n",
      "           0       0.84      0.84      0.84       517\n",
      "           1       0.56      0.57      0.56       187\n",
      "\n",
      "    accuracy                           0.77       704\n",
      "   macro avg       0.70      0.70      0.70       704\n",
      "weighted avg       0.77      0.77      0.77       704\n",
      "\n"
     ]
    }
   ],
   "source": [
    "# Define the logistic regression model\n",
    "\n",
    "logit = LogisticRegression(random_state=100)\n",
    "\n",
    "# Fit a model using only these specified features\n",
    "# logit.fit(X_train[[\"age\", \"pclass\", \"fare\"]], y_train)\n",
    "logit.fit(X_test[features], y_test)\n",
    "\n",
    "# Since we .fit on a subset, we .predict on that same subset of features\n",
    "y_pred = logit.predict(X_test[features])\n",
    "y_pred_df = pd.DataFrame(y_pred)\n",
    "# Generate raw probabilities\n",
    "\n",
    "y_pred_proba = logit.predict_proba(X_test)\n",
    "y_pred_proba = pd.DataFrame(y_pred_proba, columns = [\"Not Churned\", 'Churned'])\n",
    "y_pred_proba.head().round(3)\n",
    "\n",
    "print(\"Baseline is\", round(baseline_accuracy, 2))\n",
    "print(\"Logistic Regression using age, pclass, and fare features\")\n",
    "print('Accuracy of Logistic Regression classifier on test set: {:.2f}'\n",
    "     .format(logit.score(X_test[features], y_test)))\n",
    "\n",
    "print('Accuracy: {:.2f}'.format(logit.score(X_test, y_test)))\n",
    "\n",
    "print(confusion_matrix(y_test, y_pred))\n",
    "\n",
    "print(classification_report(y_test, y_pred))"
   ]
  },
  {
   "cell_type": "code",
   "execution_count": 83,
   "id": "8ef2cd1d",
   "metadata": {},
   "outputs": [
    {
     "data": {
      "text/html": [
       "<div>\n",
       "<style scoped>\n",
       "    .dataframe tbody tr th:only-of-type {\n",
       "        vertical-align: middle;\n",
       "    }\n",
       "\n",
       "    .dataframe tbody tr th {\n",
       "        vertical-align: top;\n",
       "    }\n",
       "\n",
       "    .dataframe thead th {\n",
       "        text-align: right;\n",
       "    }\n",
       "</style>\n",
       "<table border=\"1\" class=\"dataframe\">\n",
       "  <thead>\n",
       "    <tr style=\"text-align: right;\">\n",
       "      <th></th>\n",
       "      <th>tech_support_Yes</th>\n",
       "      <th>contract_type_One year</th>\n",
       "      <th>contract_type_Two year</th>\n",
       "      <th>internet_service_type_Fiber optic</th>\n",
       "    </tr>\n",
       "  </thead>\n",
       "  <tbody>\n",
       "    <tr>\n",
       "      <th>615</th>\n",
       "      <td>1</td>\n",
       "      <td>0</td>\n",
       "      <td>0</td>\n",
       "      <td>1</td>\n",
       "    </tr>\n",
       "    <tr>\n",
       "      <th>819</th>\n",
       "      <td>0</td>\n",
       "      <td>0</td>\n",
       "      <td>0</td>\n",
       "      <td>1</td>\n",
       "    </tr>\n",
       "    <tr>\n",
       "      <th>1522</th>\n",
       "      <td>0</td>\n",
       "      <td>0</td>\n",
       "      <td>0</td>\n",
       "      <td>0</td>\n",
       "    </tr>\n",
       "    <tr>\n",
       "      <th>579</th>\n",
       "      <td>1</td>\n",
       "      <td>0</td>\n",
       "      <td>0</td>\n",
       "      <td>0</td>\n",
       "    </tr>\n",
       "    <tr>\n",
       "      <th>4733</th>\n",
       "      <td>1</td>\n",
       "      <td>1</td>\n",
       "      <td>0</td>\n",
       "      <td>1</td>\n",
       "    </tr>\n",
       "    <tr>\n",
       "      <th>...</th>\n",
       "      <td>...</td>\n",
       "      <td>...</td>\n",
       "      <td>...</td>\n",
       "      <td>...</td>\n",
       "    </tr>\n",
       "    <tr>\n",
       "      <th>4570</th>\n",
       "      <td>1</td>\n",
       "      <td>0</td>\n",
       "      <td>1</td>\n",
       "      <td>0</td>\n",
       "    </tr>\n",
       "    <tr>\n",
       "      <th>124</th>\n",
       "      <td>0</td>\n",
       "      <td>1</td>\n",
       "      <td>0</td>\n",
       "      <td>1</td>\n",
       "    </tr>\n",
       "    <tr>\n",
       "      <th>2413</th>\n",
       "      <td>0</td>\n",
       "      <td>0</td>\n",
       "      <td>0</td>\n",
       "      <td>1</td>\n",
       "    </tr>\n",
       "    <tr>\n",
       "      <th>4898</th>\n",
       "      <td>1</td>\n",
       "      <td>0</td>\n",
       "      <td>1</td>\n",
       "      <td>0</td>\n",
       "    </tr>\n",
       "    <tr>\n",
       "      <th>672</th>\n",
       "      <td>0</td>\n",
       "      <td>0</td>\n",
       "      <td>0</td>\n",
       "      <td>0</td>\n",
       "    </tr>\n",
       "  </tbody>\n",
       "</table>\n",
       "<p>704 rows × 4 columns</p>\n",
       "</div>"
      ],
      "text/plain": [
       "      tech_support_Yes  contract_type_One year  contract_type_Two year  \\\n",
       "615                  1                       0                       0   \n",
       "819                  0                       0                       0   \n",
       "1522                 0                       0                       0   \n",
       "579                  1                       0                       0   \n",
       "4733                 1                       1                       0   \n",
       "...                ...                     ...                     ...   \n",
       "4570                 1                       0                       1   \n",
       "124                  0                       1                       0   \n",
       "2413                 0                       0                       0   \n",
       "4898                 1                       0                       1   \n",
       "672                  0                       0                       0   \n",
       "\n",
       "      internet_service_type_Fiber optic  \n",
       "615                                   1  \n",
       "819                                   1  \n",
       "1522                                  0  \n",
       "579                                   0  \n",
       "4733                                  1  \n",
       "...                                 ...  \n",
       "4570                                  0  \n",
       "124                                   1  \n",
       "2413                                  1  \n",
       "4898                                  0  \n",
       "672                                   0  \n",
       "\n",
       "[704 rows x 4 columns]"
      ]
     },
     "execution_count": 83,
     "metadata": {},
     "output_type": "execute_result"
    }
   ],
   "source": [
    "#viewing df to correct index numbering\n",
    "X_test"
   ]
  },
  {
   "cell_type": "code",
   "execution_count": 84,
   "id": "0a4343a3",
   "metadata": {},
   "outputs": [
    {
     "data": {
      "text/html": [
       "<div>\n",
       "<style scoped>\n",
       "    .dataframe tbody tr th:only-of-type {\n",
       "        vertical-align: middle;\n",
       "    }\n",
       "\n",
       "    .dataframe tbody tr th {\n",
       "        vertical-align: top;\n",
       "    }\n",
       "\n",
       "    .dataframe thead th {\n",
       "        text-align: right;\n",
       "    }\n",
       "</style>\n",
       "<table border=\"1\" class=\"dataframe\">\n",
       "  <thead>\n",
       "    <tr style=\"text-align: right;\">\n",
       "      <th></th>\n",
       "      <th>probability of churn</th>\n",
       "    </tr>\n",
       "  </thead>\n",
       "  <tbody>\n",
       "    <tr>\n",
       "      <th>0</th>\n",
       "      <td>0</td>\n",
       "    </tr>\n",
       "    <tr>\n",
       "      <th>1</th>\n",
       "      <td>1</td>\n",
       "    </tr>\n",
       "    <tr>\n",
       "      <th>2</th>\n",
       "      <td>0</td>\n",
       "    </tr>\n",
       "    <tr>\n",
       "      <th>3</th>\n",
       "      <td>0</td>\n",
       "    </tr>\n",
       "    <tr>\n",
       "      <th>4</th>\n",
       "      <td>0</td>\n",
       "    </tr>\n",
       "    <tr>\n",
       "      <th>...</th>\n",
       "      <td>...</td>\n",
       "    </tr>\n",
       "    <tr>\n",
       "      <th>699</th>\n",
       "      <td>0</td>\n",
       "    </tr>\n",
       "    <tr>\n",
       "      <th>700</th>\n",
       "      <td>0</td>\n",
       "    </tr>\n",
       "    <tr>\n",
       "      <th>701</th>\n",
       "      <td>1</td>\n",
       "    </tr>\n",
       "    <tr>\n",
       "      <th>702</th>\n",
       "      <td>0</td>\n",
       "    </tr>\n",
       "    <tr>\n",
       "      <th>703</th>\n",
       "      <td>0</td>\n",
       "    </tr>\n",
       "  </tbody>\n",
       "</table>\n",
       "<p>704 rows × 1 columns</p>\n",
       "</div>"
      ],
      "text/plain": [
       "     probability of churn\n",
       "0                       0\n",
       "1                       1\n",
       "2                       0\n",
       "3                       0\n",
       "4                       0\n",
       "..                    ...\n",
       "699                     0\n",
       "700                     0\n",
       "701                     1\n",
       "702                     0\n",
       "703                     0\n",
       "\n",
       "[704 rows x 1 columns]"
      ]
     },
     "execution_count": 84,
     "metadata": {},
     "output_type": "execute_result"
    }
   ],
   "source": [
    "#renaming columns to create more readable columns for readability for probability and prediction columns\n",
    "y_pred_df.rename(columns = {0:'probability of churn'}, inplace = True)\n",
    "y_pred_df"
   ]
  },
  {
   "cell_type": "code",
   "execution_count": 85,
   "id": "784e2791",
   "metadata": {},
   "outputs": [
    {
     "data": {
      "text/html": [
       "<div>\n",
       "<style scoped>\n",
       "    .dataframe tbody tr th:only-of-type {\n",
       "        vertical-align: middle;\n",
       "    }\n",
       "\n",
       "    .dataframe tbody tr th {\n",
       "        vertical-align: top;\n",
       "    }\n",
       "\n",
       "    .dataframe thead th {\n",
       "        text-align: right;\n",
       "    }\n",
       "</style>\n",
       "<table border=\"1\" class=\"dataframe\">\n",
       "  <thead>\n",
       "    <tr style=\"text-align: right;\">\n",
       "      <th></th>\n",
       "      <th>Not Churned</th>\n",
       "      <th>Churned</th>\n",
       "    </tr>\n",
       "  </thead>\n",
       "  <tbody>\n",
       "    <tr>\n",
       "      <th>0</th>\n",
       "      <td>0.553322</td>\n",
       "      <td>0.446678</td>\n",
       "    </tr>\n",
       "    <tr>\n",
       "      <th>1</th>\n",
       "      <td>0.472520</td>\n",
       "      <td>0.527480</td>\n",
       "    </tr>\n",
       "    <tr>\n",
       "      <th>2</th>\n",
       "      <td>0.684314</td>\n",
       "      <td>0.315686</td>\n",
       "    </tr>\n",
       "    <tr>\n",
       "      <th>3</th>\n",
       "      <td>0.749848</td>\n",
       "      <td>0.250152</td>\n",
       "    </tr>\n",
       "    <tr>\n",
       "      <th>4</th>\n",
       "      <td>0.874211</td>\n",
       "      <td>0.125789</td>\n",
       "    </tr>\n",
       "    <tr>\n",
       "      <th>...</th>\n",
       "      <td>...</td>\n",
       "      <td>...</td>\n",
       "    </tr>\n",
       "    <tr>\n",
       "      <th>699</th>\n",
       "      <td>0.974751</td>\n",
       "      <td>0.025249</td>\n",
       "    </tr>\n",
       "    <tr>\n",
       "      <th>700</th>\n",
       "      <td>0.834046</td>\n",
       "      <td>0.165954</td>\n",
       "    </tr>\n",
       "    <tr>\n",
       "      <th>701</th>\n",
       "      <td>0.472520</td>\n",
       "      <td>0.527480</td>\n",
       "    </tr>\n",
       "    <tr>\n",
       "      <th>702</th>\n",
       "      <td>0.974751</td>\n",
       "      <td>0.025249</td>\n",
       "    </tr>\n",
       "    <tr>\n",
       "      <th>703</th>\n",
       "      <td>0.684314</td>\n",
       "      <td>0.315686</td>\n",
       "    </tr>\n",
       "  </tbody>\n",
       "</table>\n",
       "<p>704 rows × 2 columns</p>\n",
       "</div>"
      ],
      "text/plain": [
       "     Not Churned   Churned\n",
       "0       0.553322  0.446678\n",
       "1       0.472520  0.527480\n",
       "2       0.684314  0.315686\n",
       "3       0.749848  0.250152\n",
       "4       0.874211  0.125789\n",
       "..           ...       ...\n",
       "699     0.974751  0.025249\n",
       "700     0.834046  0.165954\n",
       "701     0.472520  0.527480\n",
       "702     0.974751  0.025249\n",
       "703     0.684314  0.315686\n",
       "\n",
       "[704 rows x 2 columns]"
      ]
     },
     "execution_count": 85,
     "metadata": {},
     "output_type": "execute_result"
    }
   ],
   "source": [
    "#checking that index reset for variable\n",
    "y_pred_proba"
   ]
  },
  {
   "cell_type": "code",
   "execution_count": 86,
   "id": "43261ce2",
   "metadata": {},
   "outputs": [
    {
     "data": {
      "text/html": [
       "<div>\n",
       "<style scoped>\n",
       "    .dataframe tbody tr th:only-of-type {\n",
       "        vertical-align: middle;\n",
       "    }\n",
       "\n",
       "    .dataframe tbody tr th {\n",
       "        vertical-align: top;\n",
       "    }\n",
       "\n",
       "    .dataframe thead th {\n",
       "        text-align: right;\n",
       "    }\n",
       "</style>\n",
       "<table border=\"1\" class=\"dataframe\">\n",
       "  <thead>\n",
       "    <tr style=\"text-align: right;\">\n",
       "      <th></th>\n",
       "      <th>index</th>\n",
       "      <th>payment_type_id</th>\n",
       "      <th>internet_service_type_id</th>\n",
       "      <th>contract_type_id</th>\n",
       "      <th>customer_id</th>\n",
       "      <th>gender</th>\n",
       "      <th>senior_citizen</th>\n",
       "      <th>partner</th>\n",
       "      <th>dependents</th>\n",
       "      <th>tenure</th>\n",
       "      <th>...</th>\n",
       "      <th>streaming_tv_Yes</th>\n",
       "      <th>streaming_movies_No internet service</th>\n",
       "      <th>streaming_movies_Yes</th>\n",
       "      <th>contract_type_One year</th>\n",
       "      <th>contract_type_Two year</th>\n",
       "      <th>internet_service_type_Fiber optic</th>\n",
       "      <th>internet_service_type_None</th>\n",
       "      <th>payment_type_Credit card (automatic)</th>\n",
       "      <th>payment_type_Electronic check</th>\n",
       "      <th>payment_type_Mailed check</th>\n",
       "    </tr>\n",
       "  </thead>\n",
       "  <tbody>\n",
       "    <tr>\n",
       "      <th>0</th>\n",
       "      <td>615</td>\n",
       "      <td>2</td>\n",
       "      <td>2</td>\n",
       "      <td>1</td>\n",
       "      <td>0899-WZRSD</td>\n",
       "      <td>Male</td>\n",
       "      <td>0</td>\n",
       "      <td>No</td>\n",
       "      <td>No</td>\n",
       "      <td>56</td>\n",
       "      <td>...</td>\n",
       "      <td>1</td>\n",
       "      <td>0</td>\n",
       "      <td>1</td>\n",
       "      <td>0</td>\n",
       "      <td>0</td>\n",
       "      <td>1</td>\n",
       "      <td>0</td>\n",
       "      <td>0</td>\n",
       "      <td>0</td>\n",
       "      <td>1</td>\n",
       "    </tr>\n",
       "    <tr>\n",
       "      <th>1</th>\n",
       "      <td>819</td>\n",
       "      <td>1</td>\n",
       "      <td>2</td>\n",
       "      <td>1</td>\n",
       "      <td>1196-AMORA</td>\n",
       "      <td>Male</td>\n",
       "      <td>0</td>\n",
       "      <td>No</td>\n",
       "      <td>No</td>\n",
       "      <td>7</td>\n",
       "      <td>...</td>\n",
       "      <td>0</td>\n",
       "      <td>0</td>\n",
       "      <td>0</td>\n",
       "      <td>0</td>\n",
       "      <td>0</td>\n",
       "      <td>1</td>\n",
       "      <td>0</td>\n",
       "      <td>0</td>\n",
       "      <td>1</td>\n",
       "      <td>0</td>\n",
       "    </tr>\n",
       "    <tr>\n",
       "      <th>2</th>\n",
       "      <td>1522</td>\n",
       "      <td>2</td>\n",
       "      <td>3</td>\n",
       "      <td>1</td>\n",
       "      <td>2233-FAGXV</td>\n",
       "      <td>Female</td>\n",
       "      <td>0</td>\n",
       "      <td>Yes</td>\n",
       "      <td>Yes</td>\n",
       "      <td>5</td>\n",
       "      <td>...</td>\n",
       "      <td>0</td>\n",
       "      <td>1</td>\n",
       "      <td>0</td>\n",
       "      <td>0</td>\n",
       "      <td>0</td>\n",
       "      <td>0</td>\n",
       "      <td>1</td>\n",
       "      <td>0</td>\n",
       "      <td>0</td>\n",
       "      <td>1</td>\n",
       "    </tr>\n",
       "    <tr>\n",
       "      <th>3</th>\n",
       "      <td>579</td>\n",
       "      <td>1</td>\n",
       "      <td>1</td>\n",
       "      <td>1</td>\n",
       "      <td>0851-DFJKB</td>\n",
       "      <td>Female</td>\n",
       "      <td>0</td>\n",
       "      <td>No</td>\n",
       "      <td>No</td>\n",
       "      <td>15</td>\n",
       "      <td>...</td>\n",
       "      <td>0</td>\n",
       "      <td>0</td>\n",
       "      <td>0</td>\n",
       "      <td>0</td>\n",
       "      <td>0</td>\n",
       "      <td>0</td>\n",
       "      <td>0</td>\n",
       "      <td>0</td>\n",
       "      <td>1</td>\n",
       "      <td>0</td>\n",
       "    </tr>\n",
       "    <tr>\n",
       "      <th>4</th>\n",
       "      <td>4733</td>\n",
       "      <td>1</td>\n",
       "      <td>2</td>\n",
       "      <td>2</td>\n",
       "      <td>6664-FPDAC</td>\n",
       "      <td>Female</td>\n",
       "      <td>1</td>\n",
       "      <td>No</td>\n",
       "      <td>No</td>\n",
       "      <td>56</td>\n",
       "      <td>...</td>\n",
       "      <td>1</td>\n",
       "      <td>0</td>\n",
       "      <td>1</td>\n",
       "      <td>1</td>\n",
       "      <td>0</td>\n",
       "      <td>1</td>\n",
       "      <td>0</td>\n",
       "      <td>0</td>\n",
       "      <td>1</td>\n",
       "      <td>0</td>\n",
       "    </tr>\n",
       "    <tr>\n",
       "      <th>...</th>\n",
       "      <td>...</td>\n",
       "      <td>...</td>\n",
       "      <td>...</td>\n",
       "      <td>...</td>\n",
       "      <td>...</td>\n",
       "      <td>...</td>\n",
       "      <td>...</td>\n",
       "      <td>...</td>\n",
       "      <td>...</td>\n",
       "      <td>...</td>\n",
       "      <td>...</td>\n",
       "      <td>...</td>\n",
       "      <td>...</td>\n",
       "      <td>...</td>\n",
       "      <td>...</td>\n",
       "      <td>...</td>\n",
       "      <td>...</td>\n",
       "      <td>...</td>\n",
       "      <td>...</td>\n",
       "      <td>...</td>\n",
       "      <td>...</td>\n",
       "    </tr>\n",
       "    <tr>\n",
       "      <th>699</th>\n",
       "      <td>4570</td>\n",
       "      <td>1</td>\n",
       "      <td>1</td>\n",
       "      <td>3</td>\n",
       "      <td>6439-PKTRR</td>\n",
       "      <td>Female</td>\n",
       "      <td>0</td>\n",
       "      <td>Yes</td>\n",
       "      <td>Yes</td>\n",
       "      <td>70</td>\n",
       "      <td>...</td>\n",
       "      <td>1</td>\n",
       "      <td>0</td>\n",
       "      <td>0</td>\n",
       "      <td>0</td>\n",
       "      <td>1</td>\n",
       "      <td>0</td>\n",
       "      <td>0</td>\n",
       "      <td>0</td>\n",
       "      <td>1</td>\n",
       "      <td>0</td>\n",
       "    </tr>\n",
       "    <tr>\n",
       "      <th>700</th>\n",
       "      <td>124</td>\n",
       "      <td>3</td>\n",
       "      <td>2</td>\n",
       "      <td>2</td>\n",
       "      <td>0218-QNVAS</td>\n",
       "      <td>Male</td>\n",
       "      <td>0</td>\n",
       "      <td>Yes</td>\n",
       "      <td>Yes</td>\n",
       "      <td>71</td>\n",
       "      <td>...</td>\n",
       "      <td>1</td>\n",
       "      <td>0</td>\n",
       "      <td>1</td>\n",
       "      <td>1</td>\n",
       "      <td>0</td>\n",
       "      <td>1</td>\n",
       "      <td>0</td>\n",
       "      <td>0</td>\n",
       "      <td>0</td>\n",
       "      <td>0</td>\n",
       "    </tr>\n",
       "    <tr>\n",
       "      <th>701</th>\n",
       "      <td>2413</td>\n",
       "      <td>3</td>\n",
       "      <td>2</td>\n",
       "      <td>1</td>\n",
       "      <td>3452-SRFEG</td>\n",
       "      <td>Male</td>\n",
       "      <td>0</td>\n",
       "      <td>No</td>\n",
       "      <td>No</td>\n",
       "      <td>49</td>\n",
       "      <td>...</td>\n",
       "      <td>0</td>\n",
       "      <td>0</td>\n",
       "      <td>0</td>\n",
       "      <td>0</td>\n",
       "      <td>0</td>\n",
       "      <td>1</td>\n",
       "      <td>0</td>\n",
       "      <td>0</td>\n",
       "      <td>0</td>\n",
       "      <td>0</td>\n",
       "    </tr>\n",
       "    <tr>\n",
       "      <th>702</th>\n",
       "      <td>4898</td>\n",
       "      <td>3</td>\n",
       "      <td>1</td>\n",
       "      <td>3</td>\n",
       "      <td>6898-RBTLU</td>\n",
       "      <td>Female</td>\n",
       "      <td>0</td>\n",
       "      <td>Yes</td>\n",
       "      <td>Yes</td>\n",
       "      <td>49</td>\n",
       "      <td>...</td>\n",
       "      <td>1</td>\n",
       "      <td>0</td>\n",
       "      <td>1</td>\n",
       "      <td>0</td>\n",
       "      <td>1</td>\n",
       "      <td>0</td>\n",
       "      <td>0</td>\n",
       "      <td>0</td>\n",
       "      <td>0</td>\n",
       "      <td>0</td>\n",
       "    </tr>\n",
       "    <tr>\n",
       "      <th>703</th>\n",
       "      <td>672</td>\n",
       "      <td>1</td>\n",
       "      <td>1</td>\n",
       "      <td>1</td>\n",
       "      <td>0980-PVMRC</td>\n",
       "      <td>Female</td>\n",
       "      <td>0</td>\n",
       "      <td>Yes</td>\n",
       "      <td>Yes</td>\n",
       "      <td>40</td>\n",
       "      <td>...</td>\n",
       "      <td>1</td>\n",
       "      <td>0</td>\n",
       "      <td>1</td>\n",
       "      <td>0</td>\n",
       "      <td>0</td>\n",
       "      <td>0</td>\n",
       "      <td>0</td>\n",
       "      <td>0</td>\n",
       "      <td>1</td>\n",
       "      <td>0</td>\n",
       "    </tr>\n",
       "  </tbody>\n",
       "</table>\n",
       "<p>704 rows × 52 columns</p>\n",
       "</div>"
      ],
      "text/plain": [
       "     index  payment_type_id  internet_service_type_id  contract_type_id  \\\n",
       "0      615                2                         2                 1   \n",
       "1      819                1                         2                 1   \n",
       "2     1522                2                         3                 1   \n",
       "3      579                1                         1                 1   \n",
       "4     4733                1                         2                 2   \n",
       "..     ...              ...                       ...               ...   \n",
       "699   4570                1                         1                 3   \n",
       "700    124                3                         2                 2   \n",
       "701   2413                3                         2                 1   \n",
       "702   4898                3                         1                 3   \n",
       "703    672                1                         1                 1   \n",
       "\n",
       "    customer_id  gender  senior_citizen partner dependents  tenure  ...  \\\n",
       "0    0899-WZRSD    Male               0      No         No      56  ...   \n",
       "1    1196-AMORA    Male               0      No         No       7  ...   \n",
       "2    2233-FAGXV  Female               0     Yes        Yes       5  ...   \n",
       "3    0851-DFJKB  Female               0      No         No      15  ...   \n",
       "4    6664-FPDAC  Female               1      No         No      56  ...   \n",
       "..          ...     ...             ...     ...        ...     ...  ...   \n",
       "699  6439-PKTRR  Female               0     Yes        Yes      70  ...   \n",
       "700  0218-QNVAS    Male               0     Yes        Yes      71  ...   \n",
       "701  3452-SRFEG    Male               0      No         No      49  ...   \n",
       "702  6898-RBTLU  Female               0     Yes        Yes      49  ...   \n",
       "703  0980-PVMRC  Female               0     Yes        Yes      40  ...   \n",
       "\n",
       "    streaming_tv_Yes streaming_movies_No internet service  \\\n",
       "0                  1                                    0   \n",
       "1                  0                                    0   \n",
       "2                  0                                    1   \n",
       "3                  0                                    0   \n",
       "4                  1                                    0   \n",
       "..               ...                                  ...   \n",
       "699                1                                    0   \n",
       "700                1                                    0   \n",
       "701                0                                    0   \n",
       "702                1                                    0   \n",
       "703                1                                    0   \n",
       "\n",
       "    streaming_movies_Yes contract_type_One year contract_type_Two year  \\\n",
       "0                      1                      0                      0   \n",
       "1                      0                      0                      0   \n",
       "2                      0                      0                      0   \n",
       "3                      0                      0                      0   \n",
       "4                      1                      1                      0   \n",
       "..                   ...                    ...                    ...   \n",
       "699                    0                      0                      1   \n",
       "700                    1                      1                      0   \n",
       "701                    0                      0                      0   \n",
       "702                    1                      0                      1   \n",
       "703                    1                      0                      0   \n",
       "\n",
       "    internet_service_type_Fiber optic internet_service_type_None  \\\n",
       "0                                   1                          0   \n",
       "1                                   1                          0   \n",
       "2                                   0                          1   \n",
       "3                                   0                          0   \n",
       "4                                   1                          0   \n",
       "..                                ...                        ...   \n",
       "699                                 0                          0   \n",
       "700                                 1                          0   \n",
       "701                                 1                          0   \n",
       "702                                 0                          0   \n",
       "703                                 0                          0   \n",
       "\n",
       "    payment_type_Credit card (automatic) payment_type_Electronic check  \\\n",
       "0                                      0                             0   \n",
       "1                                      0                             1   \n",
       "2                                      0                             0   \n",
       "3                                      0                             1   \n",
       "4                                      0                             1   \n",
       "..                                   ...                           ...   \n",
       "699                                    0                             1   \n",
       "700                                    0                             0   \n",
       "701                                    0                             0   \n",
       "702                                    0                             0   \n",
       "703                                    0                             1   \n",
       "\n",
       "     payment_type_Mailed check  \n",
       "0                            1  \n",
       "1                            0  \n",
       "2                            1  \n",
       "3                            0  \n",
       "4                            0  \n",
       "..                         ...  \n",
       "699                          0  \n",
       "700                          0  \n",
       "701                          0  \n",
       "702                          0  \n",
       "703                          0  \n",
       "\n",
       "[704 rows x 52 columns]"
      ]
     },
     "execution_count": 86,
     "metadata": {},
     "output_type": "execute_result"
    }
   ],
   "source": [
    "#reset index to properly concate dataframes to make csv for final document \n",
    "test_df = test.reset_index()\n",
    "\n",
    "test_df"
   ]
  },
  {
   "cell_type": "code",
   "execution_count": 87,
   "id": "74c76df9",
   "metadata": {},
   "outputs": [
    {
     "data": {
      "text/plain": [
       "0      0899-WZRSD\n",
       "1      1196-AMORA\n",
       "2      2233-FAGXV\n",
       "3      0851-DFJKB\n",
       "4      6664-FPDAC\n",
       "          ...    \n",
       "699    6439-PKTRR\n",
       "700    0218-QNVAS\n",
       "701    3452-SRFEG\n",
       "702    6898-RBTLU\n",
       "703    0980-PVMRC\n",
       "Name: customer_id, Length: 704, dtype: object"
      ]
     },
     "execution_count": 87,
     "metadata": {},
     "output_type": "execute_result"
    }
   ],
   "source": [
    "# creating df \n",
    "test_customer_id = test_df['customer_id']\n",
    "\n",
    "test_customer_id"
   ]
  },
  {
   "cell_type": "code",
   "execution_count": 88,
   "id": "1e0781c6",
   "metadata": {},
   "outputs": [
    {
     "data": {
      "text/html": [
       "<div>\n",
       "<style scoped>\n",
       "    .dataframe tbody tr th:only-of-type {\n",
       "        vertical-align: middle;\n",
       "    }\n",
       "\n",
       "    .dataframe tbody tr th {\n",
       "        vertical-align: top;\n",
       "    }\n",
       "\n",
       "    .dataframe thead th {\n",
       "        text-align: right;\n",
       "    }\n",
       "</style>\n",
       "<table border=\"1\" class=\"dataframe\">\n",
       "  <thead>\n",
       "    <tr style=\"text-align: right;\">\n",
       "      <th></th>\n",
       "      <th>customer_id</th>\n",
       "      <th>probability of churn</th>\n",
       "      <th>Not Churned</th>\n",
       "      <th>Churned</th>\n",
       "    </tr>\n",
       "  </thead>\n",
       "  <tbody>\n",
       "    <tr>\n",
       "      <th>0</th>\n",
       "      <td>0899-WZRSD</td>\n",
       "      <td>0</td>\n",
       "      <td>0.553322</td>\n",
       "      <td>0.446678</td>\n",
       "    </tr>\n",
       "    <tr>\n",
       "      <th>1</th>\n",
       "      <td>1196-AMORA</td>\n",
       "      <td>1</td>\n",
       "      <td>0.472520</td>\n",
       "      <td>0.527480</td>\n",
       "    </tr>\n",
       "    <tr>\n",
       "      <th>2</th>\n",
       "      <td>2233-FAGXV</td>\n",
       "      <td>0</td>\n",
       "      <td>0.684314</td>\n",
       "      <td>0.315686</td>\n",
       "    </tr>\n",
       "    <tr>\n",
       "      <th>3</th>\n",
       "      <td>0851-DFJKB</td>\n",
       "      <td>0</td>\n",
       "      <td>0.749848</td>\n",
       "      <td>0.250152</td>\n",
       "    </tr>\n",
       "    <tr>\n",
       "      <th>4</th>\n",
       "      <td>6664-FPDAC</td>\n",
       "      <td>0</td>\n",
       "      <td>0.874211</td>\n",
       "      <td>0.125789</td>\n",
       "    </tr>\n",
       "    <tr>\n",
       "      <th>...</th>\n",
       "      <td>...</td>\n",
       "      <td>...</td>\n",
       "      <td>...</td>\n",
       "      <td>...</td>\n",
       "    </tr>\n",
       "    <tr>\n",
       "      <th>699</th>\n",
       "      <td>6439-PKTRR</td>\n",
       "      <td>0</td>\n",
       "      <td>0.974751</td>\n",
       "      <td>0.025249</td>\n",
       "    </tr>\n",
       "    <tr>\n",
       "      <th>700</th>\n",
       "      <td>0218-QNVAS</td>\n",
       "      <td>0</td>\n",
       "      <td>0.834046</td>\n",
       "      <td>0.165954</td>\n",
       "    </tr>\n",
       "    <tr>\n",
       "      <th>701</th>\n",
       "      <td>3452-SRFEG</td>\n",
       "      <td>1</td>\n",
       "      <td>0.472520</td>\n",
       "      <td>0.527480</td>\n",
       "    </tr>\n",
       "    <tr>\n",
       "      <th>702</th>\n",
       "      <td>6898-RBTLU</td>\n",
       "      <td>0</td>\n",
       "      <td>0.974751</td>\n",
       "      <td>0.025249</td>\n",
       "    </tr>\n",
       "    <tr>\n",
       "      <th>703</th>\n",
       "      <td>0980-PVMRC</td>\n",
       "      <td>0</td>\n",
       "      <td>0.684314</td>\n",
       "      <td>0.315686</td>\n",
       "    </tr>\n",
       "  </tbody>\n",
       "</table>\n",
       "<p>704 rows × 4 columns</p>\n",
       "</div>"
      ],
      "text/plain": [
       "    customer_id  probability of churn  Not Churned   Churned\n",
       "0    0899-WZRSD                     0     0.553322  0.446678\n",
       "1    1196-AMORA                     1     0.472520  0.527480\n",
       "2    2233-FAGXV                     0     0.684314  0.315686\n",
       "3    0851-DFJKB                     0     0.749848  0.250152\n",
       "4    6664-FPDAC                     0     0.874211  0.125789\n",
       "..          ...                   ...          ...       ...\n",
       "699  6439-PKTRR                     0     0.974751  0.025249\n",
       "700  0218-QNVAS                     0     0.834046  0.165954\n",
       "701  3452-SRFEG                     1     0.472520  0.527480\n",
       "702  6898-RBTLU                     0     0.974751  0.025249\n",
       "703  0980-PVMRC                     0     0.684314  0.315686\n",
       "\n",
       "[704 rows x 4 columns]"
      ]
     },
     "execution_count": 88,
     "metadata": {},
     "output_type": "execute_result"
    }
   ],
   "source": [
    "# Create new dataframe with probabilities,customer_id, predictions\n",
    "df = pd.concat([test_customer_id,y_pred_df,y_pred_proba], axis=1)\n",
    "\n",
    "df\n"
   ]
  },
  {
   "cell_type": "code",
   "execution_count": 89,
   "id": "14d11fe6",
   "metadata": {
    "scrolled": true
   },
   "outputs": [
    {
     "data": {
      "text/html": [
       "<div>\n",
       "<style scoped>\n",
       "    .dataframe tbody tr th:only-of-type {\n",
       "        vertical-align: middle;\n",
       "    }\n",
       "\n",
       "    .dataframe tbody tr th {\n",
       "        vertical-align: top;\n",
       "    }\n",
       "\n",
       "    .dataframe thead th {\n",
       "        text-align: right;\n",
       "    }\n",
       "</style>\n",
       "<table border=\"1\" class=\"dataframe\">\n",
       "  <thead>\n",
       "    <tr style=\"text-align: right;\">\n",
       "      <th></th>\n",
       "      <th>customer_id</th>\n",
       "      <th>prediction_of_churn</th>\n",
       "      <th>Not Churned</th>\n",
       "      <th>churned_probability</th>\n",
       "    </tr>\n",
       "  </thead>\n",
       "  <tbody>\n",
       "    <tr>\n",
       "      <th>0</th>\n",
       "      <td>0899-WZRSD</td>\n",
       "      <td>0</td>\n",
       "      <td>0.553322</td>\n",
       "      <td>0.446678</td>\n",
       "    </tr>\n",
       "    <tr>\n",
       "      <th>1</th>\n",
       "      <td>1196-AMORA</td>\n",
       "      <td>1</td>\n",
       "      <td>0.472520</td>\n",
       "      <td>0.527480</td>\n",
       "    </tr>\n",
       "    <tr>\n",
       "      <th>2</th>\n",
       "      <td>2233-FAGXV</td>\n",
       "      <td>0</td>\n",
       "      <td>0.684314</td>\n",
       "      <td>0.315686</td>\n",
       "    </tr>\n",
       "    <tr>\n",
       "      <th>3</th>\n",
       "      <td>0851-DFJKB</td>\n",
       "      <td>0</td>\n",
       "      <td>0.749848</td>\n",
       "      <td>0.250152</td>\n",
       "    </tr>\n",
       "    <tr>\n",
       "      <th>4</th>\n",
       "      <td>6664-FPDAC</td>\n",
       "      <td>0</td>\n",
       "      <td>0.874211</td>\n",
       "      <td>0.125789</td>\n",
       "    </tr>\n",
       "    <tr>\n",
       "      <th>...</th>\n",
       "      <td>...</td>\n",
       "      <td>...</td>\n",
       "      <td>...</td>\n",
       "      <td>...</td>\n",
       "    </tr>\n",
       "    <tr>\n",
       "      <th>699</th>\n",
       "      <td>6439-PKTRR</td>\n",
       "      <td>0</td>\n",
       "      <td>0.974751</td>\n",
       "      <td>0.025249</td>\n",
       "    </tr>\n",
       "    <tr>\n",
       "      <th>700</th>\n",
       "      <td>0218-QNVAS</td>\n",
       "      <td>0</td>\n",
       "      <td>0.834046</td>\n",
       "      <td>0.165954</td>\n",
       "    </tr>\n",
       "    <tr>\n",
       "      <th>701</th>\n",
       "      <td>3452-SRFEG</td>\n",
       "      <td>1</td>\n",
       "      <td>0.472520</td>\n",
       "      <td>0.527480</td>\n",
       "    </tr>\n",
       "    <tr>\n",
       "      <th>702</th>\n",
       "      <td>6898-RBTLU</td>\n",
       "      <td>0</td>\n",
       "      <td>0.974751</td>\n",
       "      <td>0.025249</td>\n",
       "    </tr>\n",
       "    <tr>\n",
       "      <th>703</th>\n",
       "      <td>0980-PVMRC</td>\n",
       "      <td>0</td>\n",
       "      <td>0.684314</td>\n",
       "      <td>0.315686</td>\n",
       "    </tr>\n",
       "  </tbody>\n",
       "</table>\n",
       "<p>704 rows × 4 columns</p>\n",
       "</div>"
      ],
      "text/plain": [
       "    customer_id  prediction_of_churn  Not Churned  churned_probability\n",
       "0    0899-WZRSD                    0     0.553322             0.446678\n",
       "1    1196-AMORA                    1     0.472520             0.527480\n",
       "2    2233-FAGXV                    0     0.684314             0.315686\n",
       "3    0851-DFJKB                    0     0.749848             0.250152\n",
       "4    6664-FPDAC                    0     0.874211             0.125789\n",
       "..          ...                  ...          ...                  ...\n",
       "699  6439-PKTRR                    0     0.974751             0.025249\n",
       "700  0218-QNVAS                    0     0.834046             0.165954\n",
       "701  3452-SRFEG                    1     0.472520             0.527480\n",
       "702  6898-RBTLU                    0     0.974751             0.025249\n",
       "703  0980-PVMRC                    0     0.684314             0.315686\n",
       "\n",
       "[704 rows x 4 columns]"
      ]
     },
     "execution_count": 89,
     "metadata": {},
     "output_type": "execute_result"
    }
   ],
   "source": [
    "#renaming columns to create more readable columns for readability for probability and prediction columns\n",
    "df.rename(columns = {'probability of churn':'prediction_of_churn','Churned':'churned_probability'}, inplace = True)\n",
    "\n",
    "df"
   ]
  },
  {
   "cell_type": "code",
   "execution_count": 90,
   "id": "ed12fac9",
   "metadata": {},
   "outputs": [
    {
     "data": {
      "text/html": [
       "<div>\n",
       "<style scoped>\n",
       "    .dataframe tbody tr th:only-of-type {\n",
       "        vertical-align: middle;\n",
       "    }\n",
       "\n",
       "    .dataframe tbody tr th {\n",
       "        vertical-align: top;\n",
       "    }\n",
       "\n",
       "    .dataframe thead th {\n",
       "        text-align: right;\n",
       "    }\n",
       "</style>\n",
       "<table border=\"1\" class=\"dataframe\">\n",
       "  <thead>\n",
       "    <tr style=\"text-align: right;\">\n",
       "      <th></th>\n",
       "      <th>customer_id</th>\n",
       "      <th>prediction_of_churn</th>\n",
       "      <th>churned_probability</th>\n",
       "    </tr>\n",
       "  </thead>\n",
       "  <tbody>\n",
       "    <tr>\n",
       "      <th>0</th>\n",
       "      <td>0899-WZRSD</td>\n",
       "      <td>0</td>\n",
       "      <td>0.446678</td>\n",
       "    </tr>\n",
       "    <tr>\n",
       "      <th>1</th>\n",
       "      <td>1196-AMORA</td>\n",
       "      <td>1</td>\n",
       "      <td>0.527480</td>\n",
       "    </tr>\n",
       "    <tr>\n",
       "      <th>2</th>\n",
       "      <td>2233-FAGXV</td>\n",
       "      <td>0</td>\n",
       "      <td>0.315686</td>\n",
       "    </tr>\n",
       "    <tr>\n",
       "      <th>3</th>\n",
       "      <td>0851-DFJKB</td>\n",
       "      <td>0</td>\n",
       "      <td>0.250152</td>\n",
       "    </tr>\n",
       "    <tr>\n",
       "      <th>4</th>\n",
       "      <td>6664-FPDAC</td>\n",
       "      <td>0</td>\n",
       "      <td>0.125789</td>\n",
       "    </tr>\n",
       "    <tr>\n",
       "      <th>...</th>\n",
       "      <td>...</td>\n",
       "      <td>...</td>\n",
       "      <td>...</td>\n",
       "    </tr>\n",
       "    <tr>\n",
       "      <th>699</th>\n",
       "      <td>6439-PKTRR</td>\n",
       "      <td>0</td>\n",
       "      <td>0.025249</td>\n",
       "    </tr>\n",
       "    <tr>\n",
       "      <th>700</th>\n",
       "      <td>0218-QNVAS</td>\n",
       "      <td>0</td>\n",
       "      <td>0.165954</td>\n",
       "    </tr>\n",
       "    <tr>\n",
       "      <th>701</th>\n",
       "      <td>3452-SRFEG</td>\n",
       "      <td>1</td>\n",
       "      <td>0.527480</td>\n",
       "    </tr>\n",
       "    <tr>\n",
       "      <th>702</th>\n",
       "      <td>6898-RBTLU</td>\n",
       "      <td>0</td>\n",
       "      <td>0.025249</td>\n",
       "    </tr>\n",
       "    <tr>\n",
       "      <th>703</th>\n",
       "      <td>0980-PVMRC</td>\n",
       "      <td>0</td>\n",
       "      <td>0.315686</td>\n",
       "    </tr>\n",
       "  </tbody>\n",
       "</table>\n",
       "<p>704 rows × 3 columns</p>\n",
       "</div>"
      ],
      "text/plain": [
       "    customer_id  prediction_of_churn  churned_probability\n",
       "0    0899-WZRSD                    0             0.446678\n",
       "1    1196-AMORA                    1             0.527480\n",
       "2    2233-FAGXV                    0             0.315686\n",
       "3    0851-DFJKB                    0             0.250152\n",
       "4    6664-FPDAC                    0             0.125789\n",
       "..          ...                  ...                  ...\n",
       "699  6439-PKTRR                    0             0.025249\n",
       "700  0218-QNVAS                    0             0.165954\n",
       "701  3452-SRFEG                    1             0.527480\n",
       "702  6898-RBTLU                    0             0.025249\n",
       "703  0980-PVMRC                    0             0.315686\n",
       "\n",
       "[704 rows x 3 columns]"
      ]
     },
     "execution_count": 90,
     "metadata": {},
     "output_type": "execute_result"
    }
   ],
   "source": [
    "#dropping column\n",
    "df.drop(columns=['Not Churned'])\n"
   ]
  },
  {
   "cell_type": "code",
   "execution_count": 91,
   "id": "901326bd",
   "metadata": {},
   "outputs": [],
   "source": [
    "# save new dataframe to csv \n",
    "#df.to_csv(index=False)\n",
    "\n",
    " \n",
    "filepath = Path('classification_project.csv')  \n",
    "filepath.parent.mkdir(parents=True, exist_ok=True)  \n",
    "df.to_csv(filepath) \n",
    "\n"
   ]
  },
  {
   "cell_type": "markdown",
   "id": "a626ccb6",
   "metadata": {},
   "source": [
    "# Findings \n",
    "\n",
    "The best model performed 4% better than the baseline model. Based on the scenario given this is a good model. \n",
    "\n"
   ]
  },
  {
   "cell_type": "code",
   "execution_count": 92,
   "id": "846db224",
   "metadata": {},
   "outputs": [
    {
     "data": {
      "text/html": [
       "<div>\n",
       "<style scoped>\n",
       "    .dataframe tbody tr th:only-of-type {\n",
       "        vertical-align: middle;\n",
       "    }\n",
       "\n",
       "    .dataframe tbody tr th {\n",
       "        vertical-align: top;\n",
       "    }\n",
       "\n",
       "    .dataframe thead th {\n",
       "        text-align: right;\n",
       "    }\n",
       "</style>\n",
       "<table border=\"1\" class=\"dataframe\">\n",
       "  <thead>\n",
       "    <tr style=\"text-align: right;\">\n",
       "      <th></th>\n",
       "      <th>payment_type_id</th>\n",
       "      <th>internet_service_type_id</th>\n",
       "      <th>contract_type_id</th>\n",
       "      <th>customer_id</th>\n",
       "      <th>gender</th>\n",
       "      <th>senior_citizen</th>\n",
       "      <th>partner</th>\n",
       "      <th>dependents</th>\n",
       "      <th>tenure</th>\n",
       "      <th>phone_service</th>\n",
       "      <th>...</th>\n",
       "      <th>streaming_tv_Yes</th>\n",
       "      <th>streaming_movies_No internet service</th>\n",
       "      <th>streaming_movies_Yes</th>\n",
       "      <th>contract_type_One year</th>\n",
       "      <th>contract_type_Two year</th>\n",
       "      <th>internet_service_type_Fiber optic</th>\n",
       "      <th>internet_service_type_None</th>\n",
       "      <th>payment_type_Credit card (automatic)</th>\n",
       "      <th>payment_type_Electronic check</th>\n",
       "      <th>payment_type_Mailed check</th>\n",
       "    </tr>\n",
       "  </thead>\n",
       "  <tbody>\n",
       "    <tr>\n",
       "      <th>615</th>\n",
       "      <td>2</td>\n",
       "      <td>2</td>\n",
       "      <td>1</td>\n",
       "      <td>0899-WZRSD</td>\n",
       "      <td>Male</td>\n",
       "      <td>0</td>\n",
       "      <td>No</td>\n",
       "      <td>No</td>\n",
       "      <td>56</td>\n",
       "      <td>Yes</td>\n",
       "      <td>...</td>\n",
       "      <td>1</td>\n",
       "      <td>0</td>\n",
       "      <td>1</td>\n",
       "      <td>0</td>\n",
       "      <td>0</td>\n",
       "      <td>1</td>\n",
       "      <td>0</td>\n",
       "      <td>0</td>\n",
       "      <td>0</td>\n",
       "      <td>1</td>\n",
       "    </tr>\n",
       "    <tr>\n",
       "      <th>819</th>\n",
       "      <td>1</td>\n",
       "      <td>2</td>\n",
       "      <td>1</td>\n",
       "      <td>1196-AMORA</td>\n",
       "      <td>Male</td>\n",
       "      <td>0</td>\n",
       "      <td>No</td>\n",
       "      <td>No</td>\n",
       "      <td>7</td>\n",
       "      <td>Yes</td>\n",
       "      <td>...</td>\n",
       "      <td>0</td>\n",
       "      <td>0</td>\n",
       "      <td>0</td>\n",
       "      <td>0</td>\n",
       "      <td>0</td>\n",
       "      <td>1</td>\n",
       "      <td>0</td>\n",
       "      <td>0</td>\n",
       "      <td>1</td>\n",
       "      <td>0</td>\n",
       "    </tr>\n",
       "    <tr>\n",
       "      <th>1522</th>\n",
       "      <td>2</td>\n",
       "      <td>3</td>\n",
       "      <td>1</td>\n",
       "      <td>2233-FAGXV</td>\n",
       "      <td>Female</td>\n",
       "      <td>0</td>\n",
       "      <td>Yes</td>\n",
       "      <td>Yes</td>\n",
       "      <td>5</td>\n",
       "      <td>Yes</td>\n",
       "      <td>...</td>\n",
       "      <td>0</td>\n",
       "      <td>1</td>\n",
       "      <td>0</td>\n",
       "      <td>0</td>\n",
       "      <td>0</td>\n",
       "      <td>0</td>\n",
       "      <td>1</td>\n",
       "      <td>0</td>\n",
       "      <td>0</td>\n",
       "      <td>1</td>\n",
       "    </tr>\n",
       "    <tr>\n",
       "      <th>579</th>\n",
       "      <td>1</td>\n",
       "      <td>1</td>\n",
       "      <td>1</td>\n",
       "      <td>0851-DFJKB</td>\n",
       "      <td>Female</td>\n",
       "      <td>0</td>\n",
       "      <td>No</td>\n",
       "      <td>No</td>\n",
       "      <td>15</td>\n",
       "      <td>Yes</td>\n",
       "      <td>...</td>\n",
       "      <td>0</td>\n",
       "      <td>0</td>\n",
       "      <td>0</td>\n",
       "      <td>0</td>\n",
       "      <td>0</td>\n",
       "      <td>0</td>\n",
       "      <td>0</td>\n",
       "      <td>0</td>\n",
       "      <td>1</td>\n",
       "      <td>0</td>\n",
       "    </tr>\n",
       "    <tr>\n",
       "      <th>4733</th>\n",
       "      <td>1</td>\n",
       "      <td>2</td>\n",
       "      <td>2</td>\n",
       "      <td>6664-FPDAC</td>\n",
       "      <td>Female</td>\n",
       "      <td>1</td>\n",
       "      <td>No</td>\n",
       "      <td>No</td>\n",
       "      <td>56</td>\n",
       "      <td>Yes</td>\n",
       "      <td>...</td>\n",
       "      <td>1</td>\n",
       "      <td>0</td>\n",
       "      <td>1</td>\n",
       "      <td>1</td>\n",
       "      <td>0</td>\n",
       "      <td>1</td>\n",
       "      <td>0</td>\n",
       "      <td>0</td>\n",
       "      <td>1</td>\n",
       "      <td>0</td>\n",
       "    </tr>\n",
       "    <tr>\n",
       "      <th>...</th>\n",
       "      <td>...</td>\n",
       "      <td>...</td>\n",
       "      <td>...</td>\n",
       "      <td>...</td>\n",
       "      <td>...</td>\n",
       "      <td>...</td>\n",
       "      <td>...</td>\n",
       "      <td>...</td>\n",
       "      <td>...</td>\n",
       "      <td>...</td>\n",
       "      <td>...</td>\n",
       "      <td>...</td>\n",
       "      <td>...</td>\n",
       "      <td>...</td>\n",
       "      <td>...</td>\n",
       "      <td>...</td>\n",
       "      <td>...</td>\n",
       "      <td>...</td>\n",
       "      <td>...</td>\n",
       "      <td>...</td>\n",
       "      <td>...</td>\n",
       "    </tr>\n",
       "    <tr>\n",
       "      <th>4570</th>\n",
       "      <td>1</td>\n",
       "      <td>1</td>\n",
       "      <td>3</td>\n",
       "      <td>6439-PKTRR</td>\n",
       "      <td>Female</td>\n",
       "      <td>0</td>\n",
       "      <td>Yes</td>\n",
       "      <td>Yes</td>\n",
       "      <td>70</td>\n",
       "      <td>Yes</td>\n",
       "      <td>...</td>\n",
       "      <td>1</td>\n",
       "      <td>0</td>\n",
       "      <td>0</td>\n",
       "      <td>0</td>\n",
       "      <td>1</td>\n",
       "      <td>0</td>\n",
       "      <td>0</td>\n",
       "      <td>0</td>\n",
       "      <td>1</td>\n",
       "      <td>0</td>\n",
       "    </tr>\n",
       "    <tr>\n",
       "      <th>124</th>\n",
       "      <td>3</td>\n",
       "      <td>2</td>\n",
       "      <td>2</td>\n",
       "      <td>0218-QNVAS</td>\n",
       "      <td>Male</td>\n",
       "      <td>0</td>\n",
       "      <td>Yes</td>\n",
       "      <td>Yes</td>\n",
       "      <td>71</td>\n",
       "      <td>Yes</td>\n",
       "      <td>...</td>\n",
       "      <td>1</td>\n",
       "      <td>0</td>\n",
       "      <td>1</td>\n",
       "      <td>1</td>\n",
       "      <td>0</td>\n",
       "      <td>1</td>\n",
       "      <td>0</td>\n",
       "      <td>0</td>\n",
       "      <td>0</td>\n",
       "      <td>0</td>\n",
       "    </tr>\n",
       "    <tr>\n",
       "      <th>2413</th>\n",
       "      <td>3</td>\n",
       "      <td>2</td>\n",
       "      <td>1</td>\n",
       "      <td>3452-SRFEG</td>\n",
       "      <td>Male</td>\n",
       "      <td>0</td>\n",
       "      <td>No</td>\n",
       "      <td>No</td>\n",
       "      <td>49</td>\n",
       "      <td>Yes</td>\n",
       "      <td>...</td>\n",
       "      <td>0</td>\n",
       "      <td>0</td>\n",
       "      <td>0</td>\n",
       "      <td>0</td>\n",
       "      <td>0</td>\n",
       "      <td>1</td>\n",
       "      <td>0</td>\n",
       "      <td>0</td>\n",
       "      <td>0</td>\n",
       "      <td>0</td>\n",
       "    </tr>\n",
       "    <tr>\n",
       "      <th>4898</th>\n",
       "      <td>3</td>\n",
       "      <td>1</td>\n",
       "      <td>3</td>\n",
       "      <td>6898-RBTLU</td>\n",
       "      <td>Female</td>\n",
       "      <td>0</td>\n",
       "      <td>Yes</td>\n",
       "      <td>Yes</td>\n",
       "      <td>49</td>\n",
       "      <td>Yes</td>\n",
       "      <td>...</td>\n",
       "      <td>1</td>\n",
       "      <td>0</td>\n",
       "      <td>1</td>\n",
       "      <td>0</td>\n",
       "      <td>1</td>\n",
       "      <td>0</td>\n",
       "      <td>0</td>\n",
       "      <td>0</td>\n",
       "      <td>0</td>\n",
       "      <td>0</td>\n",
       "    </tr>\n",
       "    <tr>\n",
       "      <th>672</th>\n",
       "      <td>1</td>\n",
       "      <td>1</td>\n",
       "      <td>1</td>\n",
       "      <td>0980-PVMRC</td>\n",
       "      <td>Female</td>\n",
       "      <td>0</td>\n",
       "      <td>Yes</td>\n",
       "      <td>Yes</td>\n",
       "      <td>40</td>\n",
       "      <td>No</td>\n",
       "      <td>...</td>\n",
       "      <td>1</td>\n",
       "      <td>0</td>\n",
       "      <td>1</td>\n",
       "      <td>0</td>\n",
       "      <td>0</td>\n",
       "      <td>0</td>\n",
       "      <td>0</td>\n",
       "      <td>0</td>\n",
       "      <td>1</td>\n",
       "      <td>0</td>\n",
       "    </tr>\n",
       "  </tbody>\n",
       "</table>\n",
       "<p>704 rows × 51 columns</p>\n",
       "</div>"
      ],
      "text/plain": [
       "      payment_type_id  internet_service_type_id  contract_type_id customer_id  \\\n",
       "615                 2                         2                 1  0899-WZRSD   \n",
       "819                 1                         2                 1  1196-AMORA   \n",
       "1522                2                         3                 1  2233-FAGXV   \n",
       "579                 1                         1                 1  0851-DFJKB   \n",
       "4733                1                         2                 2  6664-FPDAC   \n",
       "...               ...                       ...               ...         ...   \n",
       "4570                1                         1                 3  6439-PKTRR   \n",
       "124                 3                         2                 2  0218-QNVAS   \n",
       "2413                3                         2                 1  3452-SRFEG   \n",
       "4898                3                         1                 3  6898-RBTLU   \n",
       "672                 1                         1                 1  0980-PVMRC   \n",
       "\n",
       "      gender  senior_citizen partner dependents  tenure phone_service  ...  \\\n",
       "615     Male               0      No         No      56           Yes  ...   \n",
       "819     Male               0      No         No       7           Yes  ...   \n",
       "1522  Female               0     Yes        Yes       5           Yes  ...   \n",
       "579   Female               0      No         No      15           Yes  ...   \n",
       "4733  Female               1      No         No      56           Yes  ...   \n",
       "...      ...             ...     ...        ...     ...           ...  ...   \n",
       "4570  Female               0     Yes        Yes      70           Yes  ...   \n",
       "124     Male               0     Yes        Yes      71           Yes  ...   \n",
       "2413    Male               0      No         No      49           Yes  ...   \n",
       "4898  Female               0     Yes        Yes      49           Yes  ...   \n",
       "672   Female               0     Yes        Yes      40            No  ...   \n",
       "\n",
       "     streaming_tv_Yes streaming_movies_No internet service  \\\n",
       "615                 1                                    0   \n",
       "819                 0                                    0   \n",
       "1522                0                                    1   \n",
       "579                 0                                    0   \n",
       "4733                1                                    0   \n",
       "...               ...                                  ...   \n",
       "4570                1                                    0   \n",
       "124                 1                                    0   \n",
       "2413                0                                    0   \n",
       "4898                1                                    0   \n",
       "672                 1                                    0   \n",
       "\n",
       "     streaming_movies_Yes contract_type_One year contract_type_Two year  \\\n",
       "615                     1                      0                      0   \n",
       "819                     0                      0                      0   \n",
       "1522                    0                      0                      0   \n",
       "579                     0                      0                      0   \n",
       "4733                    1                      1                      0   \n",
       "...                   ...                    ...                    ...   \n",
       "4570                    0                      0                      1   \n",
       "124                     1                      1                      0   \n",
       "2413                    0                      0                      0   \n",
       "4898                    1                      0                      1   \n",
       "672                     1                      0                      0   \n",
       "\n",
       "     internet_service_type_Fiber optic internet_service_type_None  \\\n",
       "615                                  1                          0   \n",
       "819                                  1                          0   \n",
       "1522                                 0                          1   \n",
       "579                                  0                          0   \n",
       "4733                                 1                          0   \n",
       "...                                ...                        ...   \n",
       "4570                                 0                          0   \n",
       "124                                  1                          0   \n",
       "2413                                 1                          0   \n",
       "4898                                 0                          0   \n",
       "672                                  0                          0   \n",
       "\n",
       "     payment_type_Credit card (automatic)  payment_type_Electronic check  \\\n",
       "615                                     0                              0   \n",
       "819                                     0                              1   \n",
       "1522                                    0                              0   \n",
       "579                                     0                              1   \n",
       "4733                                    0                              1   \n",
       "...                                   ...                            ...   \n",
       "4570                                    0                              1   \n",
       "124                                     0                              0   \n",
       "2413                                    0                              0   \n",
       "4898                                    0                              0   \n",
       "672                                     0                              1   \n",
       "\n",
       "      payment_type_Mailed check  \n",
       "615                           1  \n",
       "819                           0  \n",
       "1522                          1  \n",
       "579                           0  \n",
       "4733                          0  \n",
       "...                         ...  \n",
       "4570                          0  \n",
       "124                           0  \n",
       "2413                          0  \n",
       "4898                          0  \n",
       "672                           0  \n",
       "\n",
       "[704 rows x 51 columns]"
      ]
     },
     "execution_count": 92,
     "metadata": {},
     "output_type": "execute_result"
    }
   ],
   "source": [
    "test"
   ]
  }
 ],
 "metadata": {
  "kernelspec": {
   "display_name": "Python 3 (ipykernel)",
   "language": "python",
   "name": "python3"
  },
  "language_info": {
   "codemirror_mode": {
    "name": "ipython",
    "version": 3
   },
   "file_extension": ".py",
   "mimetype": "text/x-python",
   "name": "python",
   "nbconvert_exporter": "python",
   "pygments_lexer": "ipython3",
   "version": "3.9.12"
  }
 },
 "nbformat": 4,
 "nbformat_minor": 5
}
