{
 "cells": [
  {
   "cell_type": "markdown",
   "id": "premier-milan",
   "metadata": {},
   "source": [
    "# Preventing Customer Churn"
   ]
  },
  {
   "cell_type": "markdown",
   "id": "going-assembly",
   "metadata": {},
   "source": [
    "# Imports"
   ]
  },
  {
   "cell_type": "code",
   "execution_count": 1,
   "id": "divided-poster",
   "metadata": {},
   "outputs": [],
   "source": [
    "# imports used for project \n",
    "from pathlib import Path\n",
    "import matplotlib.pyplot as plt\n",
    "import numpy as np\n",
    "import pandas as pd\n",
    "import seaborn as sns\n",
    "from env import get_db_url\n",
    "from scipy import stats\n",
    "from sklearn.ensemble import RandomForestClassifier\n",
    "from sklearn.neighbors import KNeighborsClassifier\n",
    "from sklearn.tree import DecisionTreeClassifier, plot_tree, export_text\n",
    "from sklearn.metrics import classification_report, confusion_matrix, plot_confusion_matrix\n",
    "import sklearn.linear_model\n",
    "from sklearn.linear_model import LogisticRegression\n",
    "\n",
    "import warnings\n",
    "warnings.filterwarnings(\"ignore\")\n",
    "\n",
    "import wrangle as w\n",
    "import explore as e\n",
    "import model as m\n",
    "\n",
    "#alpha will equal .05 for all statistical tests\n",
    "a = .05\n",
    "\n",
    "np.random.seed(100)"
   ]
  },
  {
   "cell_type": "markdown",
   "id": "criminal-glory",
   "metadata": {},
   "source": [
    "# Acquire\n",
    "\n",
    "* I acquired this data from the Codeup database using mySQL workbench\n",
    "* Each observation or row represents a business profile of a customer\n",
    "* Each column represents a feature of the customer's account\n",
    "* I acquired this data on Wednesday October 26th \n",
    "* The data has 7,043 rows and 24 columns \n"
   ]
  },
  {
   "cell_type": "markdown",
   "id": "impossible-bible",
   "metadata": {},
   "source": [
    "# Prepare\n",
    "\n",
    "* Removed null values stored as whitespace\n",
    "* Changed total charges from object to float and did not identify or address outliers\n",
    "* Split data into train, validate and test(approx. 74/16/10)\n",
    "* Encoded binary categorical variables to 1 or 0 \n",
    "* Converted non-binary categorical variables to 1 and 0 \n",
    "* No columns were dropped during preparation \n",
    "\n"
   ]
  },
  {
   "cell_type": "markdown",
   "id": "adc64426",
   "metadata": {},
   "source": [
    "## Data Dictionary\n",
    "| Feature | Definition |\n",
    "|:--------|:-----------|\n",
    "|Has Churned| True or False, The status of the customer|\n",
    "|Internet Service Type| The type of internet service the customer has: none, Fiber Optic, DSL|\n",
    "|Tech Support| True or False, The customer does or does not have technical support|\n",
    "|Phone Service| True or False, The customer does or does not have phone service|\n",
    "|Contract Type| The customer has a contract length of month to month, one year or two years|\n",
    "\n",
    "\n"
   ]
  },
  {
   "cell_type": "code",
   "execution_count": 2,
   "id": "paperback-gather",
   "metadata": {},
   "outputs": [],
   "source": [
    "# acquiring data\n",
    "df = w.new_telco_data()\n",
    "\n",
    "#cleaning data and splitting data\n",
    "train, validate, test = w.prep_telco_data(df)\n"
   ]
  },
  {
   "cell_type": "markdown",
   "id": "dc0d9c80",
   "metadata": {},
   "source": [
    "## Data at a glance "
   ]
  },
  {
   "cell_type": "code",
   "execution_count": 3,
   "id": "d5950820",
   "metadata": {},
   "outputs": [
    {
     "data": {
      "text/html": [
       "<div>\n",
       "<style scoped>\n",
       "    .dataframe tbody tr th:only-of-type {\n",
       "        vertical-align: middle;\n",
       "    }\n",
       "\n",
       "    .dataframe tbody tr th {\n",
       "        vertical-align: top;\n",
       "    }\n",
       "\n",
       "    .dataframe thead th {\n",
       "        text-align: right;\n",
       "    }\n",
       "</style>\n",
       "<table border=\"1\" class=\"dataframe\">\n",
       "  <thead>\n",
       "    <tr style=\"text-align: right;\">\n",
       "      <th></th>\n",
       "      <th>payment_type_id</th>\n",
       "      <th>internet_service_type_id</th>\n",
       "      <th>contract_type_id</th>\n",
       "      <th>customer_id</th>\n",
       "      <th>gender</th>\n",
       "      <th>senior_citizen</th>\n",
       "      <th>partner</th>\n",
       "      <th>dependents</th>\n",
       "      <th>tenure</th>\n",
       "      <th>phone_service</th>\n",
       "      <th>...</th>\n",
       "      <th>streaming_tv_Yes</th>\n",
       "      <th>streaming_movies_No internet service</th>\n",
       "      <th>streaming_movies_Yes</th>\n",
       "      <th>contract_type_One year</th>\n",
       "      <th>contract_type_Two year</th>\n",
       "      <th>internet_service_type_Fiber optic</th>\n",
       "      <th>internet_service_type_None</th>\n",
       "      <th>payment_type_Credit card (automatic)</th>\n",
       "      <th>payment_type_Electronic check</th>\n",
       "      <th>payment_type_Mailed check</th>\n",
       "    </tr>\n",
       "  </thead>\n",
       "  <tbody>\n",
       "    <tr>\n",
       "      <th>5783</th>\n",
       "      <td>1</td>\n",
       "      <td>1</td>\n",
       "      <td>3</td>\n",
       "      <td>8144-DGHXP</td>\n",
       "      <td>Female</td>\n",
       "      <td>0</td>\n",
       "      <td>No</td>\n",
       "      <td>No</td>\n",
       "      <td>54</td>\n",
       "      <td>Yes</td>\n",
       "      <td>...</td>\n",
       "      <td>1</td>\n",
       "      <td>0</td>\n",
       "      <td>1</td>\n",
       "      <td>0</td>\n",
       "      <td>1</td>\n",
       "      <td>0</td>\n",
       "      <td>0</td>\n",
       "      <td>0</td>\n",
       "      <td>1</td>\n",
       "      <td>0</td>\n",
       "    </tr>\n",
       "    <tr>\n",
       "      <th>6596</th>\n",
       "      <td>1</td>\n",
       "      <td>1</td>\n",
       "      <td>1</td>\n",
       "      <td>9373-WSLOY</td>\n",
       "      <td>Male</td>\n",
       "      <td>1</td>\n",
       "      <td>Yes</td>\n",
       "      <td>No</td>\n",
       "      <td>33</td>\n",
       "      <td>No</td>\n",
       "      <td>...</td>\n",
       "      <td>1</td>\n",
       "      <td>0</td>\n",
       "      <td>0</td>\n",
       "      <td>0</td>\n",
       "      <td>0</td>\n",
       "      <td>0</td>\n",
       "      <td>0</td>\n",
       "      <td>0</td>\n",
       "      <td>1</td>\n",
       "      <td>0</td>\n",
       "    </tr>\n",
       "    <tr>\n",
       "      <th>5340</th>\n",
       "      <td>3</td>\n",
       "      <td>2</td>\n",
       "      <td>2</td>\n",
       "      <td>7544-ZVIKX</td>\n",
       "      <td>Male</td>\n",
       "      <td>0</td>\n",
       "      <td>Yes</td>\n",
       "      <td>Yes</td>\n",
       "      <td>58</td>\n",
       "      <td>Yes</td>\n",
       "      <td>...</td>\n",
       "      <td>1</td>\n",
       "      <td>0</td>\n",
       "      <td>1</td>\n",
       "      <td>1</td>\n",
       "      <td>0</td>\n",
       "      <td>1</td>\n",
       "      <td>0</td>\n",
       "      <td>0</td>\n",
       "      <td>0</td>\n",
       "      <td>0</td>\n",
       "    </tr>\n",
       "    <tr>\n",
       "      <th>5311</th>\n",
       "      <td>4</td>\n",
       "      <td>2</td>\n",
       "      <td>1</td>\n",
       "      <td>7503-QQRVF</td>\n",
       "      <td>Male</td>\n",
       "      <td>1</td>\n",
       "      <td>Yes</td>\n",
       "      <td>No</td>\n",
       "      <td>16</td>\n",
       "      <td>Yes</td>\n",
       "      <td>...</td>\n",
       "      <td>0</td>\n",
       "      <td>0</td>\n",
       "      <td>0</td>\n",
       "      <td>0</td>\n",
       "      <td>0</td>\n",
       "      <td>1</td>\n",
       "      <td>0</td>\n",
       "      <td>1</td>\n",
       "      <td>0</td>\n",
       "      <td>0</td>\n",
       "    </tr>\n",
       "    <tr>\n",
       "      <th>3328</th>\n",
       "      <td>1</td>\n",
       "      <td>2</td>\n",
       "      <td>1</td>\n",
       "      <td>4741-WWJQZ</td>\n",
       "      <td>Female</td>\n",
       "      <td>0</td>\n",
       "      <td>Yes</td>\n",
       "      <td>No</td>\n",
       "      <td>2</td>\n",
       "      <td>Yes</td>\n",
       "      <td>...</td>\n",
       "      <td>0</td>\n",
       "      <td>0</td>\n",
       "      <td>0</td>\n",
       "      <td>0</td>\n",
       "      <td>0</td>\n",
       "      <td>1</td>\n",
       "      <td>0</td>\n",
       "      <td>0</td>\n",
       "      <td>1</td>\n",
       "      <td>0</td>\n",
       "    </tr>\n",
       "  </tbody>\n",
       "</table>\n",
       "<p>5 rows × 51 columns</p>\n",
       "</div>"
      ],
      "text/plain": [
       "      payment_type_id  internet_service_type_id  contract_type_id customer_id  \\\n",
       "5783                1                         1                 3  8144-DGHXP   \n",
       "6596                1                         1                 1  9373-WSLOY   \n",
       "5340                3                         2                 2  7544-ZVIKX   \n",
       "5311                4                         2                 1  7503-QQRVF   \n",
       "3328                1                         2                 1  4741-WWJQZ   \n",
       "\n",
       "      gender  senior_citizen partner dependents  tenure phone_service  ...  \\\n",
       "5783  Female               0      No         No      54           Yes  ...   \n",
       "6596    Male               1     Yes         No      33            No  ...   \n",
       "5340    Male               0     Yes        Yes      58           Yes  ...   \n",
       "5311    Male               1     Yes         No      16           Yes  ...   \n",
       "3328  Female               0     Yes         No       2           Yes  ...   \n",
       "\n",
       "     streaming_tv_Yes streaming_movies_No internet service  \\\n",
       "5783                1                                    0   \n",
       "6596                1                                    0   \n",
       "5340                1                                    0   \n",
       "5311                0                                    0   \n",
       "3328                0                                    0   \n",
       "\n",
       "     streaming_movies_Yes contract_type_One year contract_type_Two year  \\\n",
       "5783                    1                      0                      1   \n",
       "6596                    0                      0                      0   \n",
       "5340                    1                      1                      0   \n",
       "5311                    0                      0                      0   \n",
       "3328                    0                      0                      0   \n",
       "\n",
       "     internet_service_type_Fiber optic internet_service_type_None  \\\n",
       "5783                                 0                          0   \n",
       "6596                                 0                          0   \n",
       "5340                                 1                          0   \n",
       "5311                                 1                          0   \n",
       "3328                                 1                          0   \n",
       "\n",
       "     payment_type_Credit card (automatic)  payment_type_Electronic check  \\\n",
       "5783                                    0                              1   \n",
       "6596                                    0                              1   \n",
       "5340                                    0                              0   \n",
       "5311                                    1                              0   \n",
       "3328                                    0                              1   \n",
       "\n",
       "      payment_type_Mailed check  \n",
       "5783                          0  \n",
       "6596                          0  \n",
       "5340                          0  \n",
       "5311                          0  \n",
       "3328                          0  \n",
       "\n",
       "[5 rows x 51 columns]"
      ]
     },
     "execution_count": 3,
     "metadata": {},
     "output_type": "execute_result"
    }
   ],
   "source": [
    "# brief look at data\n",
    "train.head()"
   ]
  },
  {
   "cell_type": "markdown",
   "id": "001bf740",
   "metadata": {},
   "source": [
    "## Description of the data "
   ]
  },
  {
   "cell_type": "code",
   "execution_count": 4,
   "id": "3f870ea5",
   "metadata": {},
   "outputs": [
    {
     "data": {
      "text/html": [
       "<div>\n",
       "<style scoped>\n",
       "    .dataframe tbody tr th:only-of-type {\n",
       "        vertical-align: middle;\n",
       "    }\n",
       "\n",
       "    .dataframe tbody tr th {\n",
       "        vertical-align: top;\n",
       "    }\n",
       "\n",
       "    .dataframe thead th {\n",
       "        text-align: right;\n",
       "    }\n",
       "</style>\n",
       "<table border=\"1\" class=\"dataframe\">\n",
       "  <thead>\n",
       "    <tr style=\"text-align: right;\">\n",
       "      <th></th>\n",
       "      <th>payment_type_id</th>\n",
       "      <th>internet_service_type_id</th>\n",
       "      <th>contract_type_id</th>\n",
       "      <th>senior_citizen</th>\n",
       "      <th>tenure</th>\n",
       "      <th>monthly_charges</th>\n",
       "      <th>total_charges</th>\n",
       "      <th>is_female</th>\n",
       "      <th>has_partner</th>\n",
       "      <th>has_dependents</th>\n",
       "      <th>...</th>\n",
       "      <th>streaming_tv_Yes</th>\n",
       "      <th>streaming_movies_No internet service</th>\n",
       "      <th>streaming_movies_Yes</th>\n",
       "      <th>contract_type_One year</th>\n",
       "      <th>contract_type_Two year</th>\n",
       "      <th>internet_service_type_Fiber optic</th>\n",
       "      <th>internet_service_type_None</th>\n",
       "      <th>payment_type_Credit card (automatic)</th>\n",
       "      <th>payment_type_Electronic check</th>\n",
       "      <th>payment_type_Mailed check</th>\n",
       "    </tr>\n",
       "  </thead>\n",
       "  <tbody>\n",
       "    <tr>\n",
       "      <th>count</th>\n",
       "      <td>5273.000000</td>\n",
       "      <td>5273.000000</td>\n",
       "      <td>5273.000000</td>\n",
       "      <td>5273.000000</td>\n",
       "      <td>5273.000000</td>\n",
       "      <td>5273.000000</td>\n",
       "      <td>5273.000000</td>\n",
       "      <td>5273.000000</td>\n",
       "      <td>5273.000000</td>\n",
       "      <td>5273.000000</td>\n",
       "      <td>...</td>\n",
       "      <td>5273.000000</td>\n",
       "      <td>5273.000000</td>\n",
       "      <td>5273.000000</td>\n",
       "      <td>5273.000000</td>\n",
       "      <td>5273.000000</td>\n",
       "      <td>5273.000000</td>\n",
       "      <td>5273.000000</td>\n",
       "      <td>5273.000000</td>\n",
       "      <td>5273.000000</td>\n",
       "      <td>5273.000000</td>\n",
       "    </tr>\n",
       "    <tr>\n",
       "      <th>mean</th>\n",
       "      <td>2.324863</td>\n",
       "      <td>1.869903</td>\n",
       "      <td>1.690499</td>\n",
       "      <td>0.160250</td>\n",
       "      <td>32.558695</td>\n",
       "      <td>64.877954</td>\n",
       "      <td>2302.404295</td>\n",
       "      <td>0.491940</td>\n",
       "      <td>0.485682</td>\n",
       "      <td>0.296795</td>\n",
       "      <td>...</td>\n",
       "      <td>0.389342</td>\n",
       "      <td>0.215816</td>\n",
       "      <td>0.395600</td>\n",
       "      <td>0.213351</td>\n",
       "      <td>0.238574</td>\n",
       "      <td>0.438270</td>\n",
       "      <td>0.215816</td>\n",
       "      <td>0.220178</td>\n",
       "      <td>0.332069</td>\n",
       "      <td>0.231178</td>\n",
       "    </tr>\n",
       "    <tr>\n",
       "      <th>std</th>\n",
       "      <td>1.150684</td>\n",
       "      <td>0.738179</td>\n",
       "      <td>0.831257</td>\n",
       "      <td>0.366873</td>\n",
       "      <td>24.562214</td>\n",
       "      <td>30.123931</td>\n",
       "      <td>2274.643836</td>\n",
       "      <td>0.499982</td>\n",
       "      <td>0.499842</td>\n",
       "      <td>0.456889</td>\n",
       "      <td>...</td>\n",
       "      <td>0.487647</td>\n",
       "      <td>0.411427</td>\n",
       "      <td>0.489026</td>\n",
       "      <td>0.409712</td>\n",
       "      <td>0.426252</td>\n",
       "      <td>0.496222</td>\n",
       "      <td>0.411427</td>\n",
       "      <td>0.414406</td>\n",
       "      <td>0.471000</td>\n",
       "      <td>0.421626</td>\n",
       "    </tr>\n",
       "    <tr>\n",
       "      <th>min</th>\n",
       "      <td>1.000000</td>\n",
       "      <td>1.000000</td>\n",
       "      <td>1.000000</td>\n",
       "      <td>0.000000</td>\n",
       "      <td>1.000000</td>\n",
       "      <td>18.250000</td>\n",
       "      <td>18.800000</td>\n",
       "      <td>0.000000</td>\n",
       "      <td>0.000000</td>\n",
       "      <td>0.000000</td>\n",
       "      <td>...</td>\n",
       "      <td>0.000000</td>\n",
       "      <td>0.000000</td>\n",
       "      <td>0.000000</td>\n",
       "      <td>0.000000</td>\n",
       "      <td>0.000000</td>\n",
       "      <td>0.000000</td>\n",
       "      <td>0.000000</td>\n",
       "      <td>0.000000</td>\n",
       "      <td>0.000000</td>\n",
       "      <td>0.000000</td>\n",
       "    </tr>\n",
       "    <tr>\n",
       "      <th>25%</th>\n",
       "      <td>1.000000</td>\n",
       "      <td>1.000000</td>\n",
       "      <td>1.000000</td>\n",
       "      <td>0.000000</td>\n",
       "      <td>9.000000</td>\n",
       "      <td>35.550000</td>\n",
       "      <td>401.500000</td>\n",
       "      <td>0.000000</td>\n",
       "      <td>0.000000</td>\n",
       "      <td>0.000000</td>\n",
       "      <td>...</td>\n",
       "      <td>0.000000</td>\n",
       "      <td>0.000000</td>\n",
       "      <td>0.000000</td>\n",
       "      <td>0.000000</td>\n",
       "      <td>0.000000</td>\n",
       "      <td>0.000000</td>\n",
       "      <td>0.000000</td>\n",
       "      <td>0.000000</td>\n",
       "      <td>0.000000</td>\n",
       "      <td>0.000000</td>\n",
       "    </tr>\n",
       "    <tr>\n",
       "      <th>50%</th>\n",
       "      <td>2.000000</td>\n",
       "      <td>2.000000</td>\n",
       "      <td>1.000000</td>\n",
       "      <td>0.000000</td>\n",
       "      <td>29.000000</td>\n",
       "      <td>70.350000</td>\n",
       "      <td>1406.000000</td>\n",
       "      <td>0.000000</td>\n",
       "      <td>0.000000</td>\n",
       "      <td>0.000000</td>\n",
       "      <td>...</td>\n",
       "      <td>0.000000</td>\n",
       "      <td>0.000000</td>\n",
       "      <td>0.000000</td>\n",
       "      <td>0.000000</td>\n",
       "      <td>0.000000</td>\n",
       "      <td>0.000000</td>\n",
       "      <td>0.000000</td>\n",
       "      <td>0.000000</td>\n",
       "      <td>0.000000</td>\n",
       "      <td>0.000000</td>\n",
       "    </tr>\n",
       "    <tr>\n",
       "      <th>75%</th>\n",
       "      <td>3.000000</td>\n",
       "      <td>2.000000</td>\n",
       "      <td>2.000000</td>\n",
       "      <td>0.000000</td>\n",
       "      <td>56.000000</td>\n",
       "      <td>89.900000</td>\n",
       "      <td>3862.550000</td>\n",
       "      <td>1.000000</td>\n",
       "      <td>1.000000</td>\n",
       "      <td>1.000000</td>\n",
       "      <td>...</td>\n",
       "      <td>1.000000</td>\n",
       "      <td>0.000000</td>\n",
       "      <td>1.000000</td>\n",
       "      <td>0.000000</td>\n",
       "      <td>0.000000</td>\n",
       "      <td>1.000000</td>\n",
       "      <td>0.000000</td>\n",
       "      <td>0.000000</td>\n",
       "      <td>1.000000</td>\n",
       "      <td>0.000000</td>\n",
       "    </tr>\n",
       "    <tr>\n",
       "      <th>max</th>\n",
       "      <td>4.000000</td>\n",
       "      <td>3.000000</td>\n",
       "      <td>3.000000</td>\n",
       "      <td>1.000000</td>\n",
       "      <td>72.000000</td>\n",
       "      <td>118.750000</td>\n",
       "      <td>8672.450000</td>\n",
       "      <td>1.000000</td>\n",
       "      <td>1.000000</td>\n",
       "      <td>1.000000</td>\n",
       "      <td>...</td>\n",
       "      <td>1.000000</td>\n",
       "      <td>1.000000</td>\n",
       "      <td>1.000000</td>\n",
       "      <td>1.000000</td>\n",
       "      <td>1.000000</td>\n",
       "      <td>1.000000</td>\n",
       "      <td>1.000000</td>\n",
       "      <td>1.000000</td>\n",
       "      <td>1.000000</td>\n",
       "      <td>1.000000</td>\n",
       "    </tr>\n",
       "  </tbody>\n",
       "</table>\n",
       "<p>8 rows × 34 columns</p>\n",
       "</div>"
      ],
      "text/plain": [
       "       payment_type_id  internet_service_type_id  contract_type_id  \\\n",
       "count      5273.000000               5273.000000       5273.000000   \n",
       "mean          2.324863                  1.869903          1.690499   \n",
       "std           1.150684                  0.738179          0.831257   \n",
       "min           1.000000                  1.000000          1.000000   \n",
       "25%           1.000000                  1.000000          1.000000   \n",
       "50%           2.000000                  2.000000          1.000000   \n",
       "75%           3.000000                  2.000000          2.000000   \n",
       "max           4.000000                  3.000000          3.000000   \n",
       "\n",
       "       senior_citizen       tenure  monthly_charges  total_charges  \\\n",
       "count     5273.000000  5273.000000      5273.000000    5273.000000   \n",
       "mean         0.160250    32.558695        64.877954    2302.404295   \n",
       "std          0.366873    24.562214        30.123931    2274.643836   \n",
       "min          0.000000     1.000000        18.250000      18.800000   \n",
       "25%          0.000000     9.000000        35.550000     401.500000   \n",
       "50%          0.000000    29.000000        70.350000    1406.000000   \n",
       "75%          0.000000    56.000000        89.900000    3862.550000   \n",
       "max          1.000000    72.000000       118.750000    8672.450000   \n",
       "\n",
       "         is_female  has_partner  has_dependents  ...  streaming_tv_Yes  \\\n",
       "count  5273.000000  5273.000000     5273.000000  ...       5273.000000   \n",
       "mean      0.491940     0.485682        0.296795  ...          0.389342   \n",
       "std       0.499982     0.499842        0.456889  ...          0.487647   \n",
       "min       0.000000     0.000000        0.000000  ...          0.000000   \n",
       "25%       0.000000     0.000000        0.000000  ...          0.000000   \n",
       "50%       0.000000     0.000000        0.000000  ...          0.000000   \n",
       "75%       1.000000     1.000000        1.000000  ...          1.000000   \n",
       "max       1.000000     1.000000        1.000000  ...          1.000000   \n",
       "\n",
       "       streaming_movies_No internet service  streaming_movies_Yes  \\\n",
       "count                           5273.000000           5273.000000   \n",
       "mean                               0.215816              0.395600   \n",
       "std                                0.411427              0.489026   \n",
       "min                                0.000000              0.000000   \n",
       "25%                                0.000000              0.000000   \n",
       "50%                                0.000000              0.000000   \n",
       "75%                                0.000000              1.000000   \n",
       "max                                1.000000              1.000000   \n",
       "\n",
       "       contract_type_One year  contract_type_Two year  \\\n",
       "count             5273.000000             5273.000000   \n",
       "mean                 0.213351                0.238574   \n",
       "std                  0.409712                0.426252   \n",
       "min                  0.000000                0.000000   \n",
       "25%                  0.000000                0.000000   \n",
       "50%                  0.000000                0.000000   \n",
       "75%                  0.000000                0.000000   \n",
       "max                  1.000000                1.000000   \n",
       "\n",
       "       internet_service_type_Fiber optic  internet_service_type_None  \\\n",
       "count                        5273.000000                 5273.000000   \n",
       "mean                            0.438270                    0.215816   \n",
       "std                             0.496222                    0.411427   \n",
       "min                             0.000000                    0.000000   \n",
       "25%                             0.000000                    0.000000   \n",
       "50%                             0.000000                    0.000000   \n",
       "75%                             1.000000                    0.000000   \n",
       "max                             1.000000                    1.000000   \n",
       "\n",
       "       payment_type_Credit card (automatic)  payment_type_Electronic check  \\\n",
       "count                           5273.000000                    5273.000000   \n",
       "mean                               0.220178                       0.332069   \n",
       "std                                0.414406                       0.471000   \n",
       "min                                0.000000                       0.000000   \n",
       "25%                                0.000000                       0.000000   \n",
       "50%                                0.000000                       0.000000   \n",
       "75%                                0.000000                       1.000000   \n",
       "max                                1.000000                       1.000000   \n",
       "\n",
       "       payment_type_Mailed check  \n",
       "count                5273.000000  \n",
       "mean                    0.231178  \n",
       "std                     0.421626  \n",
       "min                     0.000000  \n",
       "25%                     0.000000  \n",
       "50%                     0.000000  \n",
       "75%                     0.000000  \n",
       "max                     1.000000  \n",
       "\n",
       "[8 rows x 34 columns]"
      ]
     },
     "execution_count": 4,
     "metadata": {},
     "output_type": "execute_result"
    }
   ],
   "source": [
    "# descriptive data\n",
    "train.describe()"
   ]
  },
  {
   "cell_type": "markdown",
   "id": "immediate-mirror",
   "metadata": {},
   "source": [
    "# Exploration of Data"
   ]
  },
  {
   "cell_type": "markdown",
   "id": "06331b40",
   "metadata": {},
   "source": [
    "## How often do customers churn?"
   ]
  },
  {
   "cell_type": "code",
   "execution_count": 5,
   "id": "67bc7025",
   "metadata": {},
   "outputs": [
    {
     "data": {
      "image/png": "[encoded data removed]",
      "text/plain": [
       "<Figure size 432x288 with 1 Axes>"
      ]
     },
     "metadata": {
      "needs_background": "light"
     },
     "output_type": "display_data"
    }
   ],
   "source": [
    "# get churn bar chart\n",
    "e.get_bar_churn(train)"
   ]
  },
  {
   "cell_type": "code",
   "execution_count": 6,
   "id": "d2baf2ba",
   "metadata": {},
   "outputs": [
    {
     "name": "stdout",
     "output_type": "stream",
     "text": [
      "No     0.734117\n",
      "Yes    0.265883\n",
      "Name: churn, dtype: float64\n"
     ]
    }
   ],
   "source": [
    "# get churn percentages\n",
    "e.churn_percentages(train)"
   ]
  },
  {
   "cell_type": "markdown",
   "id": "b463268b",
   "metadata": {},
   "source": [
    "* This data shows that about 26% of customers churn"
   ]
  },
  {
   "cell_type": "markdown",
   "id": "d4991143",
   "metadata": {},
   "source": [
    "## Statistical Questions Section\n",
    "\n",
    "* All tests are chi-square tests to investigate variables \n",
    "* Alpha will be .05 for each test with a confidence interval of 95%\n",
    "* All questions are comparing categorical variables to categorical variables"
   ]
  },
  {
   "cell_type": "markdown",
   "id": "b1cff94c",
   "metadata": {},
   "source": [
    "## Is there an association between churn and having phone service? "
   ]
  },
  {
   "cell_type": "code",
   "execution_count": 7,
   "id": "ed631dca",
   "metadata": {
    "scrolled": true
   },
   "outputs": [
    {
     "data": {
      "image/png": "[encoded data removed]",
      "text/plain": [
       "<Figure size 432x288 with 1 Axes>"
      ]
     },
     "metadata": {
      "needs_background": "light"
     },
     "output_type": "display_data"
    }
   ],
   "source": [
    "# generate count plot \n",
    "e.get_churn_and_phone(train)"
   ]
  },
  {
   "cell_type": "markdown",
   "id": "952bb06b",
   "metadata": {},
   "source": [
    "* Customers with phone service do not appear to churn frequently. \n"
   ]
  },
  {
   "cell_type": "markdown",
   "id": "e0b61ec0",
   "metadata": {},
   "source": [
    "Hypothesis: \n",
    "\n",
    "**Ho: There is no association between Churn and Phone Service.**<br>\n",
    "**Ha: There is an association between Churn and Phone Service.** "
   ]
  },
  {
   "cell_type": "code",
   "execution_count": 8,
   "id": "03fd9508",
   "metadata": {
    "scrolled": true
   },
   "outputs": [
    {
     "name": "stdout",
     "output_type": "stream",
     "text": [
      "chi^2 = 1.9934\n",
      "p     = 0.1579813801645912\n"
     ]
    }
   ],
   "source": [
    "# results of chi square test\n",
    "e.get_phone_chi(train)"
   ]
  },
  {
   "cell_type": "markdown",
   "id": "d1c5bed4",
   "metadata": {},
   "source": [
    "* I do not have evidence to support an association between churn and phone service.\n",
    "* The p-value is greater than alpha. \n",
    "* As a result this is a feature I will NOT use in my model."
   ]
  },
  {
   "cell_type": "markdown",
   "id": "f4b689fc",
   "metadata": {},
   "source": [
    "## Is there an association between churn and having techinical support?"
   ]
  },
  {
   "cell_type": "code",
   "execution_count": 9,
   "id": "04213316",
   "metadata": {},
   "outputs": [
    {
     "data": {
      "image/png": "[encoded data removed]",
      "text/plain": [
       "<Figure size 432x288 with 1 Axes>"
      ]
     },
     "metadata": {
      "needs_background": "light"
     },
     "output_type": "display_data"
    }
   ],
   "source": [
    "# display count plot \n",
    "e.get_tech_support_graph(train)"
   ]
  },
  {
   "cell_type": "markdown",
   "id": "9ef1e121",
   "metadata": {},
   "source": [
    "* The bar chart shows more than half of customers with  no tech support churn. \n"
   ]
  },
  {
   "cell_type": "code",
   "execution_count": 10,
   "id": "90f25a08",
   "metadata": {
    "scrolled": true
   },
   "outputs": [
    {
     "name": "stdout",
     "output_type": "stream",
     "text": [
      "chi^2 = 647.6749\n",
      "p     = 2.2865581269117635e-141\n"
     ]
    }
   ],
   "source": [
    "# results of chi square test\n",
    "e.get_tech_support_chi(train)"
   ]
  },
  {
   "cell_type": "markdown",
   "id": "fe8704b4",
   "metadata": {},
   "source": [
    "Hypothesis: \n",
    "\n",
    "**Ho: There is no association between Churn and Tech support.**<br>\n",
    "**Ha: There is an association between Churn and Tech support.** "
   ]
  },
  {
   "cell_type": "markdown",
   "id": "31d2f5bc",
   "metadata": {},
   "source": [
    "* This test supports an association between tech support and churn. \n",
    "* I will use this feature in my model because of the results of my test. \n",
    "*  The p-value is less than the alpha. \n"
   ]
  },
  {
   "cell_type": "markdown",
   "id": "504144c3",
   "metadata": {},
   "source": [
    "## Is there an association between churn and Internet Service Type?\n"
   ]
  },
  {
   "cell_type": "code",
   "execution_count": 11,
   "id": "32a14861",
   "metadata": {
    "scrolled": true
   },
   "outputs": [
    {
     "data": {
      "image/png": "[encoded data removed]",
      "text/plain": [
       "<Figure size 432x288 with 1 Axes>"
      ]
     },
     "metadata": {
      "needs_background": "light"
     },
     "output_type": "display_data"
    }
   ],
   "source": [
    "# generate count plot\n",
    "e.get_internet_graph(train)"
   ]
  },
  {
   "cell_type": "markdown",
   "id": "a318c0c5",
   "metadata": {},
   "source": [
    "* Most customers who Churn have Fiber Optic Internet Service\n"
   ]
  },
  {
   "cell_type": "code",
   "execution_count": 12,
   "id": "7555f2fa",
   "metadata": {},
   "outputs": [
    {
     "name": "stdout",
     "output_type": "stream",
     "text": [
      "chi^2 = 585.2706\n",
      "p     = 8.130192076012108e-128\n"
     ]
    }
   ],
   "source": [
    "# statistical test results\n",
    "e.get_internet_type_chi(train)"
   ]
  },
  {
   "cell_type": "markdown",
   "id": "e59be87d",
   "metadata": {},
   "source": [
    "Hypothesis: \n",
    "\n",
    "**Ho: There is no association between Churn and Internet Service Type.**<br>\n",
    "**Ha: There is an association between Churn and Internet Service Type.** "
   ]
  },
  {
   "cell_type": "markdown",
   "id": "b4ad1dff",
   "metadata": {},
   "source": [
    "* The test results support an association between the two variables\n",
    "* I will use this feature in my model because of the support for this assocition."
   ]
  },
  {
   "cell_type": "markdown",
   "id": "9194b44c",
   "metadata": {},
   "source": [
    "## Is there an association between churn and  Fiber Optic Internet?"
   ]
  },
  {
   "cell_type": "code",
   "execution_count": 13,
   "id": "2fc7ca07",
   "metadata": {},
   "outputs": [
    {
     "data": {
      "image/png": "[encoded data removed]",
      "text/plain": [
       "<Figure size 432x288 with 1 Axes>"
      ]
     },
     "metadata": {
      "needs_background": "light"
     },
     "output_type": "display_data"
    }
   ],
   "source": [
    "# generate count plot\n",
    "e.get_internet_graph(train)"
   ]
  },
  {
   "cell_type": "markdown",
   "id": "5eafbba9",
   "metadata": {},
   "source": [
    "* There are a large amount of Fiber Optic customers who churn and this is worth investigating"
   ]
  },
  {
   "cell_type": "code",
   "execution_count": 14,
   "id": "c55fc8aa",
   "metadata": {},
   "outputs": [
    {
     "name": "stdout",
     "output_type": "stream",
     "text": [
      "chi^2 = 537.4962\n",
      "p     = 6.608799714670794e-119\n"
     ]
    }
   ],
   "source": [
    "# statistical test results\n",
    "e.get_fiber_chi(train)"
   ]
  },
  {
   "cell_type": "markdown",
   "id": "0523212d",
   "metadata": {},
   "source": [
    "Hypothesis: \n",
    "\n",
    "**Ho: There is no association between Churn and Fiber Optic Internet.**<br>\n",
    "**Ha: There is an association between Churn and Fiber Optic Internet.** "
   ]
  },
  {
   "cell_type": "markdown",
   "id": "bd6f01a1",
   "metadata": {},
   "source": [
    "* The test supports an association between the two variables\n",
    "* I will use this feature in my model because of the support for this assocition."
   ]
  },
  {
   "cell_type": "markdown",
   "id": "f6dfd052",
   "metadata": {},
   "source": [
    "## Is there an association between churn and contract type?"
   ]
  },
  {
   "cell_type": "code",
   "execution_count": 15,
   "id": "4205dcc4",
   "metadata": {},
   "outputs": [
    {
     "data": {
      "image/png": "[encoded data removed]",
      "text/plain": [
       "<Figure size 432x288 with 1 Axes>"
      ]
     },
     "metadata": {
      "needs_background": "light"
     },
     "output_type": "display_data"
    }
   ],
   "source": [
    "# generate count plot\n",
    "e.get_contract_graph(train)"
   ]
  },
  {
   "cell_type": "markdown",
   "id": "a070943d",
   "metadata": {},
   "source": [
    "* More than 50% of customers on month to month contracts churn"
   ]
  },
  {
   "cell_type": "code",
   "execution_count": 16,
   "id": "681eb08d",
   "metadata": {},
   "outputs": [
    {
     "name": "stdout",
     "output_type": "stream",
     "text": [
      "chi^2 = 585.2706\n",
      "p     = 8.130192076012108e-128\n"
     ]
    }
   ],
   "source": [
    "# statistical test results\n",
    "e.get_contract_chi(train)"
   ]
  },
  {
   "cell_type": "markdown",
   "id": "f091b66e",
   "metadata": {},
   "source": [
    "Hypothesis: \n",
    "\n",
    "**Ho: There is no association between Churn and Contract Type.**<br>\n",
    "**Ha: There is an association between Churn and Contract Type.** "
   ]
  },
  {
   "cell_type": "markdown",
   "id": "314c8208",
   "metadata": {},
   "source": [
    "* There is support for an association between the two variables\n",
    "* The p value is less than alpha and provides evidence to \n",
    "* This feature will be used for my model because of this support of an association between these two variables."
   ]
  },
  {
   "cell_type": "markdown",
   "id": "iraqi-sellers",
   "metadata": {},
   "source": [
    "## Exploration Summary\n",
    "\n",
    "* Approximately 26% of customers churn.\n",
    "* The features used for modeling will be Tech Support, Fiber Optic Internet, Internet Service Type and Contract Type\n",
    "* The chi square tests provide support between Churn and Tech Support, Fiber Optic Internet,Internet Service Type as well as Contract Type\n",
    "* More than 50% of customers on month to month contracts churn\n",
    "* Most customers who Churn have Fiber Optic internet service\n",
    "* More than half of customers with  no tech support churn\n",
    "* There was no evidence to support an association between Churn and Phone Service so this feature will not be used for modeling\n"
   ]
  },
  {
   "cell_type": "markdown",
   "id": "e425bd6d",
   "metadata": {},
   "source": [
    "## Features included in Models\n",
    "\n",
    "* The features for my models are Tech Support, Fiber Optic Internet, Internet Service Type and Contract Type\n",
    "* These features showed an association with churn after completing my statistical tests\n",
    "\n",
    "\n"
   ]
  },
  {
   "cell_type": "markdown",
   "id": "6fcef727",
   "metadata": {},
   "source": [
    "## Features NOT included in Model\n",
    "\n",
    "* Phone service will not be included in my Model\n",
    "* There was not an association between Phone Service and Churn based on the statistical test."
   ]
  },
  {
   "cell_type": "markdown",
   "id": "minus-tulsa",
   "metadata": {},
   "source": [
    "## Modeling"
   ]
  },
  {
   "cell_type": "markdown",
   "id": "hydraulic-spectrum",
   "metadata": {},
   "source": [
    "### Introduction\n",
    "\n",
    "* I will use accuracy as my evaluation metric because I do not have a monetary value to associate with the churn of a customer\n",
    "* ~ 73% of customers don't churn \n",
    "* My baseline model assumes every customer does not churn and this results in an accuracy of 73%\n",
    "* Models will be evaluated on train and validate data sets \n",
    "* The model that performs the best will be evaluated on the test data"
   ]
  },
  {
   "cell_type": "code",
   "execution_count": 17,
   "id": "ranging-rebecca",
   "metadata": {},
   "outputs": [
    {
     "name": "stdout",
     "output_type": "stream",
     "text": [
      "Baseline accuracy: 0.73\n"
     ]
    }
   ],
   "source": [
    "# establish baseline model\n",
    "m.baseline(train)"
   ]
  },
  {
   "cell_type": "markdown",
   "id": "emotional-purchase",
   "metadata": {},
   "source": [
    "## Best Models"
   ]
  },
  {
   "cell_type": "code",
   "execution_count": 18,
   "id": "colonial-newport",
   "metadata": {
    "scrolled": true
   },
   "outputs": [],
   "source": [
    "# prepare data for models\n",
    "X_train, X_validate, y_train, y_validate, X_test, y_test = m.model_columns(train,validate,test)"
   ]
  },
  {
   "cell_type": "markdown",
   "id": "intensive-vietnamese",
   "metadata": {},
   "source": [
    "### Decision Tree  - Model 1"
   ]
  },
  {
   "cell_type": "code",
   "execution_count": 19,
   "id": "09c98279",
   "metadata": {},
   "outputs": [
    {
     "name": "stdout",
     "output_type": "stream",
     "text": [
      "Accuracy of Decision Tree classifier on training set: 0.77\n",
      "Accuracy of Decision Tree classifier on validate set: 0.74\n"
     ]
    }
   ],
   "source": [
    "# test model on train and validate data \n",
    "m.decision_tree_model(X_train, X_validate, y_train, y_validate)"
   ]
  },
  {
   "cell_type": "markdown",
   "id": "c63904fa",
   "metadata": {},
   "source": [
    "* Decision Tree accuracy is 4% better than the baseline on training data\n",
    "* Decision Tree accuracy is 1% better than the baseline on the validate data "
   ]
  },
  {
   "cell_type": "markdown",
   "id": "b6da2d06",
   "metadata": {},
   "source": [
    "### Random Forrest - Model 2"
   ]
  },
  {
   "cell_type": "code",
   "execution_count": 20,
   "id": "a206707a",
   "metadata": {},
   "outputs": [
    {
     "name": "stdout",
     "output_type": "stream",
     "text": [
      "Accuracy of Random Forrest classifier on training set: 0.78\n",
      "Accuracy of Random Forrest classifier on validate set: 0.76\n"
     ]
    }
   ],
   "source": [
    "# test model on train and validate data \n",
    "m.random_forrest_model(X_train, X_validate, y_train, y_validate)"
   ]
  },
  {
   "cell_type": "markdown",
   "id": "b5812fce",
   "metadata": {},
   "source": [
    "* Random Forrest accuracy is 5% better than the baseline on the training set\n",
    "* Random Forrest accuracy is 3% better than the baseline on the validate set"
   ]
  },
  {
   "cell_type": "markdown",
   "id": "c401cbf0",
   "metadata": {},
   "source": [
    "### Knn - Model 3 "
   ]
  },
  {
   "cell_type": "code",
   "execution_count": 21,
   "id": "39c240af",
   "metadata": {},
   "outputs": [
    {
     "name": "stdout",
     "output_type": "stream",
     "text": [
      "Accuracy of KNN classifier on training set: 0.73\n"
     ]
    }
   ],
   "source": [
    "# test model on train data\n",
    "m.knn_model(X_train, y_train)"
   ]
  },
  {
   "cell_type": "markdown",
   "id": "9b36571a",
   "metadata": {},
   "source": [
    "* Knn model is the same as the baseline and was not tested on the validate data"
   ]
  },
  {
   "cell_type": "markdown",
   "id": "54578dbb",
   "metadata": {},
   "source": [
    "### Logistic Regression - Model 4"
   ]
  },
  {
   "cell_type": "code",
   "execution_count": 22,
   "id": "c8b22bac",
   "metadata": {},
   "outputs": [
    {
     "name": "stdout",
     "output_type": "stream",
     "text": [
      "Accuracy of Logistic Regression classifier on training set: 0.78\n",
      "Accuracy of Logistic Regression classifier on validate set: 0.76\n"
     ]
    }
   ],
   "source": [
    "# test model on train and validate data \n",
    "m.logistic_regression_model(X_train, X_validate, y_train, y_validate)"
   ]
  },
  {
   "cell_type": "markdown",
   "id": "a58ad973",
   "metadata": {},
   "source": [
    "* Logistic Regression accuracy is 5% better than the baseline on the training set\n",
    "* Logistic Regression accuracy is 3% better than the baseline on the validate set\n",
    "* This is the model I will use on my test data."
   ]
  },
  {
   "cell_type": "markdown",
   "id": "regulated-fellowship",
   "metadata": {},
   "source": [
    "## Test Model\n",
    "* I will run my logistic regression model on my test data"
   ]
  },
  {
   "cell_type": "code",
   "execution_count": 23,
   "id": "optical-quilt",
   "metadata": {},
   "outputs": [
    {
     "name": "stdout",
     "output_type": "stream",
     "text": [
      "Accuracy of Logistic Regression classifier on test set: 0.77\n"
     ]
    }
   ],
   "source": [
    "# test best model on test data\n",
    "m.test_model(X_test, y_test)"
   ]
  },
  {
   "cell_type": "markdown",
   "id": "bright-evans",
   "metadata": {},
   "source": [
    "### Modeling Wrap \n",
    "\n",
    "* I would recommend this model for production because it does not over fit the data and it performs 4% better than the baseline"
   ]
  },
  {
   "cell_type": "markdown",
   "id": "tutorial-twelve",
   "metadata": {},
   "source": [
    "## Conclusion\n",
    "\n",
    "### Summary\n",
    "* 26% of customers churn \n",
    "* Statistical evidence supports an association between churn and tech support, internet service, fiber optic internet and contract type respectively \n",
    "* The drivers I used were supported by statistical tests and I believe this is why my final model was able to perform above the baseline\n",
    "* There is not an association between phone service and churn \n",
    "\n",
    "\n",
    "### Modeling Summary \n",
    "* The final model performed 4% better than the baseline\n",
    "* I would recommend this model for production because it does not over fit the data and and performed better than baseline\n",
    "\n",
    "\n",
    "### Recommendations\n",
    "* Gather qualitative and quantitative data from customer's about the performance of the fiber optic internet \n",
    "* Solicit for quantitative and qualitative data on why customer's select month to month contracts \n",
    "* Review incentives offered for each contract type. \n",
    "\n",
    "### Next Steps\n",
    "* I would like to use the financial data to determine the mean value of churn per customer\n",
    "* Look for more drivers to develop a better performing model "
   ]
  },
  {
   "cell_type": "code",
   "execution_count": null,
   "id": "f092805a",
   "metadata": {},
   "outputs": [],
   "source": []
  }
 ],
 "metadata": {
  "kernelspec": {
   "display_name": "Python 3 (ipykernel)",
   "language": "python",
   "name": "python3"
  },
  "language_info": {
   "codemirror_mode": {
    "name": "ipython",
    "version": 3
   },
   "file_extension": ".py",
   "mimetype": "text/x-python",
   "name": "python",
   "nbconvert_exporter": "python",
   "pygments_lexer": "ipython3",
   "version": "3.9.12"
  }
 },
 "nbformat": 4,
 "nbformat_minor": 5
}
